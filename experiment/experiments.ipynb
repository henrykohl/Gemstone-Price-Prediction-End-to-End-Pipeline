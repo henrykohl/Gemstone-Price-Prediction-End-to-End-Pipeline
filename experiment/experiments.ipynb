{
  "cells": [
    {
      "cell_type": "markdown",
      "source": [
        "* 建立 `requirements_dev.txt` (去掉 `-e .`)"
      ],
      "metadata": {
        "id": "UvJ-o_OkTUem"
      }
    },
    {
      "cell_type": "code",
      "source": [
        "!pip install -q condacolab\n",
        "import condacolab\n",
        "condacolab.install() # expect a kernel restart"
      ],
      "metadata": {
        "id": "Gk8K6oEEs2Bl",
        "outputId": "684113bf-f51c-4912-af78-f81c4c513dff",
        "colab": {
          "base_uri": "https://localhost:8080/"
        }
      },
      "execution_count": 1,
      "outputs": [
        {
          "output_type": "stream",
          "name": "stdout",
          "text": [
            "⏬ Downloading https://github.com/jaimergp/miniforge/releases/download/24.11.2-1_colab/Miniforge3-colab-24.11.2-1_colab-Linux-x86_64.sh...\n",
            "📦 Installing...\n",
            "📌 Adjusting configuration...\n",
            "🩹 Patching environment...\n",
            "⏲ Done in 0:00:12\n",
            "🔁 Restarting kernel...\n"
          ]
        }
      ]
    },
    {
      "cell_type": "code",
      "source": [
        "!conda create -p env python=3.8 -y -q"
      ],
      "metadata": {
        "collapsed": true,
        "id": "xtZgMFkFOwnW",
        "outputId": "4caac1c4-51cc-4b53-c117-6cf73adaa6c0",
        "colab": {
          "base_uri": "https://localhost:8080/"
        }
      },
      "execution_count": 2,
      "outputs": [
        {
          "output_type": "stream",
          "name": "stdout",
          "text": [
            "Channels:\n",
            " - conda-forge\n",
            "Platform: linux-64\n",
            "Collecting package metadata (repodata.json): ...working... done\n",
            "Solving environment: ...working... done\n",
            "\n",
            "## Package Plan ##\n",
            "\n",
            "  environment location: /content/env\n",
            "\n",
            "  added / updated specs:\n",
            "    - python=3.8\n",
            "\n",
            "\n",
            "The following packages will be downloaded:\n",
            "\n",
            "    package                    |            build\n",
            "    ---------------------------|-----------------\n",
            "    ca-certificates-2025.7.14  |       hbd8a1cb_0         152 KB  conda-forge\n",
            "    ld_impl_linux-64-2.44      |       h1423503_1         660 KB  conda-forge\n",
            "    libffi-3.4.6               |       h2dba641_1          56 KB  conda-forge\n",
            "    libgcc-15.1.0              |       h767d61c_4         805 KB  conda-forge\n",
            "    libgcc-ng-15.1.0           |       h69a702a_4          29 KB  conda-forge\n",
            "    libgomp-15.1.0             |       h767d61c_4         437 KB  conda-forge\n",
            "    liblzma-5.8.1              |       hb9d3cd8_2         110 KB  conda-forge\n",
            "    liblzma-devel-5.8.1        |       hb9d3cd8_2         430 KB  conda-forge\n",
            "    libnsl-2.0.1               |       hb9d3cd8_1          33 KB  conda-forge\n",
            "    libsqlite-3.50.4           |       h0c1763c_0         911 KB  conda-forge\n",
            "    ncurses-6.5                |       h2d0b736_3         871 KB  conda-forge\n",
            "    openssl-3.5.1              |       h7b32b05_0         3.0 MB  conda-forge\n",
            "    pip-24.3.1                 |     pyh8b19718_0         1.2 MB  conda-forge\n",
            "    python-3.8.20              |h4a871b0_2_cpython        21.1 MB  conda-forge\n",
            "    readline-8.2               |       h8c095d6_2         276 KB  conda-forge\n",
            "    setuptools-75.3.0          |     pyhd8ed1ab_0         761 KB  conda-forge\n",
            "    tk-8.6.13                  |noxft_hd72426e_102         3.1 MB  conda-forge\n",
            "    wheel-0.45.1               |     pyhd8ed1ab_0          62 KB  conda-forge\n",
            "    xz-5.8.1                   |       hbcc6ac9_2          23 KB  conda-forge\n",
            "    xz-gpl-tools-5.8.1         |       hbcc6ac9_2          33 KB  conda-forge\n",
            "    xz-tools-5.8.1             |       hb9d3cd8_2          94 KB  conda-forge\n",
            "    ------------------------------------------------------------\n",
            "                                           Total:        34.1 MB\n",
            "\n",
            "The following NEW packages will be INSTALLED:\n",
            "\n",
            "  _libgcc_mutex      conda-forge/linux-64::_libgcc_mutex-0.1-conda_forge \n",
            "  _openmp_mutex      conda-forge/linux-64::_openmp_mutex-4.5-2_gnu \n",
            "  bzip2              conda-forge/linux-64::bzip2-1.0.8-h4bc722e_7 \n",
            "  ca-certificates    conda-forge/noarch::ca-certificates-2025.7.14-hbd8a1cb_0 \n",
            "  ld_impl_linux-64   conda-forge/linux-64::ld_impl_linux-64-2.44-h1423503_1 \n",
            "  libffi             conda-forge/linux-64::libffi-3.4.6-h2dba641_1 \n",
            "  libgcc             conda-forge/linux-64::libgcc-15.1.0-h767d61c_4 \n",
            "  libgcc-ng          conda-forge/linux-64::libgcc-ng-15.1.0-h69a702a_4 \n",
            "  libgomp            conda-forge/linux-64::libgomp-15.1.0-h767d61c_4 \n",
            "  liblzma            conda-forge/linux-64::liblzma-5.8.1-hb9d3cd8_2 \n",
            "  liblzma-devel      conda-forge/linux-64::liblzma-devel-5.8.1-hb9d3cd8_2 \n",
            "  libnsl             conda-forge/linux-64::libnsl-2.0.1-hb9d3cd8_1 \n",
            "  libsqlite          conda-forge/linux-64::libsqlite-3.50.4-h0c1763c_0 \n",
            "  libuuid            conda-forge/linux-64::libuuid-2.38.1-h0b41bf4_0 \n",
            "  libxcrypt          conda-forge/linux-64::libxcrypt-4.4.36-hd590300_1 \n",
            "  libzlib            conda-forge/linux-64::libzlib-1.3.1-hb9d3cd8_2 \n",
            "  ncurses            conda-forge/linux-64::ncurses-6.5-h2d0b736_3 \n",
            "  openssl            conda-forge/linux-64::openssl-3.5.1-h7b32b05_0 \n",
            "  pip                conda-forge/noarch::pip-24.3.1-pyh8b19718_0 \n",
            "  python             conda-forge/linux-64::python-3.8.20-h4a871b0_2_cpython \n",
            "  readline           conda-forge/linux-64::readline-8.2-h8c095d6_2 \n",
            "  setuptools         conda-forge/noarch::setuptools-75.3.0-pyhd8ed1ab_0 \n",
            "  tk                 conda-forge/linux-64::tk-8.6.13-noxft_hd72426e_102 \n",
            "  wheel              conda-forge/noarch::wheel-0.45.1-pyhd8ed1ab_0 \n",
            "  xz                 conda-forge/linux-64::xz-5.8.1-hbcc6ac9_2 \n",
            "  xz-gpl-tools       conda-forge/linux-64::xz-gpl-tools-5.8.1-hbcc6ac9_2 \n",
            "  xz-tools           conda-forge/linux-64::xz-tools-5.8.1-hb9d3cd8_2 \n",
            "\n",
            "\n",
            "Preparing transaction: ...working... done\n",
            "Verifying transaction: ...working... done\n",
            "Executing transaction: ...working... done\n"
          ]
        }
      ]
    },
    {
      "cell_type": "code",
      "source": [
        "%%writefile requirements_dev.txt\n",
        "pandas\n",
        "scikit-learn\n",
        "numpy\n",
        "seaborn\n",
        "flask\n",
        "mlflow==2.2.2\n",
        "dvc\n",
        "ipykernel\n",
        "xgboost\n",
        "\n",
        "# dev requirements -\n",
        "\n",
        "pytest==7.1.3\n",
        "tox==3.25.1\n",
        "black==22.8.0\n",
        "flake8==5.0.4\n",
        "mypy==0.971"
      ],
      "metadata": {
        "id": "phuTXyJB3FNs",
        "outputId": "90042598-d39b-44f4-e169-d8fcd86ec584",
        "colab": {
          "base_uri": "https://localhost:8080/"
        }
      },
      "execution_count": 1,
      "outputs": [
        {
          "output_type": "stream",
          "name": "stdout",
          "text": [
            "Writing requirements_dev.txt\n"
          ]
        }
      ]
    },
    {
      "cell_type": "code",
      "source": [
        "!source activate ./env; pip install -r requirements_dev.txt"
      ],
      "metadata": {
        "collapsed": true,
        "id": "RTBGwaAkPFi2",
        "outputId": "6a356a59-2445-4a49-8753-d1a4a7e5cfef",
        "colab": {
          "base_uri": "https://localhost:8080/"
        }
      },
      "execution_count": 2,
      "outputs": [
        {
          "output_type": "stream",
          "name": "stdout",
          "text": [
            "Collecting pandas (from -r requirements_dev.txt (line 1))\n",
            "  Downloading pandas-2.0.3-cp38-cp38-manylinux_2_17_x86_64.manylinux2014_x86_64.whl.metadata (18 kB)\n",
            "Collecting scikit-learn (from -r requirements_dev.txt (line 2))\n",
            "  Downloading scikit_learn-1.3.2-cp38-cp38-manylinux_2_17_x86_64.manylinux2014_x86_64.whl.metadata (11 kB)\n",
            "Collecting numpy (from -r requirements_dev.txt (line 3))\n",
            "  Downloading numpy-1.24.4-cp38-cp38-manylinux_2_17_x86_64.manylinux2014_x86_64.whl.metadata (5.6 kB)\n",
            "Collecting seaborn (from -r requirements_dev.txt (line 4))\n",
            "  Downloading seaborn-0.13.2-py3-none-any.whl.metadata (5.4 kB)\n",
            "Collecting flask (from -r requirements_dev.txt (line 5))\n",
            "  Downloading flask-3.0.3-py3-none-any.whl.metadata (3.2 kB)\n",
            "Collecting mlflow==2.2.2 (from -r requirements_dev.txt (line 6))\n",
            "  Downloading mlflow-2.2.2-py3-none-any.whl.metadata (11 kB)\n",
            "Collecting dvc (from -r requirements_dev.txt (line 7))\n",
            "  Downloading dvc-3.42.0-py3-none-any.whl.metadata (17 kB)\n",
            "Collecting ipykernel (from -r requirements_dev.txt (line 8))\n",
            "  Downloading ipykernel-6.29.5-py3-none-any.whl.metadata (6.3 kB)\n",
            "Collecting xgboost (from -r requirements_dev.txt (line 9))\n",
            "  Downloading xgboost-2.1.4-py3-none-manylinux_2_28_x86_64.whl.metadata (2.1 kB)\n",
            "Collecting pytest==7.1.3 (from -r requirements_dev.txt (line 13))\n",
            "  Downloading pytest-7.1.3-py3-none-any.whl.metadata (7.7 kB)\n",
            "Collecting tox==3.25.1 (from -r requirements_dev.txt (line 14))\n",
            "  Downloading tox-3.25.1-py2.py3-none-any.whl.metadata (7.5 kB)\n",
            "Collecting black==22.8.0 (from -r requirements_dev.txt (line 15))\n",
            "  Downloading black-22.8.0-cp38-cp38-manylinux_2_17_x86_64.manylinux2014_x86_64.whl.metadata (49 kB)\n",
            "Collecting flake8==5.0.4 (from -r requirements_dev.txt (line 16))\n",
            "  Downloading flake8-5.0.4-py2.py3-none-any.whl.metadata (4.1 kB)\n",
            "Collecting mypy==0.971 (from -r requirements_dev.txt (line 17))\n",
            "  Downloading mypy-0.971-cp38-cp38-manylinux_2_5_x86_64.manylinux1_x86_64.manylinux_2_12_x86_64.manylinux2010_x86_64.whl.metadata (1.8 kB)\n",
            "Collecting click<9,>=7.0 (from mlflow==2.2.2->-r requirements_dev.txt (line 6))\n",
            "  Downloading click-8.1.8-py3-none-any.whl.metadata (2.3 kB)\n",
            "Collecting cloudpickle<3 (from mlflow==2.2.2->-r requirements_dev.txt (line 6))\n",
            "  Downloading cloudpickle-2.2.1-py3-none-any.whl.metadata (6.9 kB)\n",
            "Collecting databricks-cli<1,>=0.8.7 (from mlflow==2.2.2->-r requirements_dev.txt (line 6))\n",
            "  Downloading databricks_cli-0.18.0-py2.py3-none-any.whl.metadata (4.0 kB)\n",
            "Collecting entrypoints<1 (from mlflow==2.2.2->-r requirements_dev.txt (line 6))\n",
            "  Downloading entrypoints-0.4-py3-none-any.whl.metadata (2.6 kB)\n",
            "Collecting gitpython<4,>=2.1.0 (from mlflow==2.2.2->-r requirements_dev.txt (line 6))\n",
            "  Downloading gitpython-3.1.45-py3-none-any.whl.metadata (13 kB)\n",
            "Collecting pyyaml<7,>=5.1 (from mlflow==2.2.2->-r requirements_dev.txt (line 6))\n",
            "  Downloading PyYAML-6.0.2-cp38-cp38-manylinux_2_17_x86_64.manylinux2014_x86_64.whl.metadata (2.1 kB)\n",
            "Collecting protobuf<5,>=3.12.0 (from mlflow==2.2.2->-r requirements_dev.txt (line 6))\n",
            "  Downloading protobuf-4.25.8-cp37-abi3-manylinux2014_x86_64.whl.metadata (541 bytes)\n",
            "Collecting pytz<2023 (from mlflow==2.2.2->-r requirements_dev.txt (line 6))\n",
            "  Downloading pytz-2022.7.1-py2.py3-none-any.whl.metadata (21 kB)\n",
            "Collecting requests<3,>=2.17.3 (from mlflow==2.2.2->-r requirements_dev.txt (line 6))\n",
            "  Downloading requests-2.32.4-py3-none-any.whl.metadata (4.9 kB)\n",
            "Collecting packaging<24 (from mlflow==2.2.2->-r requirements_dev.txt (line 6))\n",
            "  Downloading packaging-23.2-py3-none-any.whl.metadata (3.2 kB)\n",
            "Collecting importlib-metadata!=4.7.0,<7,>=3.7.0 (from mlflow==2.2.2->-r requirements_dev.txt (line 6))\n",
            "  Downloading importlib_metadata-6.11.0-py3-none-any.whl.metadata (4.9 kB)\n",
            "Collecting sqlparse<1,>=0.4.0 (from mlflow==2.2.2->-r requirements_dev.txt (line 6))\n",
            "  Downloading sqlparse-0.5.3-py3-none-any.whl.metadata (3.9 kB)\n",
            "Collecting alembic<2 (from mlflow==2.2.2->-r requirements_dev.txt (line 6))\n",
            "  Downloading alembic-1.14.1-py3-none-any.whl.metadata (7.4 kB)\n",
            "Collecting docker<7,>=4.0.0 (from mlflow==2.2.2->-r requirements_dev.txt (line 6))\n",
            "  Downloading docker-6.1.3-py3-none-any.whl.metadata (3.5 kB)\n",
            "Collecting flask (from -r requirements_dev.txt (line 5))\n",
            "  Downloading flask-2.3.3-py3-none-any.whl.metadata (3.6 kB)\n",
            "Collecting scipy<2 (from mlflow==2.2.2->-r requirements_dev.txt (line 6))\n",
            "  Downloading scipy-1.10.1-cp38-cp38-manylinux_2_17_x86_64.manylinux2014_x86_64.whl.metadata (58 kB)\n",
            "Collecting querystring-parser<2 (from mlflow==2.2.2->-r requirements_dev.txt (line 6))\n",
            "  Downloading querystring_parser-1.2.4-py2.py3-none-any.whl.metadata (559 bytes)\n",
            "Collecting sqlalchemy<3,>=1.4.0 (from mlflow==2.2.2->-r requirements_dev.txt (line 6))\n",
            "  Downloading sqlalchemy-2.0.42-cp38-cp38-manylinux_2_17_x86_64.manylinux2014_x86_64.whl.metadata (9.6 kB)\n",
            "Collecting pyarrow<12,>=4.0.0 (from mlflow==2.2.2->-r requirements_dev.txt (line 6))\n",
            "  Downloading pyarrow-11.0.0-cp38-cp38-manylinux_2_17_x86_64.manylinux2014_x86_64.whl.metadata (3.0 kB)\n",
            "Collecting shap<1,>=0.40 (from mlflow==2.2.2->-r requirements_dev.txt (line 6))\n",
            "  Downloading shap-0.44.1-cp38-cp38-manylinux_2_12_x86_64.manylinux2010_x86_64.manylinux_2_17_x86_64.manylinux2014_x86_64.whl.metadata (24 kB)\n",
            "Collecting markdown<4,>=3.3 (from mlflow==2.2.2->-r requirements_dev.txt (line 6))\n",
            "  Downloading Markdown-3.7-py3-none-any.whl.metadata (7.0 kB)\n",
            "Collecting matplotlib<4 (from mlflow==2.2.2->-r requirements_dev.txt (line 6))\n",
            "  Downloading matplotlib-3.7.5-cp38-cp38-manylinux_2_12_x86_64.manylinux2010_x86_64.whl.metadata (5.7 kB)\n",
            "Collecting gunicorn<21 (from mlflow==2.2.2->-r requirements_dev.txt (line 6))\n",
            "  Downloading gunicorn-20.1.0-py3-none-any.whl.metadata (3.8 kB)\n",
            "Collecting Jinja2<4,>=2.11 (from mlflow==2.2.2->-r requirements_dev.txt (line 6))\n",
            "  Downloading jinja2-3.1.6-py3-none-any.whl.metadata (2.9 kB)\n",
            "Collecting attrs>=19.2.0 (from pytest==7.1.3->-r requirements_dev.txt (line 13))\n",
            "  Downloading attrs-25.3.0-py3-none-any.whl.metadata (10 kB)\n",
            "Collecting iniconfig (from pytest==7.1.3->-r requirements_dev.txt (line 13))\n",
            "  Downloading iniconfig-2.1.0-py3-none-any.whl.metadata (2.7 kB)\n",
            "Collecting pluggy<2.0,>=0.12 (from pytest==7.1.3->-r requirements_dev.txt (line 13))\n",
            "  Downloading pluggy-1.5.0-py3-none-any.whl.metadata (4.8 kB)\n",
            "Collecting py>=1.8.2 (from pytest==7.1.3->-r requirements_dev.txt (line 13))\n",
            "  Downloading py-1.11.0-py2.py3-none-any.whl.metadata (2.8 kB)\n",
            "Collecting tomli>=1.0.0 (from pytest==7.1.3->-r requirements_dev.txt (line 13))\n",
            "  Downloading tomli-2.2.1-py3-none-any.whl.metadata (10 kB)\n",
            "Collecting filelock>=3.0.0 (from tox==3.25.1->-r requirements_dev.txt (line 14))\n",
            "  Downloading filelock-3.16.1-py3-none-any.whl.metadata (2.9 kB)\n",
            "Collecting six>=1.14.0 (from tox==3.25.1->-r requirements_dev.txt (line 14))\n",
            "  Downloading six-1.17.0-py2.py3-none-any.whl.metadata (1.7 kB)\n",
            "Collecting toml>=0.9.4 (from tox==3.25.1->-r requirements_dev.txt (line 14))\n",
            "  Downloading toml-0.10.2-py2.py3-none-any.whl.metadata (7.1 kB)\n",
            "Collecting virtualenv!=20.0.0,!=20.0.1,!=20.0.2,!=20.0.3,!=20.0.4,!=20.0.5,!=20.0.6,!=20.0.7,>=16.0.0 (from tox==3.25.1->-r requirements_dev.txt (line 14))\n",
            "  Downloading virtualenv-20.32.0-py3-none-any.whl.metadata (4.5 kB)\n",
            "Collecting platformdirs>=2 (from black==22.8.0->-r requirements_dev.txt (line 15))\n",
            "  Downloading platformdirs-4.3.6-py3-none-any.whl.metadata (11 kB)\n",
            "Collecting pathspec>=0.9.0 (from black==22.8.0->-r requirements_dev.txt (line 15))\n",
            "  Downloading pathspec-0.12.1-py3-none-any.whl.metadata (21 kB)\n",
            "Collecting mypy-extensions>=0.4.3 (from black==22.8.0->-r requirements_dev.txt (line 15))\n",
            "  Downloading mypy_extensions-1.1.0-py3-none-any.whl.metadata (1.1 kB)\n",
            "Collecting typing-extensions>=3.10.0.0 (from black==22.8.0->-r requirements_dev.txt (line 15))\n",
            "  Downloading typing_extensions-4.13.2-py3-none-any.whl.metadata (3.0 kB)\n",
            "Collecting mccabe<0.8.0,>=0.7.0 (from flake8==5.0.4->-r requirements_dev.txt (line 16))\n",
            "  Downloading mccabe-0.7.0-py2.py3-none-any.whl.metadata (5.0 kB)\n",
            "Collecting pycodestyle<2.10.0,>=2.9.0 (from flake8==5.0.4->-r requirements_dev.txt (line 16))\n",
            "  Downloading pycodestyle-2.9.1-py2.py3-none-any.whl.metadata (31 kB)\n",
            "Collecting pyflakes<2.6.0,>=2.5.0 (from flake8==5.0.4->-r requirements_dev.txt (line 16))\n",
            "  Downloading pyflakes-2.5.0-py2.py3-none-any.whl.metadata (3.8 kB)\n",
            "Collecting python-dateutil>=2.8.2 (from pandas->-r requirements_dev.txt (line 1))\n",
            "  Downloading python_dateutil-2.9.0.post0-py2.py3-none-any.whl.metadata (8.4 kB)\n",
            "Collecting tzdata>=2022.1 (from pandas->-r requirements_dev.txt (line 1))\n",
            "  Downloading tzdata-2025.2-py2.py3-none-any.whl.metadata (1.4 kB)\n",
            "Collecting joblib>=1.1.1 (from scikit-learn->-r requirements_dev.txt (line 2))\n",
            "  Downloading joblib-1.4.2-py3-none-any.whl.metadata (5.4 kB)\n",
            "Collecting threadpoolctl>=2.0.0 (from scikit-learn->-r requirements_dev.txt (line 2))\n",
            "  Downloading threadpoolctl-3.5.0-py3-none-any.whl.metadata (13 kB)\n",
            "Collecting Werkzeug>=2.3.7 (from flask->-r requirements_dev.txt (line 5))\n",
            "  Downloading werkzeug-3.0.6-py3-none-any.whl.metadata (3.7 kB)\n",
            "Collecting itsdangerous>=2.1.2 (from flask->-r requirements_dev.txt (line 5))\n",
            "  Downloading itsdangerous-2.2.0-py3-none-any.whl.metadata (1.9 kB)\n",
            "Collecting blinker>=1.6.2 (from flask->-r requirements_dev.txt (line 5))\n",
            "  Downloading blinker-1.8.2-py3-none-any.whl.metadata (1.6 kB)\n",
            "Collecting colorama>=0.3.9 (from dvc->-r requirements_dev.txt (line 7))\n",
            "  Downloading colorama-0.4.6-py2.py3-none-any.whl.metadata (17 kB)\n",
            "Collecting configobj>=5.0.6 (from dvc->-r requirements_dev.txt (line 7))\n",
            "  Downloading configobj-5.0.9-py2.py3-none-any.whl.metadata (3.2 kB)\n",
            "Collecting distro>=1.3 (from dvc->-r requirements_dev.txt (line 7))\n",
            "  Downloading distro-1.9.0-py3-none-any.whl.metadata (6.8 kB)\n",
            "Collecting dpath<3,>=2.1.0 (from dvc->-r requirements_dev.txt (line 7))\n",
            "  Downloading dpath-2.2.0-py3-none-any.whl.metadata (15 kB)\n",
            "Collecting dvc-data<3.9,>=3.8 (from dvc->-r requirements_dev.txt (line 7))\n",
            "  Downloading dvc_data-3.8.0-py3-none-any.whl.metadata (5.0 kB)\n",
            "Collecting dvc-http>=2.29.0 (from dvc->-r requirements_dev.txt (line 7))\n",
            "  Downloading dvc_http-2.32.0-py3-none-any.whl.metadata (1.3 kB)\n",
            "Collecting dvc-render<2,>=1.0.1 (from dvc->-r requirements_dev.txt (line 7))\n",
            "  Downloading dvc_render-1.0.1-py3-none-any.whl.metadata (5.6 kB)\n",
            "Collecting dvc-studio-client<1,>=0.17.1 (from dvc->-r requirements_dev.txt (line 7))\n",
            "  Downloading dvc_studio_client-0.20.0-py3-none-any.whl.metadata (4.3 kB)\n",
            "Collecting dvc-task<1,>=0.3.0 (from dvc->-r requirements_dev.txt (line 7))\n",
            "  Downloading dvc_task-0.40.2-py3-none-any.whl.metadata (10.0 kB)\n",
            "Collecting flatten-dict<1,>=0.4.1 (from dvc->-r requirements_dev.txt (line 7))\n",
            "  Downloading flatten_dict-0.4.2-py2.py3-none-any.whl.metadata (9.2 kB)\n",
            "Collecting flufl.lock<8,>=5 (from dvc->-r requirements_dev.txt (line 7))\n",
            "  Downloading flufl.lock-7.1.1-py3-none-any.whl.metadata (3.3 kB)\n",
            "Collecting funcy>=1.14 (from dvc->-r requirements_dev.txt (line 7))\n",
            "  Downloading funcy-2.0-py2.py3-none-any.whl.metadata (5.9 kB)\n",
            "Collecting grandalf<1,>=0.7 (from dvc->-r requirements_dev.txt (line 7))\n",
            "  Downloading grandalf-0.8-py3-none-any.whl.metadata (1.7 kB)\n",
            "Collecting gto<2,>=1.6.0 (from dvc->-r requirements_dev.txt (line 7))\n",
            "  Downloading gto-1.6.2-py3-none-any.whl.metadata (4.3 kB)\n",
            "Collecting hydra-core>=1.1 (from dvc->-r requirements_dev.txt (line 7))\n",
            "  Downloading hydra_core-1.3.2-py3-none-any.whl.metadata (5.5 kB)\n",
            "Collecting iterative-telemetry>=0.0.7 (from dvc->-r requirements_dev.txt (line 7))\n",
            "  Downloading iterative_telemetry-0.0.10-py3-none-any.whl.metadata (4.1 kB)\n",
            "Collecting networkx>=2.5 (from dvc->-r requirements_dev.txt (line 7))\n",
            "  Downloading networkx-3.1-py3-none-any.whl.metadata (5.3 kB)\n",
            "Collecting platformdirs>=2 (from black==22.8.0->-r requirements_dev.txt (line 15))\n",
            "  Downloading platformdirs-3.11.0-py3-none-any.whl.metadata (11 kB)\n",
            "Collecting psutil>=5.8 (from dvc->-r requirements_dev.txt (line 7))\n",
            "  Downloading psutil-7.0.0-cp36-abi3-manylinux_2_12_x86_64.manylinux2010_x86_64.manylinux_2_17_x86_64.manylinux2014_x86_64.whl.metadata (22 kB)\n",
            "Collecting pydot>=1.2.4 (from dvc->-r requirements_dev.txt (line 7))\n",
            "  Downloading pydot-4.0.1-py3-none-any.whl.metadata (11 kB)\n",
            "Collecting pygtrie>=2.3.2 (from dvc->-r requirements_dev.txt (line 7))\n",
            "  Downloading pygtrie-2.5.0-py3-none-any.whl.metadata (7.5 kB)\n",
            "Collecting pyparsing>=2.4.7 (from dvc->-r requirements_dev.txt (line 7))\n",
            "  Downloading pyparsing-3.1.4-py3-none-any.whl.metadata (5.1 kB)\n",
            "Collecting rich>=12 (from dvc->-r requirements_dev.txt (line 7))\n",
            "  Downloading rich-14.1.0-py3-none-any.whl.metadata (18 kB)\n",
            "Collecting ruamel.yaml>=0.17.11 (from dvc->-r requirements_dev.txt (line 7))\n",
            "  Downloading ruamel.yaml-0.18.14-py3-none-any.whl.metadata (24 kB)\n",
            "Collecting scmrepo<3,>=2.0.2 (from dvc->-r requirements_dev.txt (line 7))\n",
            "  Downloading scmrepo-2.0.4-py3-none-any.whl.metadata (4.8 kB)\n",
            "Collecting shortuuid>=0.5 (from dvc->-r requirements_dev.txt (line 7))\n",
            "  Downloading shortuuid-1.0.13-py3-none-any.whl.metadata (5.8 kB)\n",
            "Collecting shtab<2,>=1.3.4 (from dvc->-r requirements_dev.txt (line 7))\n",
            "  Downloading shtab-1.7.2-py3-none-any.whl.metadata (7.4 kB)\n",
            "Collecting tabulate>=0.8.7 (from dvc->-r requirements_dev.txt (line 7))\n",
            "  Downloading tabulate-0.9.0-py3-none-any.whl.metadata (34 kB)\n",
            "Collecting tomlkit>=0.11.1 (from dvc->-r requirements_dev.txt (line 7))\n",
            "  Downloading tomlkit-0.13.3-py3-none-any.whl.metadata (2.8 kB)\n",
            "Collecting tqdm<5,>=4.63.1 (from dvc->-r requirements_dev.txt (line 7))\n",
            "  Downloading tqdm-4.67.1-py3-none-any.whl.metadata (57 kB)\n",
            "Collecting voluptuous>=0.11.7 (from dvc->-r requirements_dev.txt (line 7))\n",
            "  Downloading voluptuous-0.14.2-py3-none-any.whl.metadata (20 kB)\n",
            "Collecting zc.lockfile>=1.2.1 (from dvc->-r requirements_dev.txt (line 7))\n",
            "  Downloading zc.lockfile-3.0.post1-py3-none-any.whl.metadata (6.2 kB)\n",
            "Collecting comm>=0.1.1 (from ipykernel->-r requirements_dev.txt (line 8))\n",
            "  Downloading comm-0.2.3-py3-none-any.whl.metadata (3.7 kB)\n",
            "Collecting debugpy>=1.6.5 (from ipykernel->-r requirements_dev.txt (line 8))\n",
            "  Downloading debugpy-1.8.15-cp38-cp38-manylinux_2_5_x86_64.manylinux1_x86_64.manylinux_2_17_x86_64.manylinux2014_x86_64.whl.metadata (1.1 kB)\n",
            "Collecting ipython>=7.23.1 (from ipykernel->-r requirements_dev.txt (line 8))\n",
            "  Downloading ipython-8.12.3-py3-none-any.whl.metadata (5.7 kB)\n",
            "Collecting jupyter-client>=6.1.12 (from ipykernel->-r requirements_dev.txt (line 8))\n",
            "  Downloading jupyter_client-8.6.3-py3-none-any.whl.metadata (8.3 kB)\n",
            "Collecting jupyter-core!=5.0.*,>=4.12 (from ipykernel->-r requirements_dev.txt (line 8))\n",
            "  Downloading jupyter_core-5.8.1-py3-none-any.whl.metadata (1.6 kB)\n",
            "Collecting matplotlib-inline>=0.1 (from ipykernel->-r requirements_dev.txt (line 8))\n",
            "  Downloading matplotlib_inline-0.1.7-py3-none-any.whl.metadata (3.9 kB)\n",
            "Collecting nest-asyncio (from ipykernel->-r requirements_dev.txt (line 8))\n",
            "  Downloading nest_asyncio-1.6.0-py3-none-any.whl.metadata (2.8 kB)\n",
            "Collecting pyzmq>=24 (from ipykernel->-r requirements_dev.txt (line 8))\n",
            "  Downloading pyzmq-27.0.0-cp38-cp38-manylinux2014_x86_64.manylinux_2_17_x86_64.whl.metadata (6.0 kB)\n",
            "Collecting tornado>=6.1 (from ipykernel->-r requirements_dev.txt (line 8))\n",
            "  Downloading tornado-6.4.2-cp38-abi3-manylinux_2_5_x86_64.manylinux1_x86_64.manylinux_2_17_x86_64.manylinux2014_x86_64.whl.metadata (2.5 kB)\n",
            "Collecting traitlets>=5.4.0 (from ipykernel->-r requirements_dev.txt (line 8))\n",
            "  Downloading traitlets-5.14.3-py3-none-any.whl.metadata (10 kB)\n",
            "Collecting nvidia-nccl-cu12 (from xgboost->-r requirements_dev.txt (line 9))\n",
            "  Downloading nvidia_nccl_cu12-2.27.6-py3-none-manylinux2014_x86_64.manylinux_2_17_x86_64.whl.metadata (2.0 kB)\n",
            "Collecting Mako (from alembic<2->mlflow==2.2.2->-r requirements_dev.txt (line 6))\n",
            "  Downloading mako-1.3.10-py3-none-any.whl.metadata (2.9 kB)\n",
            "Collecting importlib-resources (from alembic<2->mlflow==2.2.2->-r requirements_dev.txt (line 6))\n",
            "  Downloading importlib_resources-6.4.5-py3-none-any.whl.metadata (4.0 kB)\n",
            "Collecting pyjwt>=1.7.0 (from databricks-cli<1,>=0.8.7->mlflow==2.2.2->-r requirements_dev.txt (line 6))\n",
            "  Downloading PyJWT-2.9.0-py3-none-any.whl.metadata (3.0 kB)\n",
            "Collecting oauthlib>=3.1.0 (from databricks-cli<1,>=0.8.7->mlflow==2.2.2->-r requirements_dev.txt (line 6))\n",
            "  Downloading oauthlib-3.3.1-py3-none-any.whl.metadata (7.9 kB)\n",
            "Collecting urllib3<3,>=1.26.7 (from databricks-cli<1,>=0.8.7->mlflow==2.2.2->-r requirements_dev.txt (line 6))\n",
            "  Downloading urllib3-2.2.3-py3-none-any.whl.metadata (6.5 kB)\n",
            "Collecting websocket-client>=0.32.0 (from docker<7,>=4.0.0->mlflow==2.2.2->-r requirements_dev.txt (line 6))\n",
            "  Downloading websocket_client-1.8.0-py3-none-any.whl.metadata (8.0 kB)\n",
            "Collecting dictdiffer>=0.8.1 (from dvc-data<3.9,>=3.8->dvc->-r requirements_dev.txt (line 7))\n",
            "  Downloading dictdiffer-0.9.0-py2.py3-none-any.whl.metadata (4.8 kB)\n",
            "Collecting dvc-objects<4,>=3 (from dvc-data<3.9,>=3.8->dvc->-r requirements_dev.txt (line 7))\n",
            "  Downloading dvc_objects-3.0.6-py3-none-any.whl.metadata (3.9 kB)\n",
            "Collecting diskcache>=5.2.1 (from dvc-data<3.9,>=3.8->dvc->-r requirements_dev.txt (line 7))\n",
            "  Downloading diskcache-5.6.3-py3-none-any.whl.metadata (20 kB)\n",
            "Collecting sqltrie<1,>=0.11.0 (from dvc-data<3.9,>=3.8->dvc->-r requirements_dev.txt (line 7))\n",
            "  Downloading sqltrie-0.11.2-py3-none-any.whl.metadata (3.3 kB)\n",
            "Collecting fsspec[http] (from dvc-http>=2.29.0->dvc->-r requirements_dev.txt (line 7))\n",
            "  Downloading fsspec-2025.3.0-py3-none-any.whl.metadata (11 kB)\n",
            "Collecting aiohttp-retry>=2.5.0 (from dvc-http>=2.29.0->dvc->-r requirements_dev.txt (line 7))\n",
            "  Downloading aiohttp_retry-2.9.1-py3-none-any.whl.metadata (8.8 kB)\n",
            "Collecting dulwich (from dvc-studio-client<1,>=0.17.1->dvc->-r requirements_dev.txt (line 7))\n",
            "  Downloading dulwich-0.22.4-cp38-cp38-manylinux_2_17_x86_64.manylinux2014_x86_64.whl.metadata (4.4 kB)\n",
            "Collecting celery<6,>=5.3.0 (from dvc-task<1,>=0.3.0->dvc->-r requirements_dev.txt (line 7))\n",
            "  Downloading celery-5.5.3-py3-none-any.whl.metadata (22 kB)\n",
            "Collecting kombu<6,>=5.3.0 (from dvc-task<1,>=0.3.0->dvc->-r requirements_dev.txt (line 7))\n",
            "  Downloading kombu-5.5.4-py3-none-any.whl.metadata (3.5 kB)\n",
            "Collecting atpublic>=2.3 (from flufl.lock<8,>=5->dvc->-r requirements_dev.txt (line 7))\n",
            "  Downloading atpublic-5.0-py3-none-any.whl.metadata (1.8 kB)\n",
            "Collecting gitdb<5,>=4.0.1 (from gitpython<4,>=2.1.0->mlflow==2.2.2->-r requirements_dev.txt (line 6))\n",
            "  Downloading gitdb-4.0.12-py3-none-any.whl.metadata (1.2 kB)\n",
            "Collecting typer>=0.4.1 (from gto<2,>=1.6.0->dvc->-r requirements_dev.txt (line 7))\n",
            "  Downloading typer-0.16.0-py3-none-any.whl.metadata (15 kB)\n",
            "Collecting pydantic!=2.0.0,<3,>=1.9.0 (from gto<2,>=1.6.0->dvc->-r requirements_dev.txt (line 7))\n",
            "  Downloading pydantic-2.10.6-py3-none-any.whl.metadata (30 kB)\n",
            "Collecting semver>=3.0.0 (from gto<2,>=1.6.0->dvc->-r requirements_dev.txt (line 7))\n",
            "  Downloading semver-3.0.4-py3-none-any.whl.metadata (6.8 kB)\n",
            "Requirement already satisfied: setuptools>=3.0 in ./env/lib/python3.8/site-packages (from gunicorn<21->mlflow==2.2.2->-r requirements_dev.txt (line 6)) (75.3.0)\n",
            "Collecting omegaconf<2.4,>=2.2 (from hydra-core>=1.1->dvc->-r requirements_dev.txt (line 7))\n",
            "  Downloading omegaconf-2.3.0-py3-none-any.whl.metadata (3.9 kB)\n",
            "Collecting antlr4-python3-runtime==4.9.* (from hydra-core>=1.1->dvc->-r requirements_dev.txt (line 7))\n",
            "  Downloading antlr4-python3-runtime-4.9.3.tar.gz (117 kB)\n",
            "  Preparing metadata (setup.py) ... \u001b[?25l\u001b[?25hdone\n",
            "Collecting zipp>=0.5 (from importlib-metadata!=4.7.0,<7,>=3.7.0->mlflow==2.2.2->-r requirements_dev.txt (line 6))\n",
            "  Downloading zipp-3.20.2-py3-none-any.whl.metadata (3.7 kB)\n",
            "Collecting backcall (from ipython>=7.23.1->ipykernel->-r requirements_dev.txt (line 8))\n",
            "  Downloading backcall-0.2.0-py2.py3-none-any.whl.metadata (2.0 kB)\n",
            "Collecting decorator (from ipython>=7.23.1->ipykernel->-r requirements_dev.txt (line 8))\n",
            "  Downloading decorator-5.2.1-py3-none-any.whl.metadata (3.9 kB)\n",
            "Collecting jedi>=0.16 (from ipython>=7.23.1->ipykernel->-r requirements_dev.txt (line 8))\n",
            "  Downloading jedi-0.19.2-py2.py3-none-any.whl.metadata (22 kB)\n",
            "Collecting pickleshare (from ipython>=7.23.1->ipykernel->-r requirements_dev.txt (line 8))\n",
            "  Downloading pickleshare-0.7.5-py2.py3-none-any.whl.metadata (1.5 kB)\n",
            "Collecting prompt-toolkit!=3.0.37,<3.1.0,>=3.0.30 (from ipython>=7.23.1->ipykernel->-r requirements_dev.txt (line 8))\n",
            "  Downloading prompt_toolkit-3.0.51-py3-none-any.whl.metadata (6.4 kB)\n",
            "Collecting pygments>=2.4.0 (from ipython>=7.23.1->ipykernel->-r requirements_dev.txt (line 8))\n",
            "  Downloading pygments-2.19.2-py3-none-any.whl.metadata (2.5 kB)\n",
            "Collecting stack-data (from ipython>=7.23.1->ipykernel->-r requirements_dev.txt (line 8))\n",
            "  Downloading stack_data-0.6.3-py3-none-any.whl.metadata (18 kB)\n",
            "Collecting pexpect>4.3 (from ipython>=7.23.1->ipykernel->-r requirements_dev.txt (line 8))\n",
            "  Downloading pexpect-4.9.0-py2.py3-none-any.whl.metadata (2.5 kB)\n",
            "Collecting appdirs (from iterative-telemetry>=0.0.7->dvc->-r requirements_dev.txt (line 7))\n",
            "  Downloading appdirs-1.4.4-py2.py3-none-any.whl.metadata (9.0 kB)\n",
            "Collecting MarkupSafe>=2.0 (from Jinja2<4,>=2.11->mlflow==2.2.2->-r requirements_dev.txt (line 6))\n",
            "  Downloading MarkupSafe-2.1.5-cp38-cp38-manylinux_2_17_x86_64.manylinux2014_x86_64.whl.metadata (3.0 kB)\n",
            "Collecting contourpy>=1.0.1 (from matplotlib<4->mlflow==2.2.2->-r requirements_dev.txt (line 6))\n",
            "  Downloading contourpy-1.1.1-cp38-cp38-manylinux_2_17_x86_64.manylinux2014_x86_64.whl.metadata (5.9 kB)\n",
            "Collecting cycler>=0.10 (from matplotlib<4->mlflow==2.2.2->-r requirements_dev.txt (line 6))\n",
            "  Downloading cycler-0.12.1-py3-none-any.whl.metadata (3.8 kB)\n",
            "Collecting fonttools>=4.22.0 (from matplotlib<4->mlflow==2.2.2->-r requirements_dev.txt (line 6))\n",
            "  Downloading fonttools-4.57.0-cp38-cp38-manylinux_2_17_x86_64.manylinux2014_x86_64.whl.metadata (102 kB)\n",
            "Collecting kiwisolver>=1.0.1 (from matplotlib<4->mlflow==2.2.2->-r requirements_dev.txt (line 6))\n",
            "  Downloading kiwisolver-1.4.7-cp38-cp38-manylinux_2_5_x86_64.manylinux1_x86_64.whl.metadata (6.3 kB)\n",
            "Collecting pillow>=6.2.0 (from matplotlib<4->mlflow==2.2.2->-r requirements_dev.txt (line 6))\n",
            "  Downloading pillow-10.4.0-cp38-cp38-manylinux_2_28_x86_64.whl.metadata (9.2 kB)\n",
            "Collecting charset_normalizer<4,>=2 (from requests<3,>=2.17.3->mlflow==2.2.2->-r requirements_dev.txt (line 6))\n",
            "  Downloading charset_normalizer-3.4.2-cp38-cp38-manylinux_2_17_x86_64.manylinux2014_x86_64.whl.metadata (35 kB)\n",
            "Collecting idna<4,>=2.5 (from requests<3,>=2.17.3->mlflow==2.2.2->-r requirements_dev.txt (line 6))\n",
            "  Downloading idna-3.10-py3-none-any.whl.metadata (10 kB)\n",
            "Collecting certifi>=2017.4.17 (from requests<3,>=2.17.3->mlflow==2.2.2->-r requirements_dev.txt (line 6))\n",
            "  Downloading certifi-2025.7.14-py3-none-any.whl.metadata (2.4 kB)\n",
            "Collecting markdown-it-py>=2.2.0 (from rich>=12->dvc->-r requirements_dev.txt (line 7))\n",
            "  Downloading markdown_it_py-3.0.0-py3-none-any.whl.metadata (6.9 kB)\n",
            "Collecting ruamel.yaml.clib>=0.2.7 (from ruamel.yaml>=0.17.11->dvc->-r requirements_dev.txt (line 7))\n",
            "  Downloading ruamel.yaml.clib-0.2.8-cp38-cp38-manylinux_2_5_x86_64.manylinux1_x86_64.whl.metadata (2.2 kB)\n",
            "Collecting pygit2>=1.13.3 (from scmrepo<3,>=2.0.2->dvc->-r requirements_dev.txt (line 7))\n",
            "  Downloading pygit2-1.13.3-cp38-cp38-manylinux_2_17_x86_64.manylinux2014_x86_64.whl.metadata (3.6 kB)\n",
            "Collecting asyncssh<3,>=2.13.1 (from scmrepo<3,>=2.0.2->dvc->-r requirements_dev.txt (line 7))\n",
            "  Downloading asyncssh-2.21.0-py3-none-any.whl.metadata (9.9 kB)\n",
            "Collecting slicer==0.0.7 (from shap<1,>=0.40->mlflow==2.2.2->-r requirements_dev.txt (line 6))\n",
            "  Downloading slicer-0.0.7-py3-none-any.whl.metadata (3.7 kB)\n",
            "Collecting numba (from shap<1,>=0.40->mlflow==2.2.2->-r requirements_dev.txt (line 6))\n",
            "  Downloading numba-0.58.1-cp38-cp38-manylinux2014_x86_64.manylinux_2_17_x86_64.whl.metadata (2.7 kB)\n",
            "Collecting greenlet>=1 (from sqlalchemy<3,>=1.4.0->mlflow==2.2.2->-r requirements_dev.txt (line 6))\n",
            "  Downloading greenlet-3.1.1-cp38-cp38-manylinux_2_24_x86_64.manylinux_2_28_x86_64.whl.metadata (3.8 kB)\n",
            "Collecting distlib<1,>=0.3.7 (from virtualenv!=20.0.0,!=20.0.1,!=20.0.2,!=20.0.3,!=20.0.4,!=20.0.5,!=20.0.6,!=20.0.7,>=16.0.0->tox==3.25.1->-r requirements_dev.txt (line 14))\n",
            "  Downloading distlib-0.4.0-py2.py3-none-any.whl.metadata (5.2 kB)\n",
            "Collecting aiohttp (from aiohttp-retry>=2.5.0->dvc-http>=2.29.0->dvc->-r requirements_dev.txt (line 7))\n",
            "  Downloading aiohttp-3.10.11-cp38-cp38-manylinux_2_17_x86_64.manylinux2014_x86_64.whl.metadata (7.7 kB)\n",
            "Collecting cryptography>=39.0 (from asyncssh<3,>=2.13.1->scmrepo<3,>=2.0.2->dvc->-r requirements_dev.txt (line 7))\n",
            "  Downloading cryptography-45.0.5-cp37-abi3-manylinux_2_34_x86_64.whl.metadata (5.7 kB)\n",
            "Collecting billiard<5.0,>=4.2.1 (from celery<6,>=5.3.0->dvc-task<1,>=0.3.0->dvc->-r requirements_dev.txt (line 7))\n",
            "  Downloading billiard-4.2.1-py3-none-any.whl.metadata (4.4 kB)\n",
            "Collecting vine<6.0,>=5.1.0 (from celery<6,>=5.3.0->dvc-task<1,>=0.3.0->dvc->-r requirements_dev.txt (line 7))\n",
            "  Downloading vine-5.1.0-py3-none-any.whl.metadata (2.7 kB)\n",
            "Collecting click-didyoumean>=0.3.0 (from celery<6,>=5.3.0->dvc-task<1,>=0.3.0->dvc->-r requirements_dev.txt (line 7))\n",
            "  Downloading click_didyoumean-0.3.1-py3-none-any.whl.metadata (3.9 kB)\n",
            "Collecting click-repl>=0.2.0 (from celery<6,>=5.3.0->dvc-task<1,>=0.3.0->dvc->-r requirements_dev.txt (line 7))\n",
            "  Downloading click_repl-0.3.0-py3-none-any.whl.metadata (3.6 kB)\n",
            "Collecting click-plugins>=1.1.1 (from celery<6,>=5.3.0->dvc-task<1,>=0.3.0->dvc->-r requirements_dev.txt (line 7))\n",
            "  Downloading click_plugins-1.1.1.2-py2.py3-none-any.whl.metadata (6.5 kB)\n",
            "Collecting backports.zoneinfo>=0.2.1 (from backports.zoneinfo[tzdata]>=0.2.1; python_version < \"3.9\"->celery<6,>=5.3.0->dvc-task<1,>=0.3.0->dvc->-r requirements_dev.txt (line 7))\n",
            "  Downloading backports.zoneinfo-0.2.1-cp38-cp38-manylinux1_x86_64.whl.metadata (4.7 kB)\n",
            "Collecting smmap<6,>=3.0.1 (from gitdb<5,>=4.0.1->gitpython<4,>=2.1.0->mlflow==2.2.2->-r requirements_dev.txt (line 6))\n",
            "  Downloading smmap-5.0.2-py3-none-any.whl.metadata (4.3 kB)\n",
            "Collecting parso<0.9.0,>=0.8.4 (from jedi>=0.16->ipython>=7.23.1->ipykernel->-r requirements_dev.txt (line 8))\n",
            "  Downloading parso-0.8.4-py2.py3-none-any.whl.metadata (7.7 kB)\n",
            "Collecting amqp<6.0.0,>=5.1.1 (from kombu<6,>=5.3.0->dvc-task<1,>=0.3.0->dvc->-r requirements_dev.txt (line 7))\n",
            "  Downloading amqp-5.3.1-py3-none-any.whl.metadata (8.9 kB)\n",
            "Collecting mdurl~=0.1 (from markdown-it-py>=2.2.0->rich>=12->dvc->-r requirements_dev.txt (line 7))\n",
            "  Downloading mdurl-0.1.2-py3-none-any.whl.metadata (1.6 kB)\n",
            "Collecting ptyprocess>=0.5 (from pexpect>4.3->ipython>=7.23.1->ipykernel->-r requirements_dev.txt (line 8))\n",
            "  Downloading ptyprocess-0.7.0-py2.py3-none-any.whl.metadata (1.3 kB)\n",
            "Collecting wcwidth (from prompt-toolkit!=3.0.37,<3.1.0,>=3.0.30->ipython>=7.23.1->ipykernel->-r requirements_dev.txt (line 8))\n",
            "  Downloading wcwidth-0.2.13-py2.py3-none-any.whl.metadata (14 kB)\n",
            "Collecting annotated-types>=0.6.0 (from pydantic!=2.0.0,<3,>=1.9.0->gto<2,>=1.6.0->dvc->-r requirements_dev.txt (line 7))\n",
            "  Downloading annotated_types-0.7.0-py3-none-any.whl.metadata (15 kB)\n",
            "Collecting pydantic-core==2.27.2 (from pydantic!=2.0.0,<3,>=1.9.0->gto<2,>=1.6.0->dvc->-r requirements_dev.txt (line 7))\n",
            "  Downloading pydantic_core-2.27.2-cp38-cp38-manylinux_2_17_x86_64.manylinux2014_x86_64.whl.metadata (6.6 kB)\n",
            "Collecting cffi>=1.16.0 (from pygit2>=1.13.3->scmrepo<3,>=2.0.2->dvc->-r requirements_dev.txt (line 7))\n",
            "  Downloading cffi-1.17.1-cp38-cp38-manylinux_2_17_x86_64.manylinux2014_x86_64.whl.metadata (1.5 kB)\n",
            "Collecting orjson (from sqltrie<1,>=0.11.0->dvc-data<3.9,>=3.8->dvc->-r requirements_dev.txt (line 7))\n",
            "  Downloading orjson-3.10.15-cp38-cp38-manylinux_2_17_x86_64.manylinux2014_x86_64.whl.metadata (41 kB)\n",
            "Collecting shellingham>=1.3.0 (from typer>=0.4.1->gto<2,>=1.6.0->dvc->-r requirements_dev.txt (line 7))\n",
            "  Downloading shellingham-1.5.4-py2.py3-none-any.whl.metadata (3.5 kB)\n",
            "Collecting llvmlite<0.42,>=0.41.0dev0 (from numba->shap<1,>=0.40->mlflow==2.2.2->-r requirements_dev.txt (line 6))\n",
            "  Downloading llvmlite-0.41.1-cp38-cp38-manylinux_2_17_x86_64.manylinux2014_x86_64.whl.metadata (4.8 kB)\n",
            "Collecting executing>=1.2.0 (from stack-data->ipython>=7.23.1->ipykernel->-r requirements_dev.txt (line 8))\n",
            "  Downloading executing-2.2.0-py2.py3-none-any.whl.metadata (8.9 kB)\n",
            "Collecting asttokens>=2.1.0 (from stack-data->ipython>=7.23.1->ipykernel->-r requirements_dev.txt (line 8))\n",
            "  Downloading asttokens-3.0.0-py3-none-any.whl.metadata (4.7 kB)\n",
            "Collecting pure-eval (from stack-data->ipython>=7.23.1->ipykernel->-r requirements_dev.txt (line 8))\n",
            "  Downloading pure_eval-0.2.3-py3-none-any.whl.metadata (6.3 kB)\n",
            "Collecting aiohappyeyeballs>=2.3.0 (from aiohttp->aiohttp-retry>=2.5.0->dvc-http>=2.29.0->dvc->-r requirements_dev.txt (line 7))\n",
            "  Downloading aiohappyeyeballs-2.4.4-py3-none-any.whl.metadata (6.1 kB)\n",
            "Collecting aiosignal>=1.1.2 (from aiohttp->aiohttp-retry>=2.5.0->dvc-http>=2.29.0->dvc->-r requirements_dev.txt (line 7))\n",
            "  Downloading aiosignal-1.3.1-py3-none-any.whl.metadata (4.0 kB)\n",
            "Collecting frozenlist>=1.1.1 (from aiohttp->aiohttp-retry>=2.5.0->dvc-http>=2.29.0->dvc->-r requirements_dev.txt (line 7))\n",
            "  Downloading frozenlist-1.5.0-cp38-cp38-manylinux_2_5_x86_64.manylinux1_x86_64.manylinux_2_17_x86_64.manylinux2014_x86_64.whl.metadata (13 kB)\n",
            "Collecting multidict<7.0,>=4.5 (from aiohttp->aiohttp-retry>=2.5.0->dvc-http>=2.29.0->dvc->-r requirements_dev.txt (line 7))\n",
            "  Downloading multidict-6.1.0-cp38-cp38-manylinux_2_17_x86_64.manylinux2014_x86_64.whl.metadata (5.0 kB)\n",
            "Collecting yarl<2.0,>=1.12.0 (from aiohttp->aiohttp-retry>=2.5.0->dvc-http>=2.29.0->dvc->-r requirements_dev.txt (line 7))\n",
            "  Downloading yarl-1.15.2-cp38-cp38-manylinux_2_17_x86_64.manylinux2014_x86_64.whl.metadata (56 kB)\n",
            "Collecting async-timeout<6.0,>=4.0 (from aiohttp->aiohttp-retry>=2.5.0->dvc-http>=2.29.0->dvc->-r requirements_dev.txt (line 7))\n",
            "  Downloading async_timeout-5.0.1-py3-none-any.whl.metadata (5.1 kB)\n",
            "Collecting pycparser (from cffi>=1.16.0->pygit2>=1.13.3->scmrepo<3,>=2.0.2->dvc->-r requirements_dev.txt (line 7))\n",
            "  Downloading pycparser-2.22-py3-none-any.whl.metadata (943 bytes)\n",
            "Collecting propcache>=0.2.0 (from yarl<2.0,>=1.12.0->aiohttp->aiohttp-retry>=2.5.0->dvc-http>=2.29.0->dvc->-r requirements_dev.txt (line 7))\n",
            "  Downloading propcache-0.2.0-cp38-cp38-manylinux_2_17_x86_64.manylinux2014_x86_64.whl.metadata (7.7 kB)\n",
            "Downloading mlflow-2.2.2-py3-none-any.whl (17.6 MB)\n",
            "\u001b[2K   \u001b[90m━━━━━━━━━━━━━━━━━━━━━━━━━━━━━━━━━━━━━━━━\u001b[0m \u001b[32m17.6/17.6 MB\u001b[0m \u001b[31m97.2 MB/s\u001b[0m eta \u001b[36m0:00:00\u001b[0m\n",
            "\u001b[?25hDownloading pytest-7.1.3-py3-none-any.whl (298 kB)\n",
            "Downloading tox-3.25.1-py2.py3-none-any.whl (85 kB)\n",
            "Downloading black-22.8.0-cp38-cp38-manylinux_2_17_x86_64.manylinux2014_x86_64.whl (1.5 MB)\n",
            "\u001b[2K   \u001b[90m━━━━━━━━━━━━━━━━━━━━━━━━━━━━━━━━━━━━━━━━\u001b[0m \u001b[32m1.5/1.5 MB\u001b[0m \u001b[31m51.8 MB/s\u001b[0m eta \u001b[36m0:00:00\u001b[0m\n",
            "\u001b[?25hDownloading flake8-5.0.4-py2.py3-none-any.whl (61 kB)\n",
            "Downloading mypy-0.971-cp38-cp38-manylinux_2_5_x86_64.manylinux1_x86_64.manylinux_2_12_x86_64.manylinux2010_x86_64.whl (17.3 MB)\n",
            "\u001b[2K   \u001b[90m━━━━━━━━━━━━━━━━━━━━━━━━━━━━━━━━━━━━━━━━\u001b[0m \u001b[32m17.3/17.3 MB\u001b[0m \u001b[31m38.0 MB/s\u001b[0m eta \u001b[36m0:00:00\u001b[0m\n",
            "\u001b[?25hDownloading pandas-2.0.3-cp38-cp38-manylinux_2_17_x86_64.manylinux2014_x86_64.whl (12.4 MB)\n",
            "\u001b[2K   \u001b[90m━━━━━━━━━━━━━━━━━━━━━━━━━━━━━━━━━━━━━━━━\u001b[0m \u001b[32m12.4/12.4 MB\u001b[0m \u001b[31m97.5 MB/s\u001b[0m eta \u001b[36m0:00:00\u001b[0m\n",
            "\u001b[?25hDownloading scikit_learn-1.3.2-cp38-cp38-manylinux_2_17_x86_64.manylinux2014_x86_64.whl (11.1 MB)\n",
            "\u001b[2K   \u001b[90m━━━━━━━━━━━━━━━━━━━━━━━━━━━━━━━━━━━━━━━━\u001b[0m \u001b[32m11.1/11.1 MB\u001b[0m \u001b[31m124.0 MB/s\u001b[0m eta \u001b[36m0:00:00\u001b[0m\n",
            "\u001b[?25hDownloading numpy-1.24.4-cp38-cp38-manylinux_2_17_x86_64.manylinux2014_x86_64.whl (17.3 MB)\n",
            "\u001b[2K   \u001b[90m━━━━━━━━━━━━━━━━━━━━━━━━━━━━━━━━━━━━━━━━\u001b[0m \u001b[32m17.3/17.3 MB\u001b[0m \u001b[31m41.2 MB/s\u001b[0m eta \u001b[36m0:00:00\u001b[0m\n",
            "\u001b[?25hDownloading seaborn-0.13.2-py3-none-any.whl (294 kB)\n",
            "Downloading flask-2.3.3-py3-none-any.whl (96 kB)\n",
            "Downloading dvc-3.42.0-py3-none-any.whl (442 kB)\n",
            "Downloading ipykernel-6.29.5-py3-none-any.whl (117 kB)\n",
            "Downloading xgboost-2.1.4-py3-none-manylinux_2_28_x86_64.whl (223.6 MB)\n",
            "\u001b[2K   \u001b[90m━━━━━━━━━━━━━━━━━━━━━━━━━━━━━━━━━━━━━━━━\u001b[0m \u001b[32m223.6/223.6 MB\u001b[0m \u001b[31m68.8 MB/s\u001b[0m eta \u001b[36m0:00:00\u001b[0m\n",
            "\u001b[?25hDownloading alembic-1.14.1-py3-none-any.whl (233 kB)\n",
            "Downloading attrs-25.3.0-py3-none-any.whl (63 kB)\n",
            "Downloading blinker-1.8.2-py3-none-any.whl (9.5 kB)\n",
            "Downloading click-8.1.8-py3-none-any.whl (98 kB)\n",
            "Downloading cloudpickle-2.2.1-py3-none-any.whl (25 kB)\n",
            "Downloading colorama-0.4.6-py2.py3-none-any.whl (25 kB)\n",
            "Downloading comm-0.2.3-py3-none-any.whl (7.3 kB)\n",
            "Downloading configobj-5.0.9-py2.py3-none-any.whl (35 kB)\n",
            "Downloading databricks_cli-0.18.0-py2.py3-none-any.whl (150 kB)\n",
            "Downloading debugpy-1.8.15-cp38-cp38-manylinux_2_5_x86_64.manylinux1_x86_64.manylinux_2_17_x86_64.manylinux2014_x86_64.whl (3.6 MB)\n",
            "\u001b[2K   \u001b[90m━━━━━━━━━━━━━━━━━━━━━━━━━━━━━━━━━━━━━━━━\u001b[0m \u001b[32m3.6/3.6 MB\u001b[0m \u001b[31m109.0 MB/s\u001b[0m eta \u001b[36m0:00:00\u001b[0m\n",
            "\u001b[?25hDownloading distro-1.9.0-py3-none-any.whl (20 kB)\n",
            "Downloading docker-6.1.3-py3-none-any.whl (148 kB)\n",
            "Downloading dpath-2.2.0-py3-none-any.whl (17 kB)\n",
            "Downloading dvc_data-3.8.0-py3-none-any.whl (68 kB)\n",
            "Downloading dvc_http-2.32.0-py3-none-any.whl (12 kB)\n",
            "Downloading dvc_render-1.0.1-py3-none-any.whl (22 kB)\n",
            "Downloading dvc_studio_client-0.20.0-py3-none-any.whl (16 kB)\n",
            "Downloading dvc_task-0.40.2-py3-none-any.whl (21 kB)\n",
            "Downloading entrypoints-0.4-py3-none-any.whl (5.3 kB)\n",
            "Downloading filelock-3.16.1-py3-none-any.whl (16 kB)\n",
            "Downloading flatten_dict-0.4.2-py2.py3-none-any.whl (9.7 kB)\n",
            "Downloading flufl.lock-7.1.1-py3-none-any.whl (11 kB)\n",
            "Downloading funcy-2.0-py2.py3-none-any.whl (30 kB)\n",
            "Downloading gitpython-3.1.45-py3-none-any.whl (208 kB)\n",
            "Downloading grandalf-0.8-py3-none-any.whl (41 kB)\n",
            "Downloading gto-1.6.2-py3-none-any.whl (46 kB)\n",
            "Downloading gunicorn-20.1.0-py3-none-any.whl (79 kB)\n",
            "Downloading hydra_core-1.3.2-py3-none-any.whl (154 kB)\n",
            "Downloading importlib_metadata-6.11.0-py3-none-any.whl (23 kB)\n",
            "Downloading ipython-8.12.3-py3-none-any.whl (798 kB)\n",
            "\u001b[2K   \u001b[90m━━━━━━━━━━━━━━━━━━━━━━━━━━━━━━━━━━━━━━━━\u001b[0m \u001b[32m798.3/798.3 kB\u001b[0m \u001b[31m29.8 MB/s\u001b[0m eta \u001b[36m0:00:00\u001b[0m\n",
            "\u001b[?25hDownloading iterative_telemetry-0.0.10-py3-none-any.whl (10 kB)\n",
            "Downloading itsdangerous-2.2.0-py3-none-any.whl (16 kB)\n",
            "Downloading jinja2-3.1.6-py3-none-any.whl (134 kB)\n",
            "Downloading joblib-1.4.2-py3-none-any.whl (301 kB)\n",
            "Downloading jupyter_client-8.6.3-py3-none-any.whl (106 kB)\n",
            "Downloading jupyter_core-5.8.1-py3-none-any.whl (28 kB)\n",
            "Downloading Markdown-3.7-py3-none-any.whl (106 kB)\n",
            "Downloading matplotlib-3.7.5-cp38-cp38-manylinux_2_12_x86_64.manylinux2010_x86_64.whl (9.2 MB)\n",
            "\u001b[2K   \u001b[90m━━━━━━━━━━━━━━━━━━━━━━━━━━━━━━━━━━━━━━━━\u001b[0m \u001b[32m9.2/9.2 MB\u001b[0m \u001b[31m133.2 MB/s\u001b[0m eta \u001b[36m0:00:00\u001b[0m\n",
            "\u001b[?25hDownloading matplotlib_inline-0.1.7-py3-none-any.whl (9.9 kB)\n",
            "Downloading mccabe-0.7.0-py2.py3-none-any.whl (7.3 kB)\n",
            "Downloading mypy_extensions-1.1.0-py3-none-any.whl (5.0 kB)\n",
            "Downloading networkx-3.1-py3-none-any.whl (2.1 MB)\n",
            "\u001b[2K   \u001b[90m━━━━━━━━━━━━━━━━━━━━━━━━━━━━━━━━━━━━━━━━\u001b[0m \u001b[32m2.1/2.1 MB\u001b[0m \u001b[31m85.4 MB/s\u001b[0m eta \u001b[36m0:00:00\u001b[0m\n",
            "\u001b[?25hDownloading packaging-23.2-py3-none-any.whl (53 kB)\n",
            "Downloading pathspec-0.12.1-py3-none-any.whl (31 kB)\n",
            "Downloading platformdirs-3.11.0-py3-none-any.whl (17 kB)\n",
            "Downloading pluggy-1.5.0-py3-none-any.whl (20 kB)\n",
            "Downloading protobuf-4.25.8-cp37-abi3-manylinux2014_x86_64.whl (294 kB)\n",
            "Downloading psutil-7.0.0-cp36-abi3-manylinux_2_12_x86_64.manylinux2010_x86_64.manylinux_2_17_x86_64.manylinux2014_x86_64.whl (277 kB)\n",
            "Downloading py-1.11.0-py2.py3-none-any.whl (98 kB)\n",
            "Downloading pyarrow-11.0.0-cp38-cp38-manylinux_2_17_x86_64.manylinux2014_x86_64.whl (35.0 MB)\n",
            "\u001b[2K   \u001b[90m━━━━━━━━━━━━━━━━━━━━━━━━━━━━━━━━━━━━━━━━\u001b[0m \u001b[32m35.0/35.0 MB\u001b[0m \u001b[31m53.1 MB/s\u001b[0m eta \u001b[36m0:00:00\u001b[0m\n",
            "\u001b[?25hDownloading pycodestyle-2.9.1-py2.py3-none-any.whl (41 kB)\n",
            "Downloading pydot-4.0.1-py3-none-any.whl (37 kB)\n",
            "Downloading pyflakes-2.5.0-py2.py3-none-any.whl (66 kB)\n",
            "Downloading pygtrie-2.5.0-py3-none-any.whl (25 kB)\n",
            "Downloading pyparsing-3.1.4-py3-none-any.whl (104 kB)\n",
            "Downloading python_dateutil-2.9.0.post0-py2.py3-none-any.whl (229 kB)\n",
            "Downloading pytz-2022.7.1-py2.py3-none-any.whl (499 kB)\n",
            "Downloading PyYAML-6.0.2-cp38-cp38-manylinux_2_17_x86_64.manylinux2014_x86_64.whl (746 kB)\n",
            "\u001b[2K   \u001b[90m━━━━━━━━━━━━━━━━━━━━━━━━━━━━━━━━━━━━━━━━\u001b[0m \u001b[32m746.5/746.5 kB\u001b[0m \u001b[31m24.7 MB/s\u001b[0m eta \u001b[36m0:00:00\u001b[0m\n",
            "\u001b[?25hDownloading pyzmq-27.0.0-cp38-cp38-manylinux2014_x86_64.manylinux_2_17_x86_64.whl (863 kB)\n",
            "\u001b[2K   \u001b[90m━━━━━━━━━━━━━━━━━━━━━━━━━━━━━━━━━━━━━━━━\u001b[0m \u001b[32m863.7/863.7 kB\u001b[0m \u001b[31m38.1 MB/s\u001b[0m eta \u001b[36m0:00:00\u001b[0m\n",
            "\u001b[?25hDownloading querystring_parser-1.2.4-py2.py3-none-any.whl (7.9 kB)\n",
            "Downloading requests-2.32.4-py3-none-any.whl (64 kB)\n",
            "Downloading rich-14.1.0-py3-none-any.whl (243 kB)\n",
            "Downloading ruamel.yaml-0.18.14-py3-none-any.whl (118 kB)\n",
            "Downloading scipy-1.10.1-cp38-cp38-manylinux_2_17_x86_64.manylinux2014_x86_64.whl (34.5 MB)\n",
            "\u001b[2K   \u001b[90m━━━━━━━━━━━━━━━━━━━━━━━━━━━━━━━━━━━━━━━━\u001b[0m \u001b[32m34.5/34.5 MB\u001b[0m \u001b[31m120.4 MB/s\u001b[0m eta \u001b[36m0:00:00\u001b[0m\n",
            "\u001b[?25hDownloading scmrepo-2.0.4-py3-none-any.whl (70 kB)\n",
            "Downloading shap-0.44.1-cp38-cp38-manylinux_2_12_x86_64.manylinux2010_x86_64.manylinux_2_17_x86_64.manylinux2014_x86_64.whl (538 kB)\n",
            "\u001b[2K   \u001b[90m━━━━━━━━━━━━━━━━━━━━━━━━━━━━━━━━━━━━━━━━\u001b[0m \u001b[32m538.6/538.6 kB\u001b[0m \u001b[31m18.6 MB/s\u001b[0m eta \u001b[36m0:00:00\u001b[0m\n",
            "\u001b[?25hDownloading slicer-0.0.7-py3-none-any.whl (14 kB)\n",
            "Downloading shortuuid-1.0.13-py3-none-any.whl (10 kB)\n",
            "Downloading shtab-1.7.2-py3-none-any.whl (14 kB)\n",
            "Downloading six-1.17.0-py2.py3-none-any.whl (11 kB)\n",
            "Downloading sqlalchemy-2.0.42-cp38-cp38-manylinux_2_17_x86_64.manylinux2014_x86_64.whl (3.2 MB)\n",
            "\u001b[2K   \u001b[90m━━━━━━━━━━━━━━━━━━━━━━━━━━━━━━━━━━━━━━━━\u001b[0m \u001b[32m3.2/3.2 MB\u001b[0m \u001b[31m87.1 MB/s\u001b[0m eta \u001b[36m0:00:00\u001b[0m\n",
            "\u001b[?25hDownloading sqlparse-0.5.3-py3-none-any.whl (44 kB)\n",
            "Downloading tabulate-0.9.0-py3-none-any.whl (35 kB)\n",
            "Downloading threadpoolctl-3.5.0-py3-none-any.whl (18 kB)\n",
            "Downloading toml-0.10.2-py2.py3-none-any.whl (16 kB)\n",
            "Downloading tomli-2.2.1-py3-none-any.whl (14 kB)\n",
            "Downloading tomlkit-0.13.3-py3-none-any.whl (38 kB)\n",
            "Downloading tornado-6.4.2-cp38-abi3-manylinux_2_5_x86_64.manylinux1_x86_64.manylinux_2_17_x86_64.manylinux2014_x86_64.whl (437 kB)\n",
            "Downloading tqdm-4.67.1-py3-none-any.whl (78 kB)\n",
            "Downloading traitlets-5.14.3-py3-none-any.whl (85 kB)\n",
            "Downloading typing_extensions-4.13.2-py3-none-any.whl (45 kB)\n",
            "Downloading tzdata-2025.2-py2.py3-none-any.whl (347 kB)\n",
            "Downloading virtualenv-20.32.0-py3-none-any.whl (6.1 MB)\n",
            "\u001b[2K   \u001b[90m━━━━━━━━━━━━━━━━━━━━━━━━━━━━━━━━━━━━━━━━\u001b[0m \u001b[32m6.1/6.1 MB\u001b[0m \u001b[31m114.6 MB/s\u001b[0m eta \u001b[36m0:00:00\u001b[0m\n",
            "\u001b[?25hDownloading voluptuous-0.14.2-py3-none-any.whl (31 kB)\n",
            "Downloading werkzeug-3.0.6-py3-none-any.whl (227 kB)\n",
            "Downloading zc.lockfile-3.0.post1-py3-none-any.whl (9.8 kB)\n",
            "Downloading iniconfig-2.1.0-py3-none-any.whl (6.0 kB)\n",
            "Downloading nest_asyncio-1.6.0-py3-none-any.whl (5.2 kB)\n",
            "Downloading nvidia_nccl_cu12-2.27.6-py3-none-manylinux2014_x86_64.manylinux_2_17_x86_64.whl (322.5 MB)\n",
            "\u001b[2K   \u001b[90m━━━━━━━━━━━━━━━━━━━━━━━━━━━━━━━━━━━━━━━━\u001b[0m \u001b[32m322.5/322.5 MB\u001b[0m \u001b[31m29.2 MB/s\u001b[0m eta \u001b[36m0:00:00\u001b[0m\n",
            "\u001b[?25hDownloading aiohttp_retry-2.9.1-py3-none-any.whl (10.0 kB)\n",
            "Downloading asyncssh-2.21.0-py3-none-any.whl (374 kB)\n",
            "Downloading atpublic-5.0-py3-none-any.whl (5.2 kB)\n",
            "Downloading celery-5.5.3-py3-none-any.whl (438 kB)\n",
            "Downloading certifi-2025.7.14-py3-none-any.whl (162 kB)\n",
            "Downloading charset_normalizer-3.4.2-cp38-cp38-manylinux_2_17_x86_64.manylinux2014_x86_64.whl (147 kB)\n",
            "Downloading contourpy-1.1.1-cp38-cp38-manylinux_2_17_x86_64.manylinux2014_x86_64.whl (301 kB)\n",
            "Downloading cycler-0.12.1-py3-none-any.whl (8.3 kB)\n",
            "Downloading dictdiffer-0.9.0-py2.py3-none-any.whl (16 kB)\n",
            "Downloading diskcache-5.6.3-py3-none-any.whl (45 kB)\n",
            "Downloading distlib-0.4.0-py2.py3-none-any.whl (469 kB)\n",
            "Downloading dulwich-0.22.4-cp38-cp38-manylinux_2_17_x86_64.manylinux2014_x86_64.whl (968 kB)\n",
            "\u001b[2K   \u001b[90m━━━━━━━━━━━━━━━━━━━━━━━━━━━━━━━━━━━━━━━━\u001b[0m \u001b[32m968.6/968.6 kB\u001b[0m \u001b[31m44.9 MB/s\u001b[0m eta \u001b[36m0:00:00\u001b[0m\n",
            "\u001b[?25hDownloading dvc_objects-3.0.6-py3-none-any.whl (36 kB)\n",
            "Downloading fonttools-4.57.0-cp38-cp38-manylinux_2_17_x86_64.manylinux2014_x86_64.whl (4.7 MB)\n",
            "\u001b[2K   \u001b[90m━━━━━━━━━━━━━━━━━━━━━━━━━━━━━━━━━━━━━━━━\u001b[0m \u001b[32m4.7/4.7 MB\u001b[0m \u001b[31m108.0 MB/s\u001b[0m eta \u001b[36m0:00:00\u001b[0m\n",
            "\u001b[?25hDownloading fsspec-2025.3.0-py3-none-any.whl (193 kB)\n",
            "Downloading gitdb-4.0.12-py3-none-any.whl (62 kB)\n",
            "Downloading greenlet-3.1.1-cp38-cp38-manylinux_2_24_x86_64.manylinux_2_28_x86_64.whl (605 kB)\n",
            "\u001b[2K   \u001b[90m━━━━━━━━━━━━━━━━━━━━━━━━━━━━━━━━━━━━━━━━\u001b[0m \u001b[32m606.0/606.0 kB\u001b[0m \u001b[31m22.6 MB/s\u001b[0m eta \u001b[36m0:00:00\u001b[0m\n",
            "\u001b[?25hDownloading idna-3.10-py3-none-any.whl (70 kB)\n",
            "Downloading importlib_resources-6.4.5-py3-none-any.whl (36 kB)\n",
            "Downloading jedi-0.19.2-py2.py3-none-any.whl (1.6 MB)\n",
            "\u001b[2K   \u001b[90m━━━━━━━━━━━━━━━━━━━━━━━━━━━━━━━━━━━━━━━━\u001b[0m \u001b[32m1.6/1.6 MB\u001b[0m \u001b[31m60.9 MB/s\u001b[0m eta \u001b[36m0:00:00\u001b[0m\n",
            "\u001b[?25hDownloading kiwisolver-1.4.7-cp38-cp38-manylinux_2_5_x86_64.manylinux1_x86_64.whl (1.2 MB)\n",
            "\u001b[2K   \u001b[90m━━━━━━━━━━━━━━━━━━━━━━━━━━━━━━━━━━━━━━━━\u001b[0m \u001b[32m1.2/1.2 MB\u001b[0m \u001b[31m52.3 MB/s\u001b[0m eta \u001b[36m0:00:00\u001b[0m\n",
            "\u001b[?25hDownloading kombu-5.5.4-py3-none-any.whl (210 kB)\n",
            "Downloading vine-5.1.0-py3-none-any.whl (9.6 kB)\n",
            "Downloading markdown_it_py-3.0.0-py3-none-any.whl (87 kB)\n",
            "Downloading MarkupSafe-2.1.5-cp38-cp38-manylinux_2_17_x86_64.manylinux2014_x86_64.whl (26 kB)\n",
            "Downloading oauthlib-3.3.1-py3-none-any.whl (160 kB)\n",
            "Downloading omegaconf-2.3.0-py3-none-any.whl (79 kB)\n",
            "Downloading pexpect-4.9.0-py2.py3-none-any.whl (63 kB)\n",
            "Downloading pillow-10.4.0-cp38-cp38-manylinux_2_28_x86_64.whl (4.5 MB)\n",
            "\u001b[2K   \u001b[90m━━━━━━━━━━━━━━━━━━━━━━━━━━━━━━━━━━━━━━━━\u001b[0m \u001b[32m4.5/4.5 MB\u001b[0m \u001b[31m115.6 MB/s\u001b[0m eta \u001b[36m0:00:00\u001b[0m\n",
            "\u001b[?25hDownloading prompt_toolkit-3.0.51-py3-none-any.whl (387 kB)\n",
            "Downloading pydantic-2.10.6-py3-none-any.whl (431 kB)\n",
            "Downloading pydantic_core-2.27.2-cp38-cp38-manylinux_2_17_x86_64.manylinux2014_x86_64.whl (2.0 MB)\n",
            "\u001b[2K   \u001b[90m━━━━━━━━━━━━━━━━━━━━━━━━━━━━━━━━━━━━━━━━\u001b[0m \u001b[32m2.0/2.0 MB\u001b[0m \u001b[31m80.7 MB/s\u001b[0m eta \u001b[36m0:00:00\u001b[0m\n",
            "\u001b[?25hDownloading pygit2-1.13.3-cp38-cp38-manylinux_2_17_x86_64.manylinux2014_x86_64.whl (5.0 MB)\n",
            "\u001b[2K   \u001b[90m━━━━━━━━━━━━━━━━━━━━━━━━━━━━━━━━━━━━━━━━\u001b[0m \u001b[32m5.0/5.0 MB\u001b[0m \u001b[31m109.9 MB/s\u001b[0m eta \u001b[36m0:00:00\u001b[0m\n",
            "\u001b[?25hDownloading pygments-2.19.2-py3-none-any.whl (1.2 MB)\n",
            "\u001b[2K   \u001b[90m━━━━━━━━━━━━━━━━━━━━━━━━━━━━━━━━━━━━━━━━\u001b[0m \u001b[32m1.2/1.2 MB\u001b[0m \u001b[31m51.2 MB/s\u001b[0m eta \u001b[36m0:00:00\u001b[0m\n",
            "\u001b[?25hDownloading PyJWT-2.9.0-py3-none-any.whl (22 kB)\n",
            "Downloading ruamel.yaml.clib-0.2.8-cp38-cp38-manylinux_2_5_x86_64.manylinux1_x86_64.whl (596 kB)\n",
            "\u001b[2K   \u001b[90m━━━━━━━━━━━━━━━━━━━━━━━━━━━━━━━━━━━━━━━━\u001b[0m \u001b[32m596.0/596.0 kB\u001b[0m \u001b[31m25.0 MB/s\u001b[0m eta \u001b[36m0:00:00\u001b[0m\n",
            "\u001b[?25hDownloading semver-3.0.4-py3-none-any.whl (17 kB)\n",
            "Downloading sqltrie-0.11.2-py3-none-any.whl (17 kB)\n",
            "Downloading typer-0.16.0-py3-none-any.whl (46 kB)\n",
            "Downloading urllib3-2.2.3-py3-none-any.whl (126 kB)\n",
            "Downloading websocket_client-1.8.0-py3-none-any.whl (58 kB)\n",
            "Downloading zipp-3.20.2-py3-none-any.whl (9.2 kB)\n",
            "Downloading appdirs-1.4.4-py2.py3-none-any.whl (9.6 kB)\n",
            "Downloading backcall-0.2.0-py2.py3-none-any.whl (11 kB)\n",
            "Downloading decorator-5.2.1-py3-none-any.whl (9.2 kB)\n",
            "Downloading mako-1.3.10-py3-none-any.whl (78 kB)\n",
            "Downloading numba-0.58.1-cp38-cp38-manylinux2014_x86_64.manylinux_2_17_x86_64.whl (3.7 MB)\n",
            "\u001b[2K   \u001b[90m━━━━━━━━━━━━━━━━━━━━━━━━━━━━━━━━━━━━━━━━\u001b[0m \u001b[32m3.7/3.7 MB\u001b[0m \u001b[31m113.2 MB/s\u001b[0m eta \u001b[36m0:00:00\u001b[0m\n",
            "\u001b[?25hDownloading pickleshare-0.7.5-py2.py3-none-any.whl (6.9 kB)\n",
            "Downloading stack_data-0.6.3-py3-none-any.whl (24 kB)\n",
            "Downloading aiohttp-3.10.11-cp38-cp38-manylinux_2_17_x86_64.manylinux2014_x86_64.whl (1.3 MB)\n",
            "\u001b[2K   \u001b[90m━━━━━━━━━━━━━━━━━━━━━━━━━━━━━━━━━━━━━━━━\u001b[0m \u001b[32m1.3/1.3 MB\u001b[0m \u001b[31m54.9 MB/s\u001b[0m eta \u001b[36m0:00:00\u001b[0m\n",
            "\u001b[?25hDownloading amqp-5.3.1-py3-none-any.whl (50 kB)\n",
            "Downloading annotated_types-0.7.0-py3-none-any.whl (13 kB)\n",
            "Downloading asttokens-3.0.0-py3-none-any.whl (26 kB)\n",
            "Downloading backports.zoneinfo-0.2.1-cp38-cp38-manylinux1_x86_64.whl (74 kB)\n",
            "Downloading billiard-4.2.1-py3-none-any.whl (86 kB)\n",
            "Downloading cffi-1.17.1-cp38-cp38-manylinux_2_17_x86_64.manylinux2014_x86_64.whl (446 kB)\n",
            "Downloading click_didyoumean-0.3.1-py3-none-any.whl (3.6 kB)\n",
            "Downloading click_plugins-1.1.1.2-py2.py3-none-any.whl (11 kB)\n",
            "Downloading click_repl-0.3.0-py3-none-any.whl (10 kB)\n",
            "Downloading cryptography-45.0.5-cp37-abi3-manylinux_2_34_x86_64.whl (4.4 MB)\n",
            "\u001b[2K   \u001b[90m━━━━━━━━━━━━━━━━━━━━━━━━━━━━━━━━━━━━━━━━\u001b[0m \u001b[32m4.4/4.4 MB\u001b[0m \u001b[31m113.4 MB/s\u001b[0m eta \u001b[36m0:00:00\u001b[0m\n",
            "\u001b[?25hDownloading executing-2.2.0-py2.py3-none-any.whl (26 kB)\n",
            "Downloading llvmlite-0.41.1-cp38-cp38-manylinux_2_17_x86_64.manylinux2014_x86_64.whl (43.6 MB)\n",
            "\u001b[2K   \u001b[90m━━━━━━━━━━━━━━━━━━━━━━━━━━━━━━━━━━━━━━━━\u001b[0m \u001b[32m43.6/43.6 MB\u001b[0m \u001b[31m63.7 MB/s\u001b[0m eta \u001b[36m0:00:00\u001b[0m\n",
            "\u001b[?25hDownloading mdurl-0.1.2-py3-none-any.whl (10.0 kB)\n",
            "Downloading parso-0.8.4-py2.py3-none-any.whl (103 kB)\n",
            "Downloading ptyprocess-0.7.0-py2.py3-none-any.whl (13 kB)\n",
            "Downloading shellingham-1.5.4-py2.py3-none-any.whl (9.8 kB)\n",
            "Downloading smmap-5.0.2-py3-none-any.whl (24 kB)\n",
            "Downloading orjson-3.10.15-cp38-cp38-manylinux_2_17_x86_64.manylinux2014_x86_64.whl (130 kB)\n",
            "Downloading pure_eval-0.2.3-py3-none-any.whl (11 kB)\n",
            "Downloading wcwidth-0.2.13-py2.py3-none-any.whl (34 kB)\n",
            "Downloading aiohappyeyeballs-2.4.4-py3-none-any.whl (14 kB)\n",
            "Downloading aiosignal-1.3.1-py3-none-any.whl (7.6 kB)\n",
            "Downloading async_timeout-5.0.1-py3-none-any.whl (6.2 kB)\n",
            "Downloading frozenlist-1.5.0-cp38-cp38-manylinux_2_5_x86_64.manylinux1_x86_64.manylinux_2_17_x86_64.manylinux2014_x86_64.whl (243 kB)\n",
            "Downloading multidict-6.1.0-cp38-cp38-manylinux_2_17_x86_64.manylinux2014_x86_64.whl (129 kB)\n",
            "Downloading yarl-1.15.2-cp38-cp38-manylinux_2_17_x86_64.manylinux2014_x86_64.whl (319 kB)\n",
            "Downloading pycparser-2.22-py3-none-any.whl (117 kB)\n",
            "Downloading propcache-0.2.0-cp38-cp38-manylinux_2_17_x86_64.manylinux2014_x86_64.whl (213 kB)\n",
            "Building wheels for collected packages: antlr4-python3-runtime\n",
            "  Building wheel for antlr4-python3-runtime (setup.py) ... \u001b[?25l\u001b[?25hdone\n",
            "  Created wheel for antlr4-python3-runtime: filename=antlr4_python3_runtime-4.9.3-py3-none-any.whl size=144556 sha256=fe0b41c1eac3a0bbea52993ea4109b9fa06b83b94f7102e56acc0e1d651f744d\n",
            "  Stored in directory: /root/.cache/pip/wheels/b1/a3/c2/6df046c09459b73cc9bb6c4401b0be6c47048baf9a1617c485\n",
            "Successfully built antlr4-python3-runtime\n",
            "Installing collected packages: wcwidth, pytz, pygtrie, pure-eval, ptyprocess, pickleshare, funcy, distlib, dictdiffer, backcall, appdirs, antlr4-python3-runtime, zipp, zc.lockfile, websocket-client, voluptuous, vine, urllib3, tzdata, typing-extensions, traitlets, tqdm, tornado, tomlkit, tomli, toml, threadpoolctl, tabulate, sqlparse, smmap, slicer, six, shtab, shortuuid, shellingham, semver, ruamel.yaml.clib, pyzmq, pyyaml, pyparsing, pyjwt, pygments, pyflakes, pycparser, pycodestyle, py, psutil, protobuf, propcache, prompt-toolkit, pluggy, platformdirs, pillow, pexpect, pathspec, parso, packaging, orjson, oauthlib, nvidia-nccl-cu12, numpy, networkx, nest-asyncio, mypy-extensions, mdurl, mccabe, MarkupSafe, llvmlite, kiwisolver, joblib, itsdangerous, iniconfig, idna, gunicorn, greenlet, fsspec, frozenlist, fonttools, filelock, executing, entrypoints, dvc-render, dpath, distro, diskcache, decorator, debugpy, cycler, configobj, comm, colorama, cloudpickle, click, charset_normalizer, certifi, blinker, billiard, backports.zoneinfo, attrs, atpublic, async-timeout, asttokens, aiohappyeyeballs, Werkzeug, virtualenv, stack-data, sqltrie, sqlalchemy, scipy, ruamel.yaml, requests, querystring-parser, python-dateutil, pytest, pydot, pydantic-core, pyarrow, omegaconf, mypy, multidict, matplotlib-inline, markdown-it-py, Mako, jupyter-core, Jinja2, jedi, importlib-resources, importlib-metadata, grandalf, gitdb, flufl.lock, flatten-dict, flake8, dvc-objects, dulwich, contourpy, click-repl, click-plugins, click-didyoumean, cffi, black, annotated-types, amqp, aiosignal, yarl, xgboost, tox, scikit-learn, rich, pygit2, pydantic, pandas, numba, matplotlib, markdown, kombu, jupyter-client, iterative-telemetry, ipython, hydra-core, gitpython, flask, dvc-studio-client, dvc-data, docker, databricks-cli, cryptography, alembic, typer, shap, seaborn, ipykernel, celery, asyncssh, aiohttp, mlflow, dvc-task, aiohttp-retry, dvc-http, scmrepo, gto, dvc\n",
            "Successfully installed Jinja2-3.1.6 Mako-1.3.10 MarkupSafe-2.1.5 Werkzeug-3.0.6 aiohappyeyeballs-2.4.4 aiohttp-3.10.11 aiohttp-retry-2.9.1 aiosignal-1.3.1 alembic-1.14.1 amqp-5.3.1 annotated-types-0.7.0 antlr4-python3-runtime-4.9.3 appdirs-1.4.4 asttokens-3.0.0 async-timeout-5.0.1 asyncssh-2.21.0 atpublic-5.0 attrs-25.3.0 backcall-0.2.0 backports.zoneinfo-0.2.1 billiard-4.2.1 black-22.8.0 blinker-1.8.2 celery-5.5.3 certifi-2025.7.14 cffi-1.17.1 charset_normalizer-3.4.2 click-8.1.8 click-didyoumean-0.3.1 click-plugins-1.1.1.2 click-repl-0.3.0 cloudpickle-2.2.1 colorama-0.4.6 comm-0.2.3 configobj-5.0.9 contourpy-1.1.1 cryptography-45.0.5 cycler-0.12.1 databricks-cli-0.18.0 debugpy-1.8.15 decorator-5.2.1 dictdiffer-0.9.0 diskcache-5.6.3 distlib-0.4.0 distro-1.9.0 docker-6.1.3 dpath-2.2.0 dulwich-0.22.4 dvc-3.42.0 dvc-data-3.8.0 dvc-http-2.32.0 dvc-objects-3.0.6 dvc-render-1.0.1 dvc-studio-client-0.20.0 dvc-task-0.40.2 entrypoints-0.4 executing-2.2.0 filelock-3.16.1 flake8-5.0.4 flask-2.3.3 flatten-dict-0.4.2 flufl.lock-7.1.1 fonttools-4.57.0 frozenlist-1.5.0 fsspec-2025.3.0 funcy-2.0 gitdb-4.0.12 gitpython-3.1.45 grandalf-0.8 greenlet-3.1.1 gto-1.6.2 gunicorn-20.1.0 hydra-core-1.3.2 idna-3.10 importlib-metadata-6.11.0 importlib-resources-6.4.5 iniconfig-2.1.0 ipykernel-6.29.5 ipython-8.12.3 iterative-telemetry-0.0.10 itsdangerous-2.2.0 jedi-0.19.2 joblib-1.4.2 jupyter-client-8.6.3 jupyter-core-5.8.1 kiwisolver-1.4.7 kombu-5.5.4 llvmlite-0.41.1 markdown-3.7 markdown-it-py-3.0.0 matplotlib-3.7.5 matplotlib-inline-0.1.7 mccabe-0.7.0 mdurl-0.1.2 mlflow-2.2.2 multidict-6.1.0 mypy-0.971 mypy-extensions-1.1.0 nest-asyncio-1.6.0 networkx-3.1 numba-0.58.1 numpy-1.24.4 nvidia-nccl-cu12-2.27.6 oauthlib-3.3.1 omegaconf-2.3.0 orjson-3.10.15 packaging-23.2 pandas-2.0.3 parso-0.8.4 pathspec-0.12.1 pexpect-4.9.0 pickleshare-0.7.5 pillow-10.4.0 platformdirs-3.11.0 pluggy-1.5.0 prompt-toolkit-3.0.51 propcache-0.2.0 protobuf-4.25.8 psutil-7.0.0 ptyprocess-0.7.0 pure-eval-0.2.3 py-1.11.0 pyarrow-11.0.0 pycodestyle-2.9.1 pycparser-2.22 pydantic-2.10.6 pydantic-core-2.27.2 pydot-4.0.1 pyflakes-2.5.0 pygit2-1.13.3 pygments-2.19.2 pygtrie-2.5.0 pyjwt-2.9.0 pyparsing-3.1.4 pytest-7.1.3 python-dateutil-2.9.0.post0 pytz-2022.7.1 pyyaml-6.0.2 pyzmq-27.0.0 querystring-parser-1.2.4 requests-2.32.4 rich-14.1.0 ruamel.yaml-0.18.14 ruamel.yaml.clib-0.2.8 scikit-learn-1.3.2 scipy-1.10.1 scmrepo-2.0.4 seaborn-0.13.2 semver-3.0.4 shap-0.44.1 shellingham-1.5.4 shortuuid-1.0.13 shtab-1.7.2 six-1.17.0 slicer-0.0.7 smmap-5.0.2 sqlalchemy-2.0.42 sqlparse-0.5.3 sqltrie-0.11.2 stack-data-0.6.3 tabulate-0.9.0 threadpoolctl-3.5.0 toml-0.10.2 tomli-2.2.1 tomlkit-0.13.3 tornado-6.4.2 tox-3.25.1 tqdm-4.67.1 traitlets-5.14.3 typer-0.16.0 typing-extensions-4.13.2 tzdata-2025.2 urllib3-2.2.3 vine-5.1.0 virtualenv-20.32.0 voluptuous-0.14.2 wcwidth-0.2.13 websocket-client-1.8.0 xgboost-2.1.4 yarl-1.15.2 zc.lockfile-3.0.post1 zipp-3.20.2\n"
          ]
        }
      ]
    },
    {
      "cell_type": "code",
      "source": [
        "from google.colab import userdata\n",
        "kagglekey = userdata.get('KAGGLEKEY')"
      ],
      "metadata": {
        "id": "eMOebCraLkYI"
      },
      "execution_count": 7,
      "outputs": []
    },
    {
      "cell_type": "code",
      "source": [
        "api_token = {\"username\":\"henryhsu\",\"key\":kagglekey}\n",
        "\n",
        "import json\n",
        "import zipfile\n",
        "import os\n",
        "\n",
        "if not os.path.exists(\"/root/.kaggle\"):\n",
        "    os.makedirs(\"/root/.kaggle\")\n",
        "\n",
        "with open('/root/.kaggle/kaggle.json', 'w') as file:\n",
        "    json.dump(api_token, file)\n",
        "!chmod 600 /root/.kaggle/kaggle.json\n",
        "\n",
        "# if not os.path.exists(\"/kaggle\"):\n",
        "#     os.makedirs(\"/kaggle\")\n",
        "# os.chdir('/kaggle')\n",
        "# !kaggle datasets download -d chetankv/dogs-cats-images --force\n",
        "\n",
        "# !ls /kaggle"
      ],
      "metadata": {
        "id": "WcMnI6DXfWkP"
      },
      "execution_count": 9,
      "outputs": []
    },
    {
      "cell_type": "code",
      "source": [
        "!kaggle competitions download -c playground-series-s3e8"
      ],
      "metadata": {
        "id": "MOBHJ1nNgc3Q",
        "outputId": "77b5a174-57e1-43c7-cdb6-42560edd3242",
        "colab": {
          "base_uri": "https://localhost:8080/"
        }
      },
      "execution_count": 10,
      "outputs": [
        {
          "output_type": "stream",
          "name": "stdout",
          "text": [
            "Downloading playground-series-s3e8.zip to /content\n",
            "\r  0% 0.00/5.07M [00:00<?, ?B/s]\n",
            "\r100% 5.07M/5.07M [00:00<00:00, 691MB/s]\n"
          ]
        }
      ]
    },
    {
      "cell_type": "code",
      "source": [
        "!unzip playground-series-s3e8.zip"
      ],
      "metadata": {
        "id": "Q70jwZxhvm7V",
        "outputId": "4ffa358a-6caf-4a5f-d29e-0818f2e56403",
        "colab": {
          "base_uri": "https://localhost:8080/"
        }
      },
      "execution_count": 12,
      "outputs": [
        {
          "output_type": "stream",
          "name": "stdout",
          "text": [
            "Archive:  playground-series-s3e8.zip\n",
            "  inflating: sample_submission.csv   \n",
            "  inflating: test.csv                \n",
            "  inflating: train.csv               \n"
          ]
        }
      ]
    },
    {
      "cell_type": "markdown",
      "source": [
        "---"
      ],
      "metadata": {
        "id": "sV1yt0Anszv0"
      }
    },
    {
      "cell_type": "markdown",
      "source": [
        "# Data collection"
      ],
      "metadata": {
        "id": "5priambOTFat"
      }
    },
    {
      "cell_type": "code",
      "execution_count": 13,
      "metadata": {
        "id": "KH53WWlKsv9x"
      },
      "outputs": [],
      "source": [
        "import pandas as pd"
      ]
    },
    {
      "cell_type": "markdown",
      "metadata": {
        "id": "2fMwCCDLsv96"
      },
      "source": [
        "Introduction About the Data :\n",
        "The dataset The goal is to predict price of given diamond (Regression Analysis).\n",
        "\n",
        "There are **10** independent variables (including id):\n",
        "\n",
        "**id** : unique identifier of each diamond\n",
        "\n",
        "**carat** : Carat (ct.) refers to the unique unit of weight measurement used exclusively to weigh gemstones and diamonds.\n",
        "\n",
        "**cut** : Quality of Diamond Cut\n",
        "\n",
        "**color** : Color of Diamond\n",
        "\n",
        "**clarity** : Diamond clarity is a measure of the purity and rarity of the stone, graded by the visibility of these characteristics under 10-power magnification.\n",
        "\n",
        "**depth** : The depth of diamond is its height (in millimeters) measured from the culet (bottom tip) to the table (flat, top surface)\n",
        "\n",
        "**table** : A diamond's table is the facet which can be seen when the stone is viewed face up.\n",
        "\n",
        "**x** : Diamond X dimension\n",
        "\n",
        "**y** : Diamond Y dimension\n",
        "\n",
        "**z** : Diamond Z dimension\n",
        "\n",
        "*Target* variable:\n",
        "\n",
        "*price*: Price of the given Diamond."
      ]
    },
    {
      "cell_type": "code",
      "execution_count": 16,
      "metadata": {
        "id": "Fx8mvMtDsv-B"
      },
      "outputs": [],
      "source": [
        "# data=pd.read_csv(\"https://raw.githubusercontent.com/sunnysavita10/fsdsmendtoend/main/notebooks/data/gemstone.csv\") # doesn't exist\n",
        "data=pd.read_csv(\"https://raw.githubusercontent.com/henrykohl/Gemstone-Price-Prediction-End-to-End-Pipeline/refs/heads/main/notebooks/data/raw.csv\")"
      ]
    },
    {
      "cell_type": "code",
      "execution_count": 17,
      "metadata": {
        "id": "9CCUTfBusv-C",
        "outputId": "58510586-4169-4759-9c1f-0e227eadbbe2",
        "colab": {
          "base_uri": "https://localhost:8080/",
          "height": 112
        }
      },
      "outputs": [
        {
          "output_type": "execute_result",
          "data": {
            "text/plain": [
              "   id  carat        cut color clarity  depth  table     x     y     z  price\n",
              "0   0   1.52    Premium     F     VS2   62.2   58.0  7.27  7.33  4.55  13619\n",
              "1   1   2.03  Very Good     J     SI2   62.0   58.0  8.06  8.12  5.05  13387"
            ],
            "text/html": [
              "\n",
              "  <div id=\"df-7b14db45-25fc-45ad-bf00-0bc7aff21752\" class=\"colab-df-container\">\n",
              "    <div>\n",
              "<style scoped>\n",
              "    .dataframe tbody tr th:only-of-type {\n",
              "        vertical-align: middle;\n",
              "    }\n",
              "\n",
              "    .dataframe tbody tr th {\n",
              "        vertical-align: top;\n",
              "    }\n",
              "\n",
              "    .dataframe thead th {\n",
              "        text-align: right;\n",
              "    }\n",
              "</style>\n",
              "<table border=\"1\" class=\"dataframe\">\n",
              "  <thead>\n",
              "    <tr style=\"text-align: right;\">\n",
              "      <th></th>\n",
              "      <th>id</th>\n",
              "      <th>carat</th>\n",
              "      <th>cut</th>\n",
              "      <th>color</th>\n",
              "      <th>clarity</th>\n",
              "      <th>depth</th>\n",
              "      <th>table</th>\n",
              "      <th>x</th>\n",
              "      <th>y</th>\n",
              "      <th>z</th>\n",
              "      <th>price</th>\n",
              "    </tr>\n",
              "  </thead>\n",
              "  <tbody>\n",
              "    <tr>\n",
              "      <th>0</th>\n",
              "      <td>0</td>\n",
              "      <td>1.52</td>\n",
              "      <td>Premium</td>\n",
              "      <td>F</td>\n",
              "      <td>VS2</td>\n",
              "      <td>62.2</td>\n",
              "      <td>58.0</td>\n",
              "      <td>7.27</td>\n",
              "      <td>7.33</td>\n",
              "      <td>4.55</td>\n",
              "      <td>13619</td>\n",
              "    </tr>\n",
              "    <tr>\n",
              "      <th>1</th>\n",
              "      <td>1</td>\n",
              "      <td>2.03</td>\n",
              "      <td>Very Good</td>\n",
              "      <td>J</td>\n",
              "      <td>SI2</td>\n",
              "      <td>62.0</td>\n",
              "      <td>58.0</td>\n",
              "      <td>8.06</td>\n",
              "      <td>8.12</td>\n",
              "      <td>5.05</td>\n",
              "      <td>13387</td>\n",
              "    </tr>\n",
              "  </tbody>\n",
              "</table>\n",
              "</div>\n",
              "    <div class=\"colab-df-buttons\">\n",
              "\n",
              "  <div class=\"colab-df-container\">\n",
              "    <button class=\"colab-df-convert\" onclick=\"convertToInteractive('df-7b14db45-25fc-45ad-bf00-0bc7aff21752')\"\n",
              "            title=\"Convert this dataframe to an interactive table.\"\n",
              "            style=\"display:none;\">\n",
              "\n",
              "  <svg xmlns=\"http://www.w3.org/2000/svg\" height=\"24px\" viewBox=\"0 -960 960 960\">\n",
              "    <path d=\"M120-120v-720h720v720H120Zm60-500h600v-160H180v160Zm220 220h160v-160H400v160Zm0 220h160v-160H400v160ZM180-400h160v-160H180v160Zm440 0h160v-160H620v160ZM180-180h160v-160H180v160Zm440 0h160v-160H620v160Z\"/>\n",
              "  </svg>\n",
              "    </button>\n",
              "\n",
              "  <style>\n",
              "    .colab-df-container {\n",
              "      display:flex;\n",
              "      gap: 12px;\n",
              "    }\n",
              "\n",
              "    .colab-df-convert {\n",
              "      background-color: #E8F0FE;\n",
              "      border: none;\n",
              "      border-radius: 50%;\n",
              "      cursor: pointer;\n",
              "      display: none;\n",
              "      fill: #1967D2;\n",
              "      height: 32px;\n",
              "      padding: 0 0 0 0;\n",
              "      width: 32px;\n",
              "    }\n",
              "\n",
              "    .colab-df-convert:hover {\n",
              "      background-color: #E2EBFA;\n",
              "      box-shadow: 0px 1px 2px rgba(60, 64, 67, 0.3), 0px 1px 3px 1px rgba(60, 64, 67, 0.15);\n",
              "      fill: #174EA6;\n",
              "    }\n",
              "\n",
              "    .colab-df-buttons div {\n",
              "      margin-bottom: 4px;\n",
              "    }\n",
              "\n",
              "    [theme=dark] .colab-df-convert {\n",
              "      background-color: #3B4455;\n",
              "      fill: #D2E3FC;\n",
              "    }\n",
              "\n",
              "    [theme=dark] .colab-df-convert:hover {\n",
              "      background-color: #434B5C;\n",
              "      box-shadow: 0px 1px 3px 1px rgba(0, 0, 0, 0.15);\n",
              "      filter: drop-shadow(0px 1px 2px rgba(0, 0, 0, 0.3));\n",
              "      fill: #FFFFFF;\n",
              "    }\n",
              "  </style>\n",
              "\n",
              "    <script>\n",
              "      const buttonEl =\n",
              "        document.querySelector('#df-7b14db45-25fc-45ad-bf00-0bc7aff21752 button.colab-df-convert');\n",
              "      buttonEl.style.display =\n",
              "        google.colab.kernel.accessAllowed ? 'block' : 'none';\n",
              "\n",
              "      async function convertToInteractive(key) {\n",
              "        const element = document.querySelector('#df-7b14db45-25fc-45ad-bf00-0bc7aff21752');\n",
              "        const dataTable =\n",
              "          await google.colab.kernel.invokeFunction('convertToInteractive',\n",
              "                                                    [key], {});\n",
              "        if (!dataTable) return;\n",
              "\n",
              "        const docLinkHtml = 'Like what you see? Visit the ' +\n",
              "          '<a target=\"_blank\" href=https://colab.research.google.com/notebooks/data_table.ipynb>data table notebook</a>'\n",
              "          + ' to learn more about interactive tables.';\n",
              "        element.innerHTML = '';\n",
              "        dataTable['output_type'] = 'display_data';\n",
              "        await google.colab.output.renderOutput(dataTable, element);\n",
              "        const docLink = document.createElement('div');\n",
              "        docLink.innerHTML = docLinkHtml;\n",
              "        element.appendChild(docLink);\n",
              "      }\n",
              "    </script>\n",
              "  </div>\n",
              "\n",
              "\n",
              "    <div id=\"df-aa7b165b-f6f6-4ca3-8977-557f70465ab6\">\n",
              "      <button class=\"colab-df-quickchart\" onclick=\"quickchart('df-aa7b165b-f6f6-4ca3-8977-557f70465ab6')\"\n",
              "                title=\"Suggest charts\"\n",
              "                style=\"display:none;\">\n",
              "\n",
              "<svg xmlns=\"http://www.w3.org/2000/svg\" height=\"24px\"viewBox=\"0 0 24 24\"\n",
              "     width=\"24px\">\n",
              "    <g>\n",
              "        <path d=\"M19 3H5c-1.1 0-2 .9-2 2v14c0 1.1.9 2 2 2h14c1.1 0 2-.9 2-2V5c0-1.1-.9-2-2-2zM9 17H7v-7h2v7zm4 0h-2V7h2v10zm4 0h-2v-4h2v4z\"/>\n",
              "    </g>\n",
              "</svg>\n",
              "      </button>\n",
              "\n",
              "<style>\n",
              "  .colab-df-quickchart {\n",
              "      --bg-color: #E8F0FE;\n",
              "      --fill-color: #1967D2;\n",
              "      --hover-bg-color: #E2EBFA;\n",
              "      --hover-fill-color: #174EA6;\n",
              "      --disabled-fill-color: #AAA;\n",
              "      --disabled-bg-color: #DDD;\n",
              "  }\n",
              "\n",
              "  [theme=dark] .colab-df-quickchart {\n",
              "      --bg-color: #3B4455;\n",
              "      --fill-color: #D2E3FC;\n",
              "      --hover-bg-color: #434B5C;\n",
              "      --hover-fill-color: #FFFFFF;\n",
              "      --disabled-bg-color: #3B4455;\n",
              "      --disabled-fill-color: #666;\n",
              "  }\n",
              "\n",
              "  .colab-df-quickchart {\n",
              "    background-color: var(--bg-color);\n",
              "    border: none;\n",
              "    border-radius: 50%;\n",
              "    cursor: pointer;\n",
              "    display: none;\n",
              "    fill: var(--fill-color);\n",
              "    height: 32px;\n",
              "    padding: 0;\n",
              "    width: 32px;\n",
              "  }\n",
              "\n",
              "  .colab-df-quickchart:hover {\n",
              "    background-color: var(--hover-bg-color);\n",
              "    box-shadow: 0 1px 2px rgba(60, 64, 67, 0.3), 0 1px 3px 1px rgba(60, 64, 67, 0.15);\n",
              "    fill: var(--button-hover-fill-color);\n",
              "  }\n",
              "\n",
              "  .colab-df-quickchart-complete:disabled,\n",
              "  .colab-df-quickchart-complete:disabled:hover {\n",
              "    background-color: var(--disabled-bg-color);\n",
              "    fill: var(--disabled-fill-color);\n",
              "    box-shadow: none;\n",
              "  }\n",
              "\n",
              "  .colab-df-spinner {\n",
              "    border: 2px solid var(--fill-color);\n",
              "    border-color: transparent;\n",
              "    border-bottom-color: var(--fill-color);\n",
              "    animation:\n",
              "      spin 1s steps(1) infinite;\n",
              "  }\n",
              "\n",
              "  @keyframes spin {\n",
              "    0% {\n",
              "      border-color: transparent;\n",
              "      border-bottom-color: var(--fill-color);\n",
              "      border-left-color: var(--fill-color);\n",
              "    }\n",
              "    20% {\n",
              "      border-color: transparent;\n",
              "      border-left-color: var(--fill-color);\n",
              "      border-top-color: var(--fill-color);\n",
              "    }\n",
              "    30% {\n",
              "      border-color: transparent;\n",
              "      border-left-color: var(--fill-color);\n",
              "      border-top-color: var(--fill-color);\n",
              "      border-right-color: var(--fill-color);\n",
              "    }\n",
              "    40% {\n",
              "      border-color: transparent;\n",
              "      border-right-color: var(--fill-color);\n",
              "      border-top-color: var(--fill-color);\n",
              "    }\n",
              "    60% {\n",
              "      border-color: transparent;\n",
              "      border-right-color: var(--fill-color);\n",
              "    }\n",
              "    80% {\n",
              "      border-color: transparent;\n",
              "      border-right-color: var(--fill-color);\n",
              "      border-bottom-color: var(--fill-color);\n",
              "    }\n",
              "    90% {\n",
              "      border-color: transparent;\n",
              "      border-bottom-color: var(--fill-color);\n",
              "    }\n",
              "  }\n",
              "</style>\n",
              "\n",
              "      <script>\n",
              "        async function quickchart(key) {\n",
              "          const quickchartButtonEl =\n",
              "            document.querySelector('#' + key + ' button');\n",
              "          quickchartButtonEl.disabled = true;  // To prevent multiple clicks.\n",
              "          quickchartButtonEl.classList.add('colab-df-spinner');\n",
              "          try {\n",
              "            const charts = await google.colab.kernel.invokeFunction(\n",
              "                'suggestCharts', [key], {});\n",
              "          } catch (error) {\n",
              "            console.error('Error during call to suggestCharts:', error);\n",
              "          }\n",
              "          quickchartButtonEl.classList.remove('colab-df-spinner');\n",
              "          quickchartButtonEl.classList.add('colab-df-quickchart-complete');\n",
              "        }\n",
              "        (() => {\n",
              "          let quickchartButtonEl =\n",
              "            document.querySelector('#df-aa7b165b-f6f6-4ca3-8977-557f70465ab6 button');\n",
              "          quickchartButtonEl.style.display =\n",
              "            google.colab.kernel.accessAllowed ? 'block' : 'none';\n",
              "        })();\n",
              "      </script>\n",
              "    </div>\n",
              "\n",
              "    </div>\n",
              "  </div>\n"
            ],
            "application/vnd.google.colaboratory.intrinsic+json": {
              "type": "dataframe",
              "variable_name": "data"
            }
          },
          "metadata": {},
          "execution_count": 17
        }
      ],
      "source": [
        "data.head(2)"
      ]
    },
    {
      "cell_type": "code",
      "source": [
        "data[\"cut\"].value_counts()"
      ],
      "metadata": {
        "id": "P9eN3XsVo7Lt",
        "outputId": "83532e39-0e81-43ce-941d-8b35f30bcfeb",
        "colab": {
          "base_uri": "https://localhost:8080/",
          "height": 272
        }
      },
      "execution_count": 19,
      "outputs": [
        {
          "output_type": "execute_result",
          "data": {
            "text/plain": [
              "cut\n",
              "Ideal        92454\n",
              "Premium      49910\n",
              "Very Good    37566\n",
              "Good         11622\n",
              "Fair          2021\n",
              "Name: count, dtype: int64"
            ],
            "text/html": [
              "<div>\n",
              "<style scoped>\n",
              "    .dataframe tbody tr th:only-of-type {\n",
              "        vertical-align: middle;\n",
              "    }\n",
              "\n",
              "    .dataframe tbody tr th {\n",
              "        vertical-align: top;\n",
              "    }\n",
              "\n",
              "    .dataframe thead th {\n",
              "        text-align: right;\n",
              "    }\n",
              "</style>\n",
              "<table border=\"1\" class=\"dataframe\">\n",
              "  <thead>\n",
              "    <tr style=\"text-align: right;\">\n",
              "      <th></th>\n",
              "      <th>count</th>\n",
              "    </tr>\n",
              "    <tr>\n",
              "      <th>cut</th>\n",
              "      <th></th>\n",
              "    </tr>\n",
              "  </thead>\n",
              "  <tbody>\n",
              "    <tr>\n",
              "      <th>Ideal</th>\n",
              "      <td>92454</td>\n",
              "    </tr>\n",
              "    <tr>\n",
              "      <th>Premium</th>\n",
              "      <td>49910</td>\n",
              "    </tr>\n",
              "    <tr>\n",
              "      <th>Very Good</th>\n",
              "      <td>37566</td>\n",
              "    </tr>\n",
              "    <tr>\n",
              "      <th>Good</th>\n",
              "      <td>11622</td>\n",
              "    </tr>\n",
              "    <tr>\n",
              "      <th>Fair</th>\n",
              "      <td>2021</td>\n",
              "    </tr>\n",
              "  </tbody>\n",
              "</table>\n",
              "</div><br><label><b>dtype:</b> int64</label>"
            ]
          },
          "metadata": {},
          "execution_count": 19
        }
      ]
    },
    {
      "cell_type": "code",
      "execution_count": 18,
      "metadata": {
        "id": "DzE7aLzFsv-D",
        "outputId": "7b25044b-c14d-412f-d98e-54407f68843a",
        "colab": {
          "base_uri": "https://localhost:8080/",
          "height": 335
        }
      },
      "outputs": [
        {
          "output_type": "execute_result",
          "data": {
            "text/plain": [
              "color\n",
              "G    44391\n",
              "E    35869\n",
              "F    34258\n",
              "H    30799\n",
              "D    24286\n",
              "I    17514\n",
              "J     6456\n",
              "Name: count, dtype: int64"
            ],
            "text/html": [
              "<div>\n",
              "<style scoped>\n",
              "    .dataframe tbody tr th:only-of-type {\n",
              "        vertical-align: middle;\n",
              "    }\n",
              "\n",
              "    .dataframe tbody tr th {\n",
              "        vertical-align: top;\n",
              "    }\n",
              "\n",
              "    .dataframe thead th {\n",
              "        text-align: right;\n",
              "    }\n",
              "</style>\n",
              "<table border=\"1\" class=\"dataframe\">\n",
              "  <thead>\n",
              "    <tr style=\"text-align: right;\">\n",
              "      <th></th>\n",
              "      <th>count</th>\n",
              "    </tr>\n",
              "    <tr>\n",
              "      <th>color</th>\n",
              "      <th></th>\n",
              "    </tr>\n",
              "  </thead>\n",
              "  <tbody>\n",
              "    <tr>\n",
              "      <th>G</th>\n",
              "      <td>44391</td>\n",
              "    </tr>\n",
              "    <tr>\n",
              "      <th>E</th>\n",
              "      <td>35869</td>\n",
              "    </tr>\n",
              "    <tr>\n",
              "      <th>F</th>\n",
              "      <td>34258</td>\n",
              "    </tr>\n",
              "    <tr>\n",
              "      <th>H</th>\n",
              "      <td>30799</td>\n",
              "    </tr>\n",
              "    <tr>\n",
              "      <th>D</th>\n",
              "      <td>24286</td>\n",
              "    </tr>\n",
              "    <tr>\n",
              "      <th>I</th>\n",
              "      <td>17514</td>\n",
              "    </tr>\n",
              "    <tr>\n",
              "      <th>J</th>\n",
              "      <td>6456</td>\n",
              "    </tr>\n",
              "  </tbody>\n",
              "</table>\n",
              "</div><br><label><b>dtype:</b> int64</label>"
            ]
          },
          "metadata": {},
          "execution_count": 18
        }
      ],
      "source": [
        "data[\"color\"].value_counts()"
      ]
    },
    {
      "cell_type": "code",
      "execution_count": 20,
      "metadata": {
        "id": "cyof7dKQsv-D",
        "outputId": "d3425729-267e-48a4-a96a-e2675f35e6e0",
        "colab": {
          "base_uri": "https://localhost:8080/",
          "height": 363
        }
      },
      "outputs": [
        {
          "output_type": "execute_result",
          "data": {
            "text/plain": [
              "            id  carat        cut color clarity  depth  table     x     y  \\\n",
              "162310  162310   1.51      Ideal     I     VS2   61.8   59.0  7.28  7.35   \n",
              "56071    56071   0.93  Very Good     D     SI2   61.6   57.0  6.27  6.32   \n",
              "65244    65244   0.90      Ideal     G     SI1   62.1   57.0  6.20  6.16   \n",
              "182454  182454   0.66      Ideal     G    VVS1   62.6   55.0  5.61  5.53   \n",
              "45708    45708   0.70       Good     I     SI1   63.2   60.0  5.59  5.63   \n",
              "66712    66712   1.01    Premium     H     SI1   62.4   58.0  6.40  6.43   \n",
              "20629    20629   0.90      Ideal     H     VS2   62.0   55.0  6.17  6.23   \n",
              "153811  153811   0.32    Premium     H     VS2   61.1   60.0  4.36  4.38   \n",
              "46452    46452   0.61      Ideal     H     SI1   62.2   54.0  5.46  5.43   \n",
              "69898    69898   0.41      Ideal     G    VVS2   62.1   56.0  4.78  4.82   \n",
              "\n",
              "           z  price  \n",
              "162310  4.52   9920  \n",
              "56071   3.89   4670  \n",
              "65244   3.84   4386  \n",
              "182454  3.48   2542  \n",
              "45708   3.54   1994  \n",
              "66712   3.99   4685  \n",
              "20629   3.85   4022  \n",
              "153811  2.67    648  \n",
              "46452   3.37   1304  \n",
              "69898   2.98   1145  "
            ],
            "text/html": [
              "\n",
              "  <div id=\"df-89ebc230-b049-4702-9c87-c6558678d6c6\" class=\"colab-df-container\">\n",
              "    <div>\n",
              "<style scoped>\n",
              "    .dataframe tbody tr th:only-of-type {\n",
              "        vertical-align: middle;\n",
              "    }\n",
              "\n",
              "    .dataframe tbody tr th {\n",
              "        vertical-align: top;\n",
              "    }\n",
              "\n",
              "    .dataframe thead th {\n",
              "        text-align: right;\n",
              "    }\n",
              "</style>\n",
              "<table border=\"1\" class=\"dataframe\">\n",
              "  <thead>\n",
              "    <tr style=\"text-align: right;\">\n",
              "      <th></th>\n",
              "      <th>id</th>\n",
              "      <th>carat</th>\n",
              "      <th>cut</th>\n",
              "      <th>color</th>\n",
              "      <th>clarity</th>\n",
              "      <th>depth</th>\n",
              "      <th>table</th>\n",
              "      <th>x</th>\n",
              "      <th>y</th>\n",
              "      <th>z</th>\n",
              "      <th>price</th>\n",
              "    </tr>\n",
              "  </thead>\n",
              "  <tbody>\n",
              "    <tr>\n",
              "      <th>162310</th>\n",
              "      <td>162310</td>\n",
              "      <td>1.51</td>\n",
              "      <td>Ideal</td>\n",
              "      <td>I</td>\n",
              "      <td>VS2</td>\n",
              "      <td>61.8</td>\n",
              "      <td>59.0</td>\n",
              "      <td>7.28</td>\n",
              "      <td>7.35</td>\n",
              "      <td>4.52</td>\n",
              "      <td>9920</td>\n",
              "    </tr>\n",
              "    <tr>\n",
              "      <th>56071</th>\n",
              "      <td>56071</td>\n",
              "      <td>0.93</td>\n",
              "      <td>Very Good</td>\n",
              "      <td>D</td>\n",
              "      <td>SI2</td>\n",
              "      <td>61.6</td>\n",
              "      <td>57.0</td>\n",
              "      <td>6.27</td>\n",
              "      <td>6.32</td>\n",
              "      <td>3.89</td>\n",
              "      <td>4670</td>\n",
              "    </tr>\n",
              "    <tr>\n",
              "      <th>65244</th>\n",
              "      <td>65244</td>\n",
              "      <td>0.90</td>\n",
              "      <td>Ideal</td>\n",
              "      <td>G</td>\n",
              "      <td>SI1</td>\n",
              "      <td>62.1</td>\n",
              "      <td>57.0</td>\n",
              "      <td>6.20</td>\n",
              "      <td>6.16</td>\n",
              "      <td>3.84</td>\n",
              "      <td>4386</td>\n",
              "    </tr>\n",
              "    <tr>\n",
              "      <th>182454</th>\n",
              "      <td>182454</td>\n",
              "      <td>0.66</td>\n",
              "      <td>Ideal</td>\n",
              "      <td>G</td>\n",
              "      <td>VVS1</td>\n",
              "      <td>62.6</td>\n",
              "      <td>55.0</td>\n",
              "      <td>5.61</td>\n",
              "      <td>5.53</td>\n",
              "      <td>3.48</td>\n",
              "      <td>2542</td>\n",
              "    </tr>\n",
              "    <tr>\n",
              "      <th>45708</th>\n",
              "      <td>45708</td>\n",
              "      <td>0.70</td>\n",
              "      <td>Good</td>\n",
              "      <td>I</td>\n",
              "      <td>SI1</td>\n",
              "      <td>63.2</td>\n",
              "      <td>60.0</td>\n",
              "      <td>5.59</td>\n",
              "      <td>5.63</td>\n",
              "      <td>3.54</td>\n",
              "      <td>1994</td>\n",
              "    </tr>\n",
              "    <tr>\n",
              "      <th>66712</th>\n",
              "      <td>66712</td>\n",
              "      <td>1.01</td>\n",
              "      <td>Premium</td>\n",
              "      <td>H</td>\n",
              "      <td>SI1</td>\n",
              "      <td>62.4</td>\n",
              "      <td>58.0</td>\n",
              "      <td>6.40</td>\n",
              "      <td>6.43</td>\n",
              "      <td>3.99</td>\n",
              "      <td>4685</td>\n",
              "    </tr>\n",
              "    <tr>\n",
              "      <th>20629</th>\n",
              "      <td>20629</td>\n",
              "      <td>0.90</td>\n",
              "      <td>Ideal</td>\n",
              "      <td>H</td>\n",
              "      <td>VS2</td>\n",
              "      <td>62.0</td>\n",
              "      <td>55.0</td>\n",
              "      <td>6.17</td>\n",
              "      <td>6.23</td>\n",
              "      <td>3.85</td>\n",
              "      <td>4022</td>\n",
              "    </tr>\n",
              "    <tr>\n",
              "      <th>153811</th>\n",
              "      <td>153811</td>\n",
              "      <td>0.32</td>\n",
              "      <td>Premium</td>\n",
              "      <td>H</td>\n",
              "      <td>VS2</td>\n",
              "      <td>61.1</td>\n",
              "      <td>60.0</td>\n",
              "      <td>4.36</td>\n",
              "      <td>4.38</td>\n",
              "      <td>2.67</td>\n",
              "      <td>648</td>\n",
              "    </tr>\n",
              "    <tr>\n",
              "      <th>46452</th>\n",
              "      <td>46452</td>\n",
              "      <td>0.61</td>\n",
              "      <td>Ideal</td>\n",
              "      <td>H</td>\n",
              "      <td>SI1</td>\n",
              "      <td>62.2</td>\n",
              "      <td>54.0</td>\n",
              "      <td>5.46</td>\n",
              "      <td>5.43</td>\n",
              "      <td>3.37</td>\n",
              "      <td>1304</td>\n",
              "    </tr>\n",
              "    <tr>\n",
              "      <th>69898</th>\n",
              "      <td>69898</td>\n",
              "      <td>0.41</td>\n",
              "      <td>Ideal</td>\n",
              "      <td>G</td>\n",
              "      <td>VVS2</td>\n",
              "      <td>62.1</td>\n",
              "      <td>56.0</td>\n",
              "      <td>4.78</td>\n",
              "      <td>4.82</td>\n",
              "      <td>2.98</td>\n",
              "      <td>1145</td>\n",
              "    </tr>\n",
              "  </tbody>\n",
              "</table>\n",
              "</div>\n",
              "    <div class=\"colab-df-buttons\">\n",
              "\n",
              "  <div class=\"colab-df-container\">\n",
              "    <button class=\"colab-df-convert\" onclick=\"convertToInteractive('df-89ebc230-b049-4702-9c87-c6558678d6c6')\"\n",
              "            title=\"Convert this dataframe to an interactive table.\"\n",
              "            style=\"display:none;\">\n",
              "\n",
              "  <svg xmlns=\"http://www.w3.org/2000/svg\" height=\"24px\" viewBox=\"0 -960 960 960\">\n",
              "    <path d=\"M120-120v-720h720v720H120Zm60-500h600v-160H180v160Zm220 220h160v-160H400v160Zm0 220h160v-160H400v160ZM180-400h160v-160H180v160Zm440 0h160v-160H620v160ZM180-180h160v-160H180v160Zm440 0h160v-160H620v160Z\"/>\n",
              "  </svg>\n",
              "    </button>\n",
              "\n",
              "  <style>\n",
              "    .colab-df-container {\n",
              "      display:flex;\n",
              "      gap: 12px;\n",
              "    }\n",
              "\n",
              "    .colab-df-convert {\n",
              "      background-color: #E8F0FE;\n",
              "      border: none;\n",
              "      border-radius: 50%;\n",
              "      cursor: pointer;\n",
              "      display: none;\n",
              "      fill: #1967D2;\n",
              "      height: 32px;\n",
              "      padding: 0 0 0 0;\n",
              "      width: 32px;\n",
              "    }\n",
              "\n",
              "    .colab-df-convert:hover {\n",
              "      background-color: #E2EBFA;\n",
              "      box-shadow: 0px 1px 2px rgba(60, 64, 67, 0.3), 0px 1px 3px 1px rgba(60, 64, 67, 0.15);\n",
              "      fill: #174EA6;\n",
              "    }\n",
              "\n",
              "    .colab-df-buttons div {\n",
              "      margin-bottom: 4px;\n",
              "    }\n",
              "\n",
              "    [theme=dark] .colab-df-convert {\n",
              "      background-color: #3B4455;\n",
              "      fill: #D2E3FC;\n",
              "    }\n",
              "\n",
              "    [theme=dark] .colab-df-convert:hover {\n",
              "      background-color: #434B5C;\n",
              "      box-shadow: 0px 1px 3px 1px rgba(0, 0, 0, 0.15);\n",
              "      filter: drop-shadow(0px 1px 2px rgba(0, 0, 0, 0.3));\n",
              "      fill: #FFFFFF;\n",
              "    }\n",
              "  </style>\n",
              "\n",
              "    <script>\n",
              "      const buttonEl =\n",
              "        document.querySelector('#df-89ebc230-b049-4702-9c87-c6558678d6c6 button.colab-df-convert');\n",
              "      buttonEl.style.display =\n",
              "        google.colab.kernel.accessAllowed ? 'block' : 'none';\n",
              "\n",
              "      async function convertToInteractive(key) {\n",
              "        const element = document.querySelector('#df-89ebc230-b049-4702-9c87-c6558678d6c6');\n",
              "        const dataTable =\n",
              "          await google.colab.kernel.invokeFunction('convertToInteractive',\n",
              "                                                    [key], {});\n",
              "        if (!dataTable) return;\n",
              "\n",
              "        const docLinkHtml = 'Like what you see? Visit the ' +\n",
              "          '<a target=\"_blank\" href=https://colab.research.google.com/notebooks/data_table.ipynb>data table notebook</a>'\n",
              "          + ' to learn more about interactive tables.';\n",
              "        element.innerHTML = '';\n",
              "        dataTable['output_type'] = 'display_data';\n",
              "        await google.colab.output.renderOutput(dataTable, element);\n",
              "        const docLink = document.createElement('div');\n",
              "        docLink.innerHTML = docLinkHtml;\n",
              "        element.appendChild(docLink);\n",
              "      }\n",
              "    </script>\n",
              "  </div>\n",
              "\n",
              "\n",
              "    <div id=\"df-426e45bd-981b-4c67-9c4e-ec8497d01893\">\n",
              "      <button class=\"colab-df-quickchart\" onclick=\"quickchart('df-426e45bd-981b-4c67-9c4e-ec8497d01893')\"\n",
              "                title=\"Suggest charts\"\n",
              "                style=\"display:none;\">\n",
              "\n",
              "<svg xmlns=\"http://www.w3.org/2000/svg\" height=\"24px\"viewBox=\"0 0 24 24\"\n",
              "     width=\"24px\">\n",
              "    <g>\n",
              "        <path d=\"M19 3H5c-1.1 0-2 .9-2 2v14c0 1.1.9 2 2 2h14c1.1 0 2-.9 2-2V5c0-1.1-.9-2-2-2zM9 17H7v-7h2v7zm4 0h-2V7h2v10zm4 0h-2v-4h2v4z\"/>\n",
              "    </g>\n",
              "</svg>\n",
              "      </button>\n",
              "\n",
              "<style>\n",
              "  .colab-df-quickchart {\n",
              "      --bg-color: #E8F0FE;\n",
              "      --fill-color: #1967D2;\n",
              "      --hover-bg-color: #E2EBFA;\n",
              "      --hover-fill-color: #174EA6;\n",
              "      --disabled-fill-color: #AAA;\n",
              "      --disabled-bg-color: #DDD;\n",
              "  }\n",
              "\n",
              "  [theme=dark] .colab-df-quickchart {\n",
              "      --bg-color: #3B4455;\n",
              "      --fill-color: #D2E3FC;\n",
              "      --hover-bg-color: #434B5C;\n",
              "      --hover-fill-color: #FFFFFF;\n",
              "      --disabled-bg-color: #3B4455;\n",
              "      --disabled-fill-color: #666;\n",
              "  }\n",
              "\n",
              "  .colab-df-quickchart {\n",
              "    background-color: var(--bg-color);\n",
              "    border: none;\n",
              "    border-radius: 50%;\n",
              "    cursor: pointer;\n",
              "    display: none;\n",
              "    fill: var(--fill-color);\n",
              "    height: 32px;\n",
              "    padding: 0;\n",
              "    width: 32px;\n",
              "  }\n",
              "\n",
              "  .colab-df-quickchart:hover {\n",
              "    background-color: var(--hover-bg-color);\n",
              "    box-shadow: 0 1px 2px rgba(60, 64, 67, 0.3), 0 1px 3px 1px rgba(60, 64, 67, 0.15);\n",
              "    fill: var(--button-hover-fill-color);\n",
              "  }\n",
              "\n",
              "  .colab-df-quickchart-complete:disabled,\n",
              "  .colab-df-quickchart-complete:disabled:hover {\n",
              "    background-color: var(--disabled-bg-color);\n",
              "    fill: var(--disabled-fill-color);\n",
              "    box-shadow: none;\n",
              "  }\n",
              "\n",
              "  .colab-df-spinner {\n",
              "    border: 2px solid var(--fill-color);\n",
              "    border-color: transparent;\n",
              "    border-bottom-color: var(--fill-color);\n",
              "    animation:\n",
              "      spin 1s steps(1) infinite;\n",
              "  }\n",
              "\n",
              "  @keyframes spin {\n",
              "    0% {\n",
              "      border-color: transparent;\n",
              "      border-bottom-color: var(--fill-color);\n",
              "      border-left-color: var(--fill-color);\n",
              "    }\n",
              "    20% {\n",
              "      border-color: transparent;\n",
              "      border-left-color: var(--fill-color);\n",
              "      border-top-color: var(--fill-color);\n",
              "    }\n",
              "    30% {\n",
              "      border-color: transparent;\n",
              "      border-left-color: var(--fill-color);\n",
              "      border-top-color: var(--fill-color);\n",
              "      border-right-color: var(--fill-color);\n",
              "    }\n",
              "    40% {\n",
              "      border-color: transparent;\n",
              "      border-right-color: var(--fill-color);\n",
              "      border-top-color: var(--fill-color);\n",
              "    }\n",
              "    60% {\n",
              "      border-color: transparent;\n",
              "      border-right-color: var(--fill-color);\n",
              "    }\n",
              "    80% {\n",
              "      border-color: transparent;\n",
              "      border-right-color: var(--fill-color);\n",
              "      border-bottom-color: var(--fill-color);\n",
              "    }\n",
              "    90% {\n",
              "      border-color: transparent;\n",
              "      border-bottom-color: var(--fill-color);\n",
              "    }\n",
              "  }\n",
              "</style>\n",
              "\n",
              "      <script>\n",
              "        async function quickchart(key) {\n",
              "          const quickchartButtonEl =\n",
              "            document.querySelector('#' + key + ' button');\n",
              "          quickchartButtonEl.disabled = true;  // To prevent multiple clicks.\n",
              "          quickchartButtonEl.classList.add('colab-df-spinner');\n",
              "          try {\n",
              "            const charts = await google.colab.kernel.invokeFunction(\n",
              "                'suggestCharts', [key], {});\n",
              "          } catch (error) {\n",
              "            console.error('Error during call to suggestCharts:', error);\n",
              "          }\n",
              "          quickchartButtonEl.classList.remove('colab-df-spinner');\n",
              "          quickchartButtonEl.classList.add('colab-df-quickchart-complete');\n",
              "        }\n",
              "        (() => {\n",
              "          let quickchartButtonEl =\n",
              "            document.querySelector('#df-426e45bd-981b-4c67-9c4e-ec8497d01893 button');\n",
              "          quickchartButtonEl.style.display =\n",
              "            google.colab.kernel.accessAllowed ? 'block' : 'none';\n",
              "        })();\n",
              "      </script>\n",
              "    </div>\n",
              "\n",
              "    </div>\n",
              "  </div>\n"
            ],
            "application/vnd.google.colaboratory.intrinsic+json": {
              "type": "dataframe",
              "summary": "{\n  \"name\": \"data\",\n  \"rows\": 10,\n  \"fields\": [\n    {\n      \"column\": \"id\",\n      \"properties\": {\n        \"dtype\": \"number\",\n        \"std\": 56896,\n        \"min\": 20629,\n        \"max\": 182454,\n        \"num_unique_values\": 10,\n        \"samples\": [\n          46452,\n          56071,\n          66712\n        ],\n        \"semantic_type\": \"\",\n        \"description\": \"\"\n      }\n    },\n    {\n      \"column\": \"carat\",\n      \"properties\": {\n        \"dtype\": \"number\",\n        \"std\": 0.33879689097353494,\n        \"min\": 0.32,\n        \"max\": 1.51,\n        \"num_unique_values\": 9,\n        \"samples\": [\n          0.61,\n          0.93,\n          1.01\n        ],\n        \"semantic_type\": \"\",\n        \"description\": \"\"\n      }\n    },\n    {\n      \"column\": \"cut\",\n      \"properties\": {\n        \"dtype\": \"category\",\n        \"num_unique_values\": 4,\n        \"samples\": [\n          \"Very Good\",\n          \"Premium\",\n          \"Ideal\"\n        ],\n        \"semantic_type\": \"\",\n        \"description\": \"\"\n      }\n    },\n    {\n      \"column\": \"color\",\n      \"properties\": {\n        \"dtype\": \"category\",\n        \"num_unique_values\": 4,\n        \"samples\": [\n          \"D\",\n          \"H\",\n          \"I\"\n        ],\n        \"semantic_type\": \"\",\n        \"description\": \"\"\n      }\n    },\n    {\n      \"column\": \"clarity\",\n      \"properties\": {\n        \"dtype\": \"string\",\n        \"num_unique_values\": 5,\n        \"samples\": [\n          \"SI2\",\n          \"VVS2\",\n          \"SI1\"\n        ],\n        \"semantic_type\": \"\",\n        \"description\": \"\"\n      }\n    },\n    {\n      \"column\": \"depth\",\n      \"properties\": {\n        \"dtype\": \"number\",\n        \"std\": 0.5685263601823777,\n        \"min\": 61.1,\n        \"max\": 63.2,\n        \"num_unique_values\": 9,\n        \"samples\": [\n          61.1,\n          61.6,\n          62.4\n        ],\n        \"semantic_type\": \"\",\n        \"description\": \"\"\n      }\n    },\n    {\n      \"column\": \"table\",\n      \"properties\": {\n        \"dtype\": \"number\",\n        \"std\": 2.1317702607092643,\n        \"min\": 54.0,\n        \"max\": 60.0,\n        \"num_unique_values\": 7,\n        \"samples\": [\n          59.0,\n          57.0,\n          54.0\n        ],\n        \"semantic_type\": \"\",\n        \"description\": \"\"\n      }\n    },\n    {\n      \"column\": \"x\",\n      \"properties\": {\n        \"dtype\": \"number\",\n        \"std\": 0.8417283805757453,\n        \"min\": 4.36,\n        \"max\": 7.28,\n        \"num_unique_values\": 10,\n        \"samples\": [\n          5.46,\n          6.27,\n          6.4\n        ],\n        \"semantic_type\": \"\",\n        \"description\": \"\"\n      }\n    },\n    {\n      \"column\": \"y\",\n      \"properties\": {\n        \"dtype\": \"number\",\n        \"std\": 0.8558270853390888,\n        \"min\": 4.38,\n        \"max\": 7.35,\n        \"num_unique_values\": 10,\n        \"samples\": [\n          5.43,\n          6.32,\n          6.43\n        ],\n        \"semantic_type\": \"\",\n        \"description\": \"\"\n      }\n    },\n    {\n      \"column\": \"z\",\n      \"properties\": {\n        \"dtype\": \"number\",\n        \"std\": 0.5292772850259535,\n        \"min\": 2.67,\n        \"max\": 4.52,\n        \"num_unique_values\": 10,\n        \"samples\": [\n          3.37,\n          3.89,\n          3.99\n        ],\n        \"semantic_type\": \"\",\n        \"description\": \"\"\n      }\n    },\n    {\n      \"column\": \"price\",\n      \"properties\": {\n        \"dtype\": \"number\",\n        \"std\": 2722,\n        \"min\": 648,\n        \"max\": 9920,\n        \"num_unique_values\": 10,\n        \"samples\": [\n          1304,\n          4670,\n          4685\n        ],\n        \"semantic_type\": \"\",\n        \"description\": \"\"\n      }\n    }\n  ]\n}"
            }
          },
          "metadata": {},
          "execution_count": 20
        }
      ],
      "source": [
        "data.sample(10)"
      ]
    },
    {
      "cell_type": "code",
      "execution_count": 21,
      "metadata": {
        "id": "eQM_yYtpsv-E",
        "outputId": "3728c5ea-9083-4c51-db37-671f76a0da41",
        "colab": {
          "base_uri": "https://localhost:8080/",
          "height": 429
        }
      },
      "outputs": [
        {
          "output_type": "execute_result",
          "data": {
            "text/plain": [
              "id         0\n",
              "carat      0\n",
              "cut        0\n",
              "color      0\n",
              "clarity    0\n",
              "depth      0\n",
              "table      0\n",
              "x          0\n",
              "y          0\n",
              "z          0\n",
              "price      0\n",
              "dtype: int64"
            ],
            "text/html": [
              "<div>\n",
              "<style scoped>\n",
              "    .dataframe tbody tr th:only-of-type {\n",
              "        vertical-align: middle;\n",
              "    }\n",
              "\n",
              "    .dataframe tbody tr th {\n",
              "        vertical-align: top;\n",
              "    }\n",
              "\n",
              "    .dataframe thead th {\n",
              "        text-align: right;\n",
              "    }\n",
              "</style>\n",
              "<table border=\"1\" class=\"dataframe\">\n",
              "  <thead>\n",
              "    <tr style=\"text-align: right;\">\n",
              "      <th></th>\n",
              "      <th>0</th>\n",
              "    </tr>\n",
              "  </thead>\n",
              "  <tbody>\n",
              "    <tr>\n",
              "      <th>id</th>\n",
              "      <td>0</td>\n",
              "    </tr>\n",
              "    <tr>\n",
              "      <th>carat</th>\n",
              "      <td>0</td>\n",
              "    </tr>\n",
              "    <tr>\n",
              "      <th>cut</th>\n",
              "      <td>0</td>\n",
              "    </tr>\n",
              "    <tr>\n",
              "      <th>color</th>\n",
              "      <td>0</td>\n",
              "    </tr>\n",
              "    <tr>\n",
              "      <th>clarity</th>\n",
              "      <td>0</td>\n",
              "    </tr>\n",
              "    <tr>\n",
              "      <th>depth</th>\n",
              "      <td>0</td>\n",
              "    </tr>\n",
              "    <tr>\n",
              "      <th>table</th>\n",
              "      <td>0</td>\n",
              "    </tr>\n",
              "    <tr>\n",
              "      <th>x</th>\n",
              "      <td>0</td>\n",
              "    </tr>\n",
              "    <tr>\n",
              "      <th>y</th>\n",
              "      <td>0</td>\n",
              "    </tr>\n",
              "    <tr>\n",
              "      <th>z</th>\n",
              "      <td>0</td>\n",
              "    </tr>\n",
              "    <tr>\n",
              "      <th>price</th>\n",
              "      <td>0</td>\n",
              "    </tr>\n",
              "  </tbody>\n",
              "</table>\n",
              "</div><br><label><b>dtype:</b> int64</label>"
            ]
          },
          "metadata": {},
          "execution_count": 21
        }
      ],
      "source": [
        "data.isnull().sum()"
      ]
    },
    {
      "cell_type": "code",
      "execution_count": 22,
      "metadata": {
        "id": "YUjNgUKisv-F",
        "outputId": "a9b6a147-8e0e-45cd-b808-7a0b9bb32d5a",
        "colab": {
          "base_uri": "https://localhost:8080/"
        }
      },
      "outputs": [
        {
          "output_type": "execute_result",
          "data": {
            "text/plain": [
              "2129303"
            ]
          },
          "metadata": {},
          "execution_count": 22
        }
      ],
      "source": [
        "data.size # how many memory it's going to occuping"
      ]
    },
    {
      "cell_type": "code",
      "execution_count": 23,
      "metadata": {
        "id": "K7c-ZnaWsv-H",
        "outputId": "89dc6096-e599-452f-fb72-800fe6740066",
        "colab": {
          "base_uri": "https://localhost:8080/"
        }
      },
      "outputs": [
        {
          "output_type": "execute_result",
          "data": {
            "text/plain": [
              "(193573, 11)"
            ]
          },
          "metadata": {},
          "execution_count": 23
        }
      ],
      "source": [
        "data.shape"
      ]
    },
    {
      "cell_type": "code",
      "execution_count": 24,
      "metadata": {
        "id": "wlLVlF8Nsv-I",
        "outputId": "27c7a502-c669-4058-c88f-9e6907f96552",
        "colab": {
          "base_uri": "https://localhost:8080/"
        }
      },
      "outputs": [
        {
          "output_type": "stream",
          "name": "stdout",
          "text": [
            "<class 'pandas.core.frame.DataFrame'>\n",
            "RangeIndex: 193573 entries, 0 to 193572\n",
            "Data columns (total 11 columns):\n",
            " #   Column   Non-Null Count   Dtype  \n",
            "---  ------   --------------   -----  \n",
            " 0   id       193573 non-null  int64  \n",
            " 1   carat    193573 non-null  float64\n",
            " 2   cut      193573 non-null  object \n",
            " 3   color    193573 non-null  object \n",
            " 4   clarity  193573 non-null  object \n",
            " 5   depth    193573 non-null  float64\n",
            " 6   table    193573 non-null  float64\n",
            " 7   x        193573 non-null  float64\n",
            " 8   y        193573 non-null  float64\n",
            " 9   z        193573 non-null  float64\n",
            " 10  price    193573 non-null  int64  \n",
            "dtypes: float64(6), int64(2), object(3)\n",
            "memory usage: 16.2+ MB\n"
          ]
        }
      ],
      "source": [
        "data.info()"
      ]
    },
    {
      "cell_type": "code",
      "execution_count": null,
      "metadata": {
        "id": "jHSNLWgasv-J"
      },
      "outputs": [],
      "source": [
        "data.columns"
      ]
    },
    {
      "cell_type": "code",
      "execution_count": null,
      "metadata": {
        "id": "ZmQdzgK1sv-K"
      },
      "outputs": [],
      "source": [
        "data.drop(labels=[\"id\"],axis=1,inplace=True)"
      ]
    },
    {
      "cell_type": "code",
      "execution_count": null,
      "metadata": {
        "id": "mzdy0fx0sv-K"
      },
      "outputs": [],
      "source": [
        "data"
      ]
    },
    {
      "cell_type": "code",
      "execution_count": null,
      "metadata": {
        "id": "L4Wp1Q7gsv-L"
      },
      "outputs": [],
      "source": [
        "data.duplicated().sum()"
      ]
    },
    {
      "cell_type": "code",
      "execution_count": null,
      "metadata": {
        "id": "kPBNeJ8esv-L"
      },
      "outputs": [],
      "source": [
        "data.info()"
      ]
    },
    {
      "cell_type": "code",
      "execution_count": null,
      "metadata": {
        "id": "CHc9y3u_sv-M"
      },
      "outputs": [],
      "source": [
        "cat_columns=data.columns[data.dtypes==\"object\"]"
      ]
    },
    {
      "cell_type": "code",
      "execution_count": null,
      "metadata": {
        "id": "tUz5pltisv-M"
      },
      "outputs": [],
      "source": [
        "num_columns=data.columns[data.dtypes!=\"object\"]"
      ]
    },
    {
      "cell_type": "code",
      "execution_count": null,
      "metadata": {
        "id": "Yb1GOfZvsv-N"
      },
      "outputs": [],
      "source": [
        "data[num_columns].describe().T"
      ]
    },
    {
      "cell_type": "code",
      "execution_count": null,
      "metadata": {
        "id": "7yEvRkoWsv-N"
      },
      "outputs": [],
      "source": [
        "data[cat_columns]"
      ]
    },
    {
      "cell_type": "code",
      "execution_count": null,
      "metadata": {
        "id": "aG-RrGBasv-N"
      },
      "outputs": [],
      "source": [
        "for col in cat_columns:\n",
        "    print(data[col].value_counts())\n",
        "    print(f\"here is the total count:{len(data[col].value_counts())}\")\n",
        "    print(\"=======================\")"
      ]
    },
    {
      "cell_type": "code",
      "execution_count": null,
      "metadata": {
        "id": "-rtvvudrsv-O"
      },
      "outputs": [],
      "source": [
        "data[num_columns]"
      ]
    },
    {
      "cell_type": "code",
      "execution_count": null,
      "metadata": {
        "id": "kYdYLI2fsv-P"
      },
      "outputs": [],
      "source": [
        "import seaborn as sns\n",
        "import matplotlib.pyplot as plt\n",
        "plt.figure(figsize=(6,4))\n",
        "\n",
        "for col in num_columns:\n",
        "    sns.histplot(data=data,x=col,kde=True)\n",
        "    print(\"\\n\")\n",
        "    plt.show()"
      ]
    },
    {
      "cell_type": "code",
      "execution_count": null,
      "metadata": {
        "id": "nujq8xMRsv-P"
      },
      "outputs": [],
      "source": [
        "sns.heatmap(data[num_columns].corr(),annot=True)"
      ]
    },
    {
      "cell_type": "code",
      "execution_count": null,
      "metadata": {
        "id": "iIoh2NxNsv-Q"
      },
      "outputs": [],
      "source": [
        "data[cat_columns]"
      ]
    },
    {
      "cell_type": "code",
      "execution_count": null,
      "metadata": {
        "id": "nuGcroQJsv-Q"
      },
      "outputs": [],
      "source": [
        "# it is a oridinal encoding\n",
        "cut_map={\"Fair\":1,\"Good\":2,\"Very Good\":3,\"Premium\":4,\"Ideal\":5}\n",
        "clarity_map = {\"I1\":1,\"SI2\":2 ,\"SI1\":3 ,\"VS2\":4 , \"VS1\":5 , \"VVS2\":6 , \"VVS1\":7 ,\"IF\":8}\n",
        "color_map = {\"D\":1 ,\"E\":2 ,\"F\":3 , \"G\":4 ,\"H\":5 , \"I\":6, \"J\":7}"
      ]
    },
    {
      "cell_type": "code",
      "execution_count": null,
      "metadata": {
        "id": "0Bij-4D0sv-Q"
      },
      "outputs": [],
      "source": [
        "data[\"cut\"]=data[\"cut\"].map(cut_map)\n",
        "data[\"clarity\"]=data[\"clarity\"].map(clarity_map)\n",
        "data[\"color\"]=data[\"color\"].map(color_map)"
      ]
    },
    {
      "cell_type": "code",
      "execution_count": null,
      "metadata": {
        "id": "qBEp8cERsv-R"
      },
      "outputs": [],
      "source": [
        "data"
      ]
    },
    {
      "cell_type": "code",
      "execution_count": null,
      "metadata": {
        "id": "MfUWp14Usv-R"
      },
      "outputs": [],
      "source": [
        "import pandas as pd\n",
        "data=pd.read_csv(\"https://raw.githubusercontent.com/sunnysavita10/fsdsmendtoend/main/notebooks/data/gemstone.csv\")"
      ]
    },
    {
      "cell_type": "code",
      "execution_count": null,
      "metadata": {
        "id": "CE37f3Dssv-R"
      },
      "outputs": [],
      "source": [
        "from sklearn.impute import SimpleImputer ## HAndling Missing Values\n",
        "from sklearn.preprocessing import StandardScaler # HAndling Feature Scaling\n",
        "from sklearn.preprocessing import OrdinalEncoder # Ordinal Encoding\n",
        "## pipelines\n",
        "from sklearn.pipeline import Pipeline\n",
        "from sklearn.compose import ColumnTransformer"
      ]
    },
    {
      "cell_type": "code",
      "execution_count": null,
      "metadata": {
        "id": "sijnXYa_sv-S",
        "outputId": "80df4c2e-2a0d-4e2d-eace-2450b4d35545"
      },
      "outputs": [
        {
          "data": {
            "text/plain": [
              "Index(['id', 'carat', 'cut', 'color', 'clarity', 'depth', 'table', 'x', 'y',\n",
              "       'z', 'price'],\n",
              "      dtype='object')"
            ]
          },
          "execution_count": 4,
          "metadata": {},
          "output_type": "execute_result"
        }
      ],
      "source": [
        "data.columns"
      ]
    },
    {
      "cell_type": "code",
      "execution_count": null,
      "metadata": {
        "id": "91WeUIfGsv-T"
      },
      "outputs": [],
      "source": [
        "X=data.drop(labels=[\"id\",\"price\"],axis=1)\n",
        "y=data[\"price\"]"
      ]
    },
    {
      "cell_type": "code",
      "execution_count": null,
      "metadata": {
        "id": "hJAsfF2dsv-T",
        "outputId": "11fa46cb-0067-48bc-8ebc-6442759687f7"
      },
      "outputs": [
        {
          "data": {
            "text/html": [
              "<div>\n",
              "<style scoped>\n",
              "    .dataframe tbody tr th:only-of-type {\n",
              "        vertical-align: middle;\n",
              "    }\n",
              "\n",
              "    .dataframe tbody tr th {\n",
              "        vertical-align: top;\n",
              "    }\n",
              "\n",
              "    .dataframe thead th {\n",
              "        text-align: right;\n",
              "    }\n",
              "</style>\n",
              "<table border=\"1\" class=\"dataframe\">\n",
              "  <thead>\n",
              "    <tr style=\"text-align: right;\">\n",
              "      <th></th>\n",
              "      <th>carat</th>\n",
              "      <th>cut</th>\n",
              "      <th>color</th>\n",
              "      <th>clarity</th>\n",
              "      <th>depth</th>\n",
              "      <th>table</th>\n",
              "      <th>x</th>\n",
              "      <th>y</th>\n",
              "      <th>z</th>\n",
              "    </tr>\n",
              "  </thead>\n",
              "  <tbody>\n",
              "    <tr>\n",
              "      <th>0</th>\n",
              "      <td>1.52</td>\n",
              "      <td>Premium</td>\n",
              "      <td>F</td>\n",
              "      <td>VS2</td>\n",
              "      <td>62.2</td>\n",
              "      <td>58.0</td>\n",
              "      <td>7.27</td>\n",
              "      <td>7.33</td>\n",
              "      <td>4.55</td>\n",
              "    </tr>\n",
              "    <tr>\n",
              "      <th>1</th>\n",
              "      <td>2.03</td>\n",
              "      <td>Very Good</td>\n",
              "      <td>J</td>\n",
              "      <td>SI2</td>\n",
              "      <td>62.0</td>\n",
              "      <td>58.0</td>\n",
              "      <td>8.06</td>\n",
              "      <td>8.12</td>\n",
              "      <td>5.05</td>\n",
              "    </tr>\n",
              "    <tr>\n",
              "      <th>2</th>\n",
              "      <td>0.70</td>\n",
              "      <td>Ideal</td>\n",
              "      <td>G</td>\n",
              "      <td>VS1</td>\n",
              "      <td>61.2</td>\n",
              "      <td>57.0</td>\n",
              "      <td>5.69</td>\n",
              "      <td>5.73</td>\n",
              "      <td>3.50</td>\n",
              "    </tr>\n",
              "    <tr>\n",
              "      <th>3</th>\n",
              "      <td>0.32</td>\n",
              "      <td>Ideal</td>\n",
              "      <td>G</td>\n",
              "      <td>VS1</td>\n",
              "      <td>61.6</td>\n",
              "      <td>56.0</td>\n",
              "      <td>4.38</td>\n",
              "      <td>4.41</td>\n",
              "      <td>2.71</td>\n",
              "    </tr>\n",
              "    <tr>\n",
              "      <th>4</th>\n",
              "      <td>1.70</td>\n",
              "      <td>Premium</td>\n",
              "      <td>G</td>\n",
              "      <td>VS2</td>\n",
              "      <td>62.6</td>\n",
              "      <td>59.0</td>\n",
              "      <td>7.65</td>\n",
              "      <td>7.61</td>\n",
              "      <td>4.77</td>\n",
              "    </tr>\n",
              "    <tr>\n",
              "      <th>...</th>\n",
              "      <td>...</td>\n",
              "      <td>...</td>\n",
              "      <td>...</td>\n",
              "      <td>...</td>\n",
              "      <td>...</td>\n",
              "      <td>...</td>\n",
              "      <td>...</td>\n",
              "      <td>...</td>\n",
              "      <td>...</td>\n",
              "    </tr>\n",
              "    <tr>\n",
              "      <th>193568</th>\n",
              "      <td>0.31</td>\n",
              "      <td>Ideal</td>\n",
              "      <td>D</td>\n",
              "      <td>VVS2</td>\n",
              "      <td>61.1</td>\n",
              "      <td>56.0</td>\n",
              "      <td>4.35</td>\n",
              "      <td>4.39</td>\n",
              "      <td>2.67</td>\n",
              "    </tr>\n",
              "    <tr>\n",
              "      <th>193569</th>\n",
              "      <td>0.70</td>\n",
              "      <td>Premium</td>\n",
              "      <td>G</td>\n",
              "      <td>VVS2</td>\n",
              "      <td>60.3</td>\n",
              "      <td>58.0</td>\n",
              "      <td>5.75</td>\n",
              "      <td>5.77</td>\n",
              "      <td>3.47</td>\n",
              "    </tr>\n",
              "    <tr>\n",
              "      <th>193570</th>\n",
              "      <td>0.73</td>\n",
              "      <td>Very Good</td>\n",
              "      <td>F</td>\n",
              "      <td>SI1</td>\n",
              "      <td>63.1</td>\n",
              "      <td>57.0</td>\n",
              "      <td>5.72</td>\n",
              "      <td>5.75</td>\n",
              "      <td>3.62</td>\n",
              "    </tr>\n",
              "    <tr>\n",
              "      <th>193571</th>\n",
              "      <td>0.34</td>\n",
              "      <td>Very Good</td>\n",
              "      <td>D</td>\n",
              "      <td>SI1</td>\n",
              "      <td>62.9</td>\n",
              "      <td>55.0</td>\n",
              "      <td>4.45</td>\n",
              "      <td>4.49</td>\n",
              "      <td>2.81</td>\n",
              "    </tr>\n",
              "    <tr>\n",
              "      <th>193572</th>\n",
              "      <td>0.71</td>\n",
              "      <td>Good</td>\n",
              "      <td>E</td>\n",
              "      <td>SI2</td>\n",
              "      <td>60.8</td>\n",
              "      <td>64.0</td>\n",
              "      <td>5.73</td>\n",
              "      <td>5.71</td>\n",
              "      <td>3.48</td>\n",
              "    </tr>\n",
              "  </tbody>\n",
              "</table>\n",
              "<p>193573 rows × 9 columns</p>\n",
              "</div>"
            ],
            "text/plain": [
              "        carat        cut color clarity  depth  table     x     y     z\n",
              "0        1.52    Premium     F     VS2   62.2   58.0  7.27  7.33  4.55\n",
              "1        2.03  Very Good     J     SI2   62.0   58.0  8.06  8.12  5.05\n",
              "2        0.70      Ideal     G     VS1   61.2   57.0  5.69  5.73  3.50\n",
              "3        0.32      Ideal     G     VS1   61.6   56.0  4.38  4.41  2.71\n",
              "4        1.70    Premium     G     VS2   62.6   59.0  7.65  7.61  4.77\n",
              "...       ...        ...   ...     ...    ...    ...   ...   ...   ...\n",
              "193568   0.31      Ideal     D    VVS2   61.1   56.0  4.35  4.39  2.67\n",
              "193569   0.70    Premium     G    VVS2   60.3   58.0  5.75  5.77  3.47\n",
              "193570   0.73  Very Good     F     SI1   63.1   57.0  5.72  5.75  3.62\n",
              "193571   0.34  Very Good     D     SI1   62.9   55.0  4.45  4.49  2.81\n",
              "193572   0.71       Good     E     SI2   60.8   64.0  5.73  5.71  3.48\n",
              "\n",
              "[193573 rows x 9 columns]"
            ]
          },
          "execution_count": 6,
          "metadata": {},
          "output_type": "execute_result"
        }
      ],
      "source": [
        "X"
      ]
    },
    {
      "cell_type": "code",
      "execution_count": null,
      "metadata": {
        "id": "joBK_9Yrsv-U",
        "outputId": "84bddf73-a60d-4f1f-aa6e-e7330a2b32b5"
      },
      "outputs": [
        {
          "data": {
            "text/plain": [
              "0         13619\n",
              "1         13387\n",
              "2          2772\n",
              "3           666\n",
              "4         14453\n",
              "          ...  \n",
              "193568     1130\n",
              "193569     2874\n",
              "193570     3036\n",
              "193571      681\n",
              "193572     2258\n",
              "Name: price, Length: 193573, dtype: int64"
            ]
          },
          "execution_count": 7,
          "metadata": {},
          "output_type": "execute_result"
        }
      ],
      "source": [
        "y"
      ]
    },
    {
      "cell_type": "code",
      "execution_count": null,
      "metadata": {
        "id": "NxVFqcsosv-U",
        "outputId": "811dbfca-49d1-4976-e2df-6ea67976cdc9"
      },
      "outputs": [
        {
          "name": "stdout",
          "output_type": "stream",
          "text": [
            "<class 'pandas.core.frame.DataFrame'>\n",
            "RangeIndex: 193573 entries, 0 to 193572\n",
            "Data columns (total 9 columns):\n",
            " #   Column   Non-Null Count   Dtype  \n",
            "---  ------   --------------   -----  \n",
            " 0   carat    193573 non-null  float64\n",
            " 1   cut      193573 non-null  object \n",
            " 2   color    193573 non-null  object \n",
            " 3   clarity  193573 non-null  object \n",
            " 4   depth    193573 non-null  float64\n",
            " 5   table    193573 non-null  float64\n",
            " 6   x        193573 non-null  float64\n",
            " 7   y        193573 non-null  float64\n",
            " 8   z        193573 non-null  float64\n",
            "dtypes: float64(6), object(3)\n",
            "memory usage: 13.3+ MB\n"
          ]
        }
      ],
      "source": [
        "X.info()"
      ]
    },
    {
      "cell_type": "code",
      "execution_count": null,
      "metadata": {
        "id": "8Gx8N_Ptsv-V",
        "outputId": "60617820-e48f-40b3-c82f-0ddbf206743c"
      },
      "outputs": [
        {
          "data": {
            "text/html": [
              "<div>\n",
              "<style scoped>\n",
              "    .dataframe tbody tr th:only-of-type {\n",
              "        vertical-align: middle;\n",
              "    }\n",
              "\n",
              "    .dataframe tbody tr th {\n",
              "        vertical-align: top;\n",
              "    }\n",
              "\n",
              "    .dataframe thead th {\n",
              "        text-align: right;\n",
              "    }\n",
              "</style>\n",
              "<table border=\"1\" class=\"dataframe\">\n",
              "  <thead>\n",
              "    <tr style=\"text-align: right;\">\n",
              "      <th></th>\n",
              "      <th>cut</th>\n",
              "      <th>color</th>\n",
              "      <th>clarity</th>\n",
              "    </tr>\n",
              "  </thead>\n",
              "  <tbody>\n",
              "    <tr>\n",
              "      <th>0</th>\n",
              "      <td>Premium</td>\n",
              "      <td>F</td>\n",
              "      <td>VS2</td>\n",
              "    </tr>\n",
              "    <tr>\n",
              "      <th>1</th>\n",
              "      <td>Very Good</td>\n",
              "      <td>J</td>\n",
              "      <td>SI2</td>\n",
              "    </tr>\n",
              "    <tr>\n",
              "      <th>2</th>\n",
              "      <td>Ideal</td>\n",
              "      <td>G</td>\n",
              "      <td>VS1</td>\n",
              "    </tr>\n",
              "    <tr>\n",
              "      <th>3</th>\n",
              "      <td>Ideal</td>\n",
              "      <td>G</td>\n",
              "      <td>VS1</td>\n",
              "    </tr>\n",
              "    <tr>\n",
              "      <th>4</th>\n",
              "      <td>Premium</td>\n",
              "      <td>G</td>\n",
              "      <td>VS2</td>\n",
              "    </tr>\n",
              "    <tr>\n",
              "      <th>...</th>\n",
              "      <td>...</td>\n",
              "      <td>...</td>\n",
              "      <td>...</td>\n",
              "    </tr>\n",
              "    <tr>\n",
              "      <th>193568</th>\n",
              "      <td>Ideal</td>\n",
              "      <td>D</td>\n",
              "      <td>VVS2</td>\n",
              "    </tr>\n",
              "    <tr>\n",
              "      <th>193569</th>\n",
              "      <td>Premium</td>\n",
              "      <td>G</td>\n",
              "      <td>VVS2</td>\n",
              "    </tr>\n",
              "    <tr>\n",
              "      <th>193570</th>\n",
              "      <td>Very Good</td>\n",
              "      <td>F</td>\n",
              "      <td>SI1</td>\n",
              "    </tr>\n",
              "    <tr>\n",
              "      <th>193571</th>\n",
              "      <td>Very Good</td>\n",
              "      <td>D</td>\n",
              "      <td>SI1</td>\n",
              "    </tr>\n",
              "    <tr>\n",
              "      <th>193572</th>\n",
              "      <td>Good</td>\n",
              "      <td>E</td>\n",
              "      <td>SI2</td>\n",
              "    </tr>\n",
              "  </tbody>\n",
              "</table>\n",
              "<p>193573 rows × 3 columns</p>\n",
              "</div>"
            ],
            "text/plain": [
              "              cut color clarity\n",
              "0         Premium     F     VS2\n",
              "1       Very Good     J     SI2\n",
              "2           Ideal     G     VS1\n",
              "3           Ideal     G     VS1\n",
              "4         Premium     G     VS2\n",
              "...           ...   ...     ...\n",
              "193568      Ideal     D    VVS2\n",
              "193569    Premium     G    VVS2\n",
              "193570  Very Good     F     SI1\n",
              "193571  Very Good     D     SI1\n",
              "193572       Good     E     SI2\n",
              "\n",
              "[193573 rows x 3 columns]"
            ]
          },
          "execution_count": 9,
          "metadata": {},
          "output_type": "execute_result"
        }
      ],
      "source": [
        "X.select_dtypes(include=\"object\")"
      ]
    },
    {
      "cell_type": "code",
      "execution_count": null,
      "metadata": {
        "id": "tL8SX0LQsv-X",
        "outputId": "e2d8feef-acb2-4324-b611-31f6dfedf151"
      },
      "outputs": [
        {
          "data": {
            "text/html": [
              "<div>\n",
              "<style scoped>\n",
              "    .dataframe tbody tr th:only-of-type {\n",
              "        vertical-align: middle;\n",
              "    }\n",
              "\n",
              "    .dataframe tbody tr th {\n",
              "        vertical-align: top;\n",
              "    }\n",
              "\n",
              "    .dataframe thead th {\n",
              "        text-align: right;\n",
              "    }\n",
              "</style>\n",
              "<table border=\"1\" class=\"dataframe\">\n",
              "  <thead>\n",
              "    <tr style=\"text-align: right;\">\n",
              "      <th></th>\n",
              "      <th>carat</th>\n",
              "      <th>depth</th>\n",
              "      <th>table</th>\n",
              "      <th>x</th>\n",
              "      <th>y</th>\n",
              "      <th>z</th>\n",
              "    </tr>\n",
              "  </thead>\n",
              "  <tbody>\n",
              "    <tr>\n",
              "      <th>0</th>\n",
              "      <td>1.52</td>\n",
              "      <td>62.2</td>\n",
              "      <td>58.0</td>\n",
              "      <td>7.27</td>\n",
              "      <td>7.33</td>\n",
              "      <td>4.55</td>\n",
              "    </tr>\n",
              "    <tr>\n",
              "      <th>1</th>\n",
              "      <td>2.03</td>\n",
              "      <td>62.0</td>\n",
              "      <td>58.0</td>\n",
              "      <td>8.06</td>\n",
              "      <td>8.12</td>\n",
              "      <td>5.05</td>\n",
              "    </tr>\n",
              "    <tr>\n",
              "      <th>2</th>\n",
              "      <td>0.70</td>\n",
              "      <td>61.2</td>\n",
              "      <td>57.0</td>\n",
              "      <td>5.69</td>\n",
              "      <td>5.73</td>\n",
              "      <td>3.50</td>\n",
              "    </tr>\n",
              "    <tr>\n",
              "      <th>3</th>\n",
              "      <td>0.32</td>\n",
              "      <td>61.6</td>\n",
              "      <td>56.0</td>\n",
              "      <td>4.38</td>\n",
              "      <td>4.41</td>\n",
              "      <td>2.71</td>\n",
              "    </tr>\n",
              "    <tr>\n",
              "      <th>4</th>\n",
              "      <td>1.70</td>\n",
              "      <td>62.6</td>\n",
              "      <td>59.0</td>\n",
              "      <td>7.65</td>\n",
              "      <td>7.61</td>\n",
              "      <td>4.77</td>\n",
              "    </tr>\n",
              "    <tr>\n",
              "      <th>...</th>\n",
              "      <td>...</td>\n",
              "      <td>...</td>\n",
              "      <td>...</td>\n",
              "      <td>...</td>\n",
              "      <td>...</td>\n",
              "      <td>...</td>\n",
              "    </tr>\n",
              "    <tr>\n",
              "      <th>193568</th>\n",
              "      <td>0.31</td>\n",
              "      <td>61.1</td>\n",
              "      <td>56.0</td>\n",
              "      <td>4.35</td>\n",
              "      <td>4.39</td>\n",
              "      <td>2.67</td>\n",
              "    </tr>\n",
              "    <tr>\n",
              "      <th>193569</th>\n",
              "      <td>0.70</td>\n",
              "      <td>60.3</td>\n",
              "      <td>58.0</td>\n",
              "      <td>5.75</td>\n",
              "      <td>5.77</td>\n",
              "      <td>3.47</td>\n",
              "    </tr>\n",
              "    <tr>\n",
              "      <th>193570</th>\n",
              "      <td>0.73</td>\n",
              "      <td>63.1</td>\n",
              "      <td>57.0</td>\n",
              "      <td>5.72</td>\n",
              "      <td>5.75</td>\n",
              "      <td>3.62</td>\n",
              "    </tr>\n",
              "    <tr>\n",
              "      <th>193571</th>\n",
              "      <td>0.34</td>\n",
              "      <td>62.9</td>\n",
              "      <td>55.0</td>\n",
              "      <td>4.45</td>\n",
              "      <td>4.49</td>\n",
              "      <td>2.81</td>\n",
              "    </tr>\n",
              "    <tr>\n",
              "      <th>193572</th>\n",
              "      <td>0.71</td>\n",
              "      <td>60.8</td>\n",
              "      <td>64.0</td>\n",
              "      <td>5.73</td>\n",
              "      <td>5.71</td>\n",
              "      <td>3.48</td>\n",
              "    </tr>\n",
              "  </tbody>\n",
              "</table>\n",
              "<p>193573 rows × 6 columns</p>\n",
              "</div>"
            ],
            "text/plain": [
              "        carat  depth  table     x     y     z\n",
              "0        1.52   62.2   58.0  7.27  7.33  4.55\n",
              "1        2.03   62.0   58.0  8.06  8.12  5.05\n",
              "2        0.70   61.2   57.0  5.69  5.73  3.50\n",
              "3        0.32   61.6   56.0  4.38  4.41  2.71\n",
              "4        1.70   62.6   59.0  7.65  7.61  4.77\n",
              "...       ...    ...    ...   ...   ...   ...\n",
              "193568   0.31   61.1   56.0  4.35  4.39  2.67\n",
              "193569   0.70   60.3   58.0  5.75  5.77  3.47\n",
              "193570   0.73   63.1   57.0  5.72  5.75  3.62\n",
              "193571   0.34   62.9   55.0  4.45  4.49  2.81\n",
              "193572   0.71   60.8   64.0  5.73  5.71  3.48\n",
              "\n",
              "[193573 rows x 6 columns]"
            ]
          },
          "execution_count": 10,
          "metadata": {},
          "output_type": "execute_result"
        }
      ],
      "source": [
        "X.select_dtypes(exclude=\"object\")"
      ]
    },
    {
      "cell_type": "code",
      "execution_count": null,
      "metadata": {
        "id": "4we0UbHWsv-Y"
      },
      "outputs": [],
      "source": [
        "cat_cols=X.select_dtypes(include=\"object\").columns\n",
        "\n",
        "num_cols=X.select_dtypes(exclude=\"object\").columns"
      ]
    },
    {
      "cell_type": "code",
      "execution_count": null,
      "metadata": {
        "id": "RW9YndfCsv-Y",
        "outputId": "25098679-4d21-41fc-eb09-1a205f9f0ba0"
      },
      "outputs": [
        {
          "data": {
            "text/plain": [
              "Index(['cut', 'color', 'clarity'], dtype='object')"
            ]
          },
          "execution_count": 12,
          "metadata": {},
          "output_type": "execute_result"
        }
      ],
      "source": [
        "cat_cols"
      ]
    },
    {
      "cell_type": "code",
      "execution_count": null,
      "metadata": {
        "id": "sCSUBNiCsv-Z",
        "outputId": "13976666-847f-4dd5-bf32-7050e0ce2a76"
      },
      "outputs": [
        {
          "data": {
            "text/plain": [
              "Index(['carat', 'depth', 'table', 'x', 'y', 'z'], dtype='object')"
            ]
          },
          "execution_count": 13,
          "metadata": {},
          "output_type": "execute_result"
        }
      ],
      "source": [
        "num_cols"
      ]
    },
    {
      "cell_type": "code",
      "execution_count": null,
      "metadata": {
        "id": "87sA0pTrsv-f"
      },
      "outputs": [],
      "source": [
        "X.select_dtypes(include=\"object\").head()"
      ]
    },
    {
      "cell_type": "code",
      "execution_count": null,
      "metadata": {
        "id": "Rgy2V65Tsv-g"
      },
      "outputs": [],
      "source": [
        "X[\"clarity\"].value_counts()"
      ]
    },
    {
      "cell_type": "code",
      "execution_count": null,
      "metadata": {
        "id": "s_s0lE1wsv-g"
      },
      "outputs": [],
      "source": [
        "cut_categories = ['Fair', 'Good', 'Very Good','Premium','Ideal']\n",
        "color_categories = ['D', 'E', 'F', 'G', 'H', 'I', 'J']\n",
        "clarity_categories = ['I1','SI2','SI1','VS2','VS1','VVS2','VVS1','IF']"
      ]
    },
    {
      "cell_type": "code",
      "execution_count": null,
      "metadata": {
        "id": "XKQVHmG2sv-g"
      },
      "outputs": [],
      "source": [
        "num_pipeline=Pipeline(\n",
        "    steps=[\n",
        "        (\"imputer\",SimpleImputer()),\n",
        "        (\"scaler\",StandardScaler())\n",
        "    ]\n",
        ")"
      ]
    },
    {
      "cell_type": "code",
      "execution_count": null,
      "metadata": {
        "id": "xdegeCG0sv-h"
      },
      "outputs": [],
      "source": [
        "cat_pipeline=Pipeline(\n",
        "\n",
        "    steps=[\n",
        "        (\"imputer\",SimpleImputer(strategy=\"most_frequent\")),\n",
        "        (\"ordinalencoder\",OrdinalEncoder(categories=[cut_categories,color_categories,clarity_categories]))\n",
        "\n",
        "    ]\n",
        ")"
      ]
    },
    {
      "cell_type": "code",
      "execution_count": null,
      "metadata": {
        "id": "18qMPmfDsv-h",
        "outputId": "c5478963-8e8b-458c-926f-3c3db576d669"
      },
      "outputs": [
        {
          "data": {
            "text/plain": [
              "Index(['carat', 'depth', 'table', 'x', 'y', 'z'], dtype='object')"
            ]
          },
          "execution_count": 17,
          "metadata": {},
          "output_type": "execute_result"
        }
      ],
      "source": [
        "num_cols"
      ]
    },
    {
      "cell_type": "code",
      "execution_count": null,
      "metadata": {
        "id": "mhz9u89tsv-h",
        "outputId": "85ac670d-4148-4de8-e6f0-87e3fbc42e46"
      },
      "outputs": [
        {
          "data": {
            "text/plain": [
              "Index(['cut', 'color', 'clarity'], dtype='object')"
            ]
          },
          "execution_count": 18,
          "metadata": {},
          "output_type": "execute_result"
        }
      ],
      "source": [
        "cat_cols"
      ]
    },
    {
      "cell_type": "code",
      "execution_count": null,
      "metadata": {
        "id": "wWZ-I0DSsv-i"
      },
      "outputs": [],
      "source": []
    },
    {
      "cell_type": "code",
      "execution_count": null,
      "metadata": {
        "id": "_AS5ipvrsv-i"
      },
      "outputs": [],
      "source": [
        "preprocessor=ColumnTransformer(\n",
        "\n",
        "    [\n",
        "        (\"num_pipeline\",num_pipeline,num_cols),\n",
        "        (\"cat_pipeline\",cat_pipeline,cat_cols)\n",
        "    ]\n",
        ")"
      ]
    },
    {
      "cell_type": "code",
      "execution_count": null,
      "metadata": {
        "id": "fOkxPoRTsv-i",
        "outputId": "18cfa31c-1fbc-4a0d-eec8-3f470ac07808"
      },
      "outputs": [
        {
          "data": {
            "text/html": [
              "<div>\n",
              "<style scoped>\n",
              "    .dataframe tbody tr th:only-of-type {\n",
              "        vertical-align: middle;\n",
              "    }\n",
              "\n",
              "    .dataframe tbody tr th {\n",
              "        vertical-align: top;\n",
              "    }\n",
              "\n",
              "    .dataframe thead th {\n",
              "        text-align: right;\n",
              "    }\n",
              "</style>\n",
              "<table border=\"1\" class=\"dataframe\">\n",
              "  <thead>\n",
              "    <tr style=\"text-align: right;\">\n",
              "      <th></th>\n",
              "      <th>carat</th>\n",
              "      <th>cut</th>\n",
              "      <th>color</th>\n",
              "      <th>clarity</th>\n",
              "      <th>depth</th>\n",
              "      <th>table</th>\n",
              "      <th>x</th>\n",
              "      <th>y</th>\n",
              "      <th>z</th>\n",
              "    </tr>\n",
              "  </thead>\n",
              "  <tbody>\n",
              "    <tr>\n",
              "      <th>0</th>\n",
              "      <td>1.52</td>\n",
              "      <td>Premium</td>\n",
              "      <td>F</td>\n",
              "      <td>VS2</td>\n",
              "      <td>62.2</td>\n",
              "      <td>58.0</td>\n",
              "      <td>7.27</td>\n",
              "      <td>7.33</td>\n",
              "      <td>4.55</td>\n",
              "    </tr>\n",
              "    <tr>\n",
              "      <th>1</th>\n",
              "      <td>2.03</td>\n",
              "      <td>Very Good</td>\n",
              "      <td>J</td>\n",
              "      <td>SI2</td>\n",
              "      <td>62.0</td>\n",
              "      <td>58.0</td>\n",
              "      <td>8.06</td>\n",
              "      <td>8.12</td>\n",
              "      <td>5.05</td>\n",
              "    </tr>\n",
              "    <tr>\n",
              "      <th>2</th>\n",
              "      <td>0.70</td>\n",
              "      <td>Ideal</td>\n",
              "      <td>G</td>\n",
              "      <td>VS1</td>\n",
              "      <td>61.2</td>\n",
              "      <td>57.0</td>\n",
              "      <td>5.69</td>\n",
              "      <td>5.73</td>\n",
              "      <td>3.50</td>\n",
              "    </tr>\n",
              "    <tr>\n",
              "      <th>3</th>\n",
              "      <td>0.32</td>\n",
              "      <td>Ideal</td>\n",
              "      <td>G</td>\n",
              "      <td>VS1</td>\n",
              "      <td>61.6</td>\n",
              "      <td>56.0</td>\n",
              "      <td>4.38</td>\n",
              "      <td>4.41</td>\n",
              "      <td>2.71</td>\n",
              "    </tr>\n",
              "    <tr>\n",
              "      <th>4</th>\n",
              "      <td>1.70</td>\n",
              "      <td>Premium</td>\n",
              "      <td>G</td>\n",
              "      <td>VS2</td>\n",
              "      <td>62.6</td>\n",
              "      <td>59.0</td>\n",
              "      <td>7.65</td>\n",
              "      <td>7.61</td>\n",
              "      <td>4.77</td>\n",
              "    </tr>\n",
              "    <tr>\n",
              "      <th>...</th>\n",
              "      <td>...</td>\n",
              "      <td>...</td>\n",
              "      <td>...</td>\n",
              "      <td>...</td>\n",
              "      <td>...</td>\n",
              "      <td>...</td>\n",
              "      <td>...</td>\n",
              "      <td>...</td>\n",
              "      <td>...</td>\n",
              "    </tr>\n",
              "    <tr>\n",
              "      <th>193568</th>\n",
              "      <td>0.31</td>\n",
              "      <td>Ideal</td>\n",
              "      <td>D</td>\n",
              "      <td>VVS2</td>\n",
              "      <td>61.1</td>\n",
              "      <td>56.0</td>\n",
              "      <td>4.35</td>\n",
              "      <td>4.39</td>\n",
              "      <td>2.67</td>\n",
              "    </tr>\n",
              "    <tr>\n",
              "      <th>193569</th>\n",
              "      <td>0.70</td>\n",
              "      <td>Premium</td>\n",
              "      <td>G</td>\n",
              "      <td>VVS2</td>\n",
              "      <td>60.3</td>\n",
              "      <td>58.0</td>\n",
              "      <td>5.75</td>\n",
              "      <td>5.77</td>\n",
              "      <td>3.47</td>\n",
              "    </tr>\n",
              "    <tr>\n",
              "      <th>193570</th>\n",
              "      <td>0.73</td>\n",
              "      <td>Very Good</td>\n",
              "      <td>F</td>\n",
              "      <td>SI1</td>\n",
              "      <td>63.1</td>\n",
              "      <td>57.0</td>\n",
              "      <td>5.72</td>\n",
              "      <td>5.75</td>\n",
              "      <td>3.62</td>\n",
              "    </tr>\n",
              "    <tr>\n",
              "      <th>193571</th>\n",
              "      <td>0.34</td>\n",
              "      <td>Very Good</td>\n",
              "      <td>D</td>\n",
              "      <td>SI1</td>\n",
              "      <td>62.9</td>\n",
              "      <td>55.0</td>\n",
              "      <td>4.45</td>\n",
              "      <td>4.49</td>\n",
              "      <td>2.81</td>\n",
              "    </tr>\n",
              "    <tr>\n",
              "      <th>193572</th>\n",
              "      <td>0.71</td>\n",
              "      <td>Good</td>\n",
              "      <td>E</td>\n",
              "      <td>SI2</td>\n",
              "      <td>60.8</td>\n",
              "      <td>64.0</td>\n",
              "      <td>5.73</td>\n",
              "      <td>5.71</td>\n",
              "      <td>3.48</td>\n",
              "    </tr>\n",
              "  </tbody>\n",
              "</table>\n",
              "<p>193573 rows × 9 columns</p>\n",
              "</div>"
            ],
            "text/plain": [
              "        carat        cut color clarity  depth  table     x     y     z\n",
              "0        1.52    Premium     F     VS2   62.2   58.0  7.27  7.33  4.55\n",
              "1        2.03  Very Good     J     SI2   62.0   58.0  8.06  8.12  5.05\n",
              "2        0.70      Ideal     G     VS1   61.2   57.0  5.69  5.73  3.50\n",
              "3        0.32      Ideal     G     VS1   61.6   56.0  4.38  4.41  2.71\n",
              "4        1.70    Premium     G     VS2   62.6   59.0  7.65  7.61  4.77\n",
              "...       ...        ...   ...     ...    ...    ...   ...   ...   ...\n",
              "193568   0.31      Ideal     D    VVS2   61.1   56.0  4.35  4.39  2.67\n",
              "193569   0.70    Premium     G    VVS2   60.3   58.0  5.75  5.77  3.47\n",
              "193570   0.73  Very Good     F     SI1   63.1   57.0  5.72  5.75  3.62\n",
              "193571   0.34  Very Good     D     SI1   62.9   55.0  4.45  4.49  2.81\n",
              "193572   0.71       Good     E     SI2   60.8   64.0  5.73  5.71  3.48\n",
              "\n",
              "[193573 rows x 9 columns]"
            ]
          },
          "execution_count": 20,
          "metadata": {},
          "output_type": "execute_result"
        }
      ],
      "source": [
        "X"
      ]
    },
    {
      "cell_type": "code",
      "execution_count": null,
      "metadata": {
        "id": "hOpjzaJtsv-j",
        "outputId": "6e29f8ba-1de9-4c38-b82e-922dff9a4ded"
      },
      "outputs": [
        {
          "data": {
            "text/plain": [
              "0         13619\n",
              "1         13387\n",
              "2          2772\n",
              "3           666\n",
              "4         14453\n",
              "          ...  \n",
              "193568     1130\n",
              "193569     2874\n",
              "193570     3036\n",
              "193571      681\n",
              "193572     2258\n",
              "Name: price, Length: 193573, dtype: int64"
            ]
          },
          "execution_count": 21,
          "metadata": {},
          "output_type": "execute_result"
        }
      ],
      "source": [
        "y"
      ]
    },
    {
      "cell_type": "code",
      "execution_count": null,
      "metadata": {
        "id": "Z37koBnosv-j"
      },
      "outputs": [],
      "source": [
        "from sklearn.model_selection import train_test_split\n",
        "\n",
        "X_train,X_test,y_train,y_test=train_test_split(X,y,test_size=0.30, random_state=42)"
      ]
    },
    {
      "cell_type": "code",
      "execution_count": null,
      "metadata": {
        "id": "znz7iRF7sv-j",
        "outputId": "5a20a54f-bd5d-4e94-a3eb-701137201459"
      },
      "outputs": [
        {
          "data": {
            "text/plain": [
              "(58072, 9)"
            ]
          },
          "execution_count": 23,
          "metadata": {},
          "output_type": "execute_result"
        }
      ],
      "source": [
        "X_test.shape"
      ]
    },
    {
      "cell_type": "code",
      "execution_count": null,
      "metadata": {
        "id": "7CUBTfMqsv-k",
        "outputId": "f3166a7a-dbfd-4b48-e5f1-376be9a35e10"
      },
      "outputs": [
        {
          "data": {
            "text/plain": [
              "11504      1181\n",
              "95284      7418\n",
              "184777    12755\n",
              "5419       1020\n",
              "45466       445\n",
              "Name: price, dtype: int64"
            ]
          },
          "execution_count": 24,
          "metadata": {},
          "output_type": "execute_result"
        }
      ],
      "source": [
        "y_train.head()"
      ]
    },
    {
      "cell_type": "code",
      "execution_count": null,
      "metadata": {
        "id": "EJJIA9U_sv-k",
        "outputId": "b765c21d-2078-4df1-b631-f856d9284ecb"
      },
      "outputs": [
        {
          "data": {
            "text/plain": [
              "array([[-0.82314374, -1.12998781, -0.64189666, ...,  4.        ,\n",
              "         1.        ,  5.        ],\n",
              "       [ 0.94502267, -1.77782269,  0.92190185, ...,  2.        ,\n",
              "         4.        ,  4.        ],\n",
              "       [ 1.9584839 ,  0.16568195,  0.40063568, ...,  3.        ,\n",
              "         4.        ,  3.        ],\n",
              "       ...,\n",
              "       [ 0.92345966,  0.90606467,  0.40063568, ...,  3.        ,\n",
              "         3.        ,  3.        ],\n",
              "       [-1.03877378, -0.66724861, -0.64189666, ...,  2.        ,\n",
              "         3.        ,  6.        ],\n",
              "       [-1.03877378, -0.01941373,  0.92190185, ...,  2.        ,\n",
              "         3.        ,  1.        ]])"
            ]
          },
          "execution_count": 25,
          "metadata": {},
          "output_type": "execute_result"
        }
      ],
      "source": [
        "preprocessor.fit_transform(X_train)"
      ]
    },
    {
      "cell_type": "code",
      "execution_count": null,
      "metadata": {
        "id": "v2FTAAhhsv-k",
        "outputId": "28a54479-53d8-4622-b7e0-adc103266a6a"
      },
      "outputs": [
        {
          "data": {
            "text/plain": [
              "array([[-0.62907669,  0.25822979, -0.12063049, ...,  4.        ,\n",
              "         0.        ,  2.        ],\n",
              "       [ 2.60537405, -2.14801405, -0.12063049, ...,  2.        ,\n",
              "         3.        ,  1.        ],\n",
              "       [-1.1250258 , -1.22253565,  0.92190185, ...,  3.        ,\n",
              "         1.        ,  6.        ],\n",
              "       ...,\n",
              "       [-0.82314374, -0.01941373, -0.64189666, ...,  4.        ,\n",
              "         3.        ,  6.        ],\n",
              "       [ 0.90189666, -0.66724861,  1.44316802, ...,  3.        ,\n",
              "         5.        ,  2.        ],\n",
              "       [ 0.47063656,  0.90606467, -0.64189666, ...,  2.        ,\n",
              "         1.        ,  3.        ]])"
            ]
          },
          "execution_count": 26,
          "metadata": {},
          "output_type": "execute_result"
        }
      ],
      "source": [
        "preprocessor.transform(X_test)"
      ]
    },
    {
      "cell_type": "code",
      "execution_count": null,
      "metadata": {
        "id": "DUXotqmisv-l",
        "outputId": "3808bb3e-2304-46b1-ddd5-9638b35ba444"
      },
      "outputs": [
        {
          "data": {
            "text/plain": [
              "array(['num_pipeline__carat', 'num_pipeline__depth',\n",
              "       'num_pipeline__table', 'num_pipeline__x', 'num_pipeline__y',\n",
              "       'num_pipeline__z', 'cat_pipeline__cut', 'cat_pipeline__color',\n",
              "       'cat_pipeline__clarity'], dtype=object)"
            ]
          },
          "execution_count": 27,
          "metadata": {},
          "output_type": "execute_result"
        }
      ],
      "source": [
        "preprocessor.get_feature_names_out()"
      ]
    },
    {
      "cell_type": "code",
      "execution_count": null,
      "metadata": {
        "id": "qX-UVWizsv-l"
      },
      "outputs": [],
      "source": [
        "X_train=pd.DataFrame(preprocessor.fit_transform(X_train),columns=preprocessor.get_feature_names_out())\n",
        "X_test=pd.DataFrame(preprocessor.transform(X_test),columns=preprocessor.get_feature_names_out())"
      ]
    },
    {
      "cell_type": "code",
      "execution_count": null,
      "metadata": {
        "id": "zx1jkSPAsv-l",
        "outputId": "903249de-b16c-4fdc-b033-0e359774c05b"
      },
      "outputs": [
        {
          "data": {
            "text/html": [
              "<div>\n",
              "<style scoped>\n",
              "    .dataframe tbody tr th:only-of-type {\n",
              "        vertical-align: middle;\n",
              "    }\n",
              "\n",
              "    .dataframe tbody tr th {\n",
              "        vertical-align: top;\n",
              "    }\n",
              "\n",
              "    .dataframe thead th {\n",
              "        text-align: right;\n",
              "    }\n",
              "</style>\n",
              "<table border=\"1\" class=\"dataframe\">\n",
              "  <thead>\n",
              "    <tr style=\"text-align: right;\">\n",
              "      <th></th>\n",
              "      <th>num_pipeline__carat</th>\n",
              "      <th>num_pipeline__depth</th>\n",
              "      <th>num_pipeline__table</th>\n",
              "      <th>num_pipeline__x</th>\n",
              "      <th>num_pipeline__y</th>\n",
              "      <th>num_pipeline__z</th>\n",
              "      <th>cat_pipeline__cut</th>\n",
              "      <th>cat_pipeline__color</th>\n",
              "      <th>cat_pipeline__clarity</th>\n",
              "    </tr>\n",
              "  </thead>\n",
              "  <tbody>\n",
              "    <tr>\n",
              "      <th>0</th>\n",
              "      <td>-0.823144</td>\n",
              "      <td>-1.129988</td>\n",
              "      <td>-0.641897</td>\n",
              "      <td>-0.780451</td>\n",
              "      <td>-0.835103</td>\n",
              "      <td>-0.876024</td>\n",
              "      <td>4.0</td>\n",
              "      <td>1.0</td>\n",
              "      <td>5.0</td>\n",
              "    </tr>\n",
              "    <tr>\n",
              "      <th>1</th>\n",
              "      <td>0.945023</td>\n",
              "      <td>-1.777823</td>\n",
              "      <td>0.921902</td>\n",
              "      <td>1.073226</td>\n",
              "      <td>1.166389</td>\n",
              "      <td>0.946633</td>\n",
              "      <td>2.0</td>\n",
              "      <td>4.0</td>\n",
              "      <td>4.0</td>\n",
              "    </tr>\n",
              "    <tr>\n",
              "      <th>2</th>\n",
              "      <td>1.958484</td>\n",
              "      <td>0.165682</td>\n",
              "      <td>0.400636</td>\n",
              "      <td>1.703116</td>\n",
              "      <td>1.755063</td>\n",
              "      <td>1.742237</td>\n",
              "      <td>3.0</td>\n",
              "      <td>4.0</td>\n",
              "      <td>3.0</td>\n",
              "    </tr>\n",
              "    <tr>\n",
              "      <th>3</th>\n",
              "      <td>-0.995648</td>\n",
              "      <td>-0.574701</td>\n",
              "      <td>-0.641897</td>\n",
              "      <td>-1.122391</td>\n",
              "      <td>-1.161138</td>\n",
              "      <td>-1.165334</td>\n",
              "      <td>4.0</td>\n",
              "      <td>2.0</td>\n",
              "      <td>6.0</td>\n",
              "    </tr>\n",
              "    <tr>\n",
              "      <th>4</th>\n",
              "      <td>-0.995648</td>\n",
              "      <td>0.258230</td>\n",
              "      <td>0.400636</td>\n",
              "      <td>-1.176382</td>\n",
              "      <td>-1.152082</td>\n",
              "      <td>-1.136403</td>\n",
              "      <td>2.0</td>\n",
              "      <td>5.0</td>\n",
              "      <td>2.0</td>\n",
              "    </tr>\n",
              "    <tr>\n",
              "      <th>...</th>\n",
              "      <td>...</td>\n",
              "      <td>...</td>\n",
              "      <td>...</td>\n",
              "      <td>...</td>\n",
              "      <td>...</td>\n",
              "      <td>...</td>\n",
              "      <td>...</td>\n",
              "      <td>...</td>\n",
              "      <td>...</td>\n",
              "    </tr>\n",
              "    <tr>\n",
              "      <th>135496</th>\n",
              "      <td>-0.629077</td>\n",
              "      <td>-1.500179</td>\n",
              "      <td>1.964434</td>\n",
              "      <td>-0.546492</td>\n",
              "      <td>-0.518125</td>\n",
              "      <td>-0.644575</td>\n",
              "      <td>2.0</td>\n",
              "      <td>1.0</td>\n",
              "      <td>2.0</td>\n",
              "    </tr>\n",
              "    <tr>\n",
              "      <th>135497</th>\n",
              "      <td>2.411307</td>\n",
              "      <td>0.443325</td>\n",
              "      <td>2.485700</td>\n",
              "      <td>1.919078</td>\n",
              "      <td>1.872797</td>\n",
              "      <td>1.930288</td>\n",
              "      <td>2.0</td>\n",
              "      <td>2.0</td>\n",
              "      <td>2.0</td>\n",
              "    </tr>\n",
              "    <tr>\n",
              "      <th>135498</th>\n",
              "      <td>0.923460</td>\n",
              "      <td>0.906065</td>\n",
              "      <td>0.400636</td>\n",
              "      <td>0.992240</td>\n",
              "      <td>0.921862</td>\n",
              "      <td>1.047891</td>\n",
              "      <td>3.0</td>\n",
              "      <td>3.0</td>\n",
              "      <td>3.0</td>\n",
              "    </tr>\n",
              "    <tr>\n",
              "      <th>135499</th>\n",
              "      <td>-1.038774</td>\n",
              "      <td>-0.667249</td>\n",
              "      <td>-0.641897</td>\n",
              "      <td>-1.212375</td>\n",
              "      <td>-1.197364</td>\n",
              "      <td>-1.252127</td>\n",
              "      <td>2.0</td>\n",
              "      <td>3.0</td>\n",
              "      <td>6.0</td>\n",
              "    </tr>\n",
              "    <tr>\n",
              "      <th>135500</th>\n",
              "      <td>-1.038774</td>\n",
              "      <td>-0.019414</td>\n",
              "      <td>0.921902</td>\n",
              "      <td>-1.239371</td>\n",
              "      <td>-1.215477</td>\n",
              "      <td>-1.208731</td>\n",
              "      <td>2.0</td>\n",
              "      <td>3.0</td>\n",
              "      <td>1.0</td>\n",
              "    </tr>\n",
              "  </tbody>\n",
              "</table>\n",
              "<p>135501 rows × 9 columns</p>\n",
              "</div>"
            ],
            "text/plain": [
              "        num_pipeline__carat  num_pipeline__depth  num_pipeline__table  \\\n",
              "0                 -0.823144            -1.129988            -0.641897   \n",
              "1                  0.945023            -1.777823             0.921902   \n",
              "2                  1.958484             0.165682             0.400636   \n",
              "3                 -0.995648            -0.574701            -0.641897   \n",
              "4                 -0.995648             0.258230             0.400636   \n",
              "...                     ...                  ...                  ...   \n",
              "135496            -0.629077            -1.500179             1.964434   \n",
              "135497             2.411307             0.443325             2.485700   \n",
              "135498             0.923460             0.906065             0.400636   \n",
              "135499            -1.038774            -0.667249            -0.641897   \n",
              "135500            -1.038774            -0.019414             0.921902   \n",
              "\n",
              "        num_pipeline__x  num_pipeline__y  num_pipeline__z  cat_pipeline__cut  \\\n",
              "0             -0.780451        -0.835103        -0.876024                4.0   \n",
              "1              1.073226         1.166389         0.946633                2.0   \n",
              "2              1.703116         1.755063         1.742237                3.0   \n",
              "3             -1.122391        -1.161138        -1.165334                4.0   \n",
              "4             -1.176382        -1.152082        -1.136403                2.0   \n",
              "...                 ...              ...              ...                ...   \n",
              "135496        -0.546492        -0.518125        -0.644575                2.0   \n",
              "135497         1.919078         1.872797         1.930288                2.0   \n",
              "135498         0.992240         0.921862         1.047891                3.0   \n",
              "135499        -1.212375        -1.197364        -1.252127                2.0   \n",
              "135500        -1.239371        -1.215477        -1.208731                2.0   \n",
              "\n",
              "        cat_pipeline__color  cat_pipeline__clarity  \n",
              "0                       1.0                    5.0  \n",
              "1                       4.0                    4.0  \n",
              "2                       4.0                    3.0  \n",
              "3                       2.0                    6.0  \n",
              "4                       5.0                    2.0  \n",
              "...                     ...                    ...  \n",
              "135496                  1.0                    2.0  \n",
              "135497                  2.0                    2.0  \n",
              "135498                  3.0                    3.0  \n",
              "135499                  3.0                    6.0  \n",
              "135500                  3.0                    1.0  \n",
              "\n",
              "[135501 rows x 9 columns]"
            ]
          },
          "execution_count": 29,
          "metadata": {},
          "output_type": "execute_result"
        }
      ],
      "source": [
        "X_train"
      ]
    },
    {
      "cell_type": "code",
      "execution_count": null,
      "metadata": {
        "id": "a0LkRqHVsv-l",
        "outputId": "44bcc39d-dd31-41a9-91ec-367ccb97eede"
      },
      "outputs": [
        {
          "data": {
            "text/html": [
              "<div>\n",
              "<style scoped>\n",
              "    .dataframe tbody tr th:only-of-type {\n",
              "        vertical-align: middle;\n",
              "    }\n",
              "\n",
              "    .dataframe tbody tr th {\n",
              "        vertical-align: top;\n",
              "    }\n",
              "\n",
              "    .dataframe thead th {\n",
              "        text-align: right;\n",
              "    }\n",
              "</style>\n",
              "<table border=\"1\" class=\"dataframe\">\n",
              "  <thead>\n",
              "    <tr style=\"text-align: right;\">\n",
              "      <th></th>\n",
              "      <th>num_pipeline__carat</th>\n",
              "      <th>num_pipeline__depth</th>\n",
              "      <th>num_pipeline__table</th>\n",
              "      <th>num_pipeline__x</th>\n",
              "      <th>num_pipeline__y</th>\n",
              "      <th>num_pipeline__z</th>\n",
              "      <th>cat_pipeline__cut</th>\n",
              "      <th>cat_pipeline__color</th>\n",
              "      <th>cat_pipeline__clarity</th>\n",
              "    </tr>\n",
              "  </thead>\n",
              "  <tbody>\n",
              "    <tr>\n",
              "      <th>0</th>\n",
              "      <td>-0.629077</td>\n",
              "      <td>0.258230</td>\n",
              "      <td>-0.120630</td>\n",
              "      <td>-0.600482</td>\n",
              "      <td>-0.581521</td>\n",
              "      <td>-0.572248</td>\n",
              "      <td>4.0</td>\n",
              "      <td>0.0</td>\n",
              "      <td>2.0</td>\n",
              "    </tr>\n",
              "    <tr>\n",
              "      <th>1</th>\n",
              "      <td>2.605374</td>\n",
              "      <td>-2.148014</td>\n",
              "      <td>-0.120630</td>\n",
              "      <td>2.126042</td>\n",
              "      <td>2.198832</td>\n",
              "      <td>1.959219</td>\n",
              "      <td>2.0</td>\n",
              "      <td>3.0</td>\n",
              "      <td>1.0</td>\n",
              "    </tr>\n",
              "    <tr>\n",
              "      <th>2</th>\n",
              "      <td>-1.125026</td>\n",
              "      <td>-1.222536</td>\n",
              "      <td>0.921902</td>\n",
              "      <td>-1.374347</td>\n",
              "      <td>-1.414721</td>\n",
              "      <td>-1.469110</td>\n",
              "      <td>3.0</td>\n",
              "      <td>1.0</td>\n",
              "      <td>6.0</td>\n",
              "    </tr>\n",
              "    <tr>\n",
              "      <th>3</th>\n",
              "      <td>-1.017211</td>\n",
              "      <td>-0.574701</td>\n",
              "      <td>0.921902</td>\n",
              "      <td>-1.158385</td>\n",
              "      <td>-1.161138</td>\n",
              "      <td>-1.194265</td>\n",
              "      <td>3.0</td>\n",
              "      <td>5.0</td>\n",
              "      <td>6.0</td>\n",
              "    </tr>\n",
              "    <tr>\n",
              "      <th>4</th>\n",
              "      <td>0.858771</td>\n",
              "      <td>0.628421</td>\n",
              "      <td>-0.641897</td>\n",
              "      <td>0.947248</td>\n",
              "      <td>0.985258</td>\n",
              "      <td>1.004495</td>\n",
              "      <td>4.0</td>\n",
              "      <td>4.0</td>\n",
              "      <td>2.0</td>\n",
              "    </tr>\n",
              "    <tr>\n",
              "      <th>...</th>\n",
              "      <td>...</td>\n",
              "      <td>...</td>\n",
              "      <td>...</td>\n",
              "      <td>...</td>\n",
              "      <td>...</td>\n",
              "      <td>...</td>\n",
              "      <td>...</td>\n",
              "      <td>...</td>\n",
              "      <td>...</td>\n",
              "    </tr>\n",
              "    <tr>\n",
              "      <th>58067</th>\n",
              "      <td>0.255007</td>\n",
              "      <td>0.535873</td>\n",
              "      <td>0.921902</td>\n",
              "      <td>0.416340</td>\n",
              "      <td>0.369414</td>\n",
              "      <td>0.425874</td>\n",
              "      <td>2.0</td>\n",
              "      <td>5.0</td>\n",
              "      <td>1.0</td>\n",
              "    </tr>\n",
              "    <tr>\n",
              "      <th>58068</th>\n",
              "      <td>-0.607514</td>\n",
              "      <td>0.535873</td>\n",
              "      <td>-0.641897</td>\n",
              "      <td>-0.528495</td>\n",
              "      <td>-0.554351</td>\n",
              "      <td>-0.499920</td>\n",
              "      <td>4.0</td>\n",
              "      <td>0.0</td>\n",
              "      <td>3.0</td>\n",
              "    </tr>\n",
              "    <tr>\n",
              "      <th>58069</th>\n",
              "      <td>-0.823144</td>\n",
              "      <td>-0.019414</td>\n",
              "      <td>-0.641897</td>\n",
              "      <td>-0.834441</td>\n",
              "      <td>-0.862273</td>\n",
              "      <td>-0.847093</td>\n",
              "      <td>4.0</td>\n",
              "      <td>3.0</td>\n",
              "      <td>6.0</td>\n",
              "    </tr>\n",
              "    <tr>\n",
              "      <th>58070</th>\n",
              "      <td>0.901897</td>\n",
              "      <td>-0.667249</td>\n",
              "      <td>1.443168</td>\n",
              "      <td>1.046230</td>\n",
              "      <td>0.967145</td>\n",
              "      <td>0.932167</td>\n",
              "      <td>3.0</td>\n",
              "      <td>5.0</td>\n",
              "      <td>2.0</td>\n",
              "    </tr>\n",
              "    <tr>\n",
              "      <th>58071</th>\n",
              "      <td>0.470637</td>\n",
              "      <td>0.906065</td>\n",
              "      <td>-0.641897</td>\n",
              "      <td>0.551317</td>\n",
              "      <td>0.668280</td>\n",
              "      <td>0.700719</td>\n",
              "      <td>2.0</td>\n",
              "      <td>1.0</td>\n",
              "      <td>3.0</td>\n",
              "    </tr>\n",
              "  </tbody>\n",
              "</table>\n",
              "<p>58072 rows × 9 columns</p>\n",
              "</div>"
            ],
            "text/plain": [
              "       num_pipeline__carat  num_pipeline__depth  num_pipeline__table  \\\n",
              "0                -0.629077             0.258230            -0.120630   \n",
              "1                 2.605374            -2.148014            -0.120630   \n",
              "2                -1.125026            -1.222536             0.921902   \n",
              "3                -1.017211            -0.574701             0.921902   \n",
              "4                 0.858771             0.628421            -0.641897   \n",
              "...                    ...                  ...                  ...   \n",
              "58067             0.255007             0.535873             0.921902   \n",
              "58068            -0.607514             0.535873            -0.641897   \n",
              "58069            -0.823144            -0.019414            -0.641897   \n",
              "58070             0.901897            -0.667249             1.443168   \n",
              "58071             0.470637             0.906065            -0.641897   \n",
              "\n",
              "       num_pipeline__x  num_pipeline__y  num_pipeline__z  cat_pipeline__cut  \\\n",
              "0            -0.600482        -0.581521        -0.572248                4.0   \n",
              "1             2.126042         2.198832         1.959219                2.0   \n",
              "2            -1.374347        -1.414721        -1.469110                3.0   \n",
              "3            -1.158385        -1.161138        -1.194265                3.0   \n",
              "4             0.947248         0.985258         1.004495                4.0   \n",
              "...                ...              ...              ...                ...   \n",
              "58067         0.416340         0.369414         0.425874                2.0   \n",
              "58068        -0.528495        -0.554351        -0.499920                4.0   \n",
              "58069        -0.834441        -0.862273        -0.847093                4.0   \n",
              "58070         1.046230         0.967145         0.932167                3.0   \n",
              "58071         0.551317         0.668280         0.700719                2.0   \n",
              "\n",
              "       cat_pipeline__color  cat_pipeline__clarity  \n",
              "0                      0.0                    2.0  \n",
              "1                      3.0                    1.0  \n",
              "2                      1.0                    6.0  \n",
              "3                      5.0                    6.0  \n",
              "4                      4.0                    2.0  \n",
              "...                    ...                    ...  \n",
              "58067                  5.0                    1.0  \n",
              "58068                  0.0                    3.0  \n",
              "58069                  3.0                    6.0  \n",
              "58070                  5.0                    2.0  \n",
              "58071                  1.0                    3.0  \n",
              "\n",
              "[58072 rows x 9 columns]"
            ]
          },
          "execution_count": 30,
          "metadata": {},
          "output_type": "execute_result"
        }
      ],
      "source": [
        "X_test"
      ]
    },
    {
      "cell_type": "code",
      "execution_count": null,
      "metadata": {
        "id": "kGkw2PVPsv-m"
      },
      "outputs": [],
      "source": []
    },
    {
      "cell_type": "markdown",
      "metadata": {
        "id": "mI-ToT7vsv-m"
      },
      "source": [
        "# model training"
      ]
    },
    {
      "cell_type": "code",
      "execution_count": null,
      "metadata": {
        "id": "tnl5PCNxsv-m"
      },
      "outputs": [],
      "source": [
        "from xgboost import XGBRegressor\n",
        "from sklearn.ensemble import RandomForestRegressor\n",
        "from sklearn.linear_model import LinearRegression,Lasso,Ridge,ElasticNet\n",
        "from sklearn.metrics import r2_score,mean_absolute_error,mean_squared_error"
      ]
    },
    {
      "cell_type": "code",
      "execution_count": null,
      "metadata": {
        "id": "OE_yKKOxsv-m",
        "outputId": "9615e7d2-1686-4cb4-e3f6-1cb54eaa1193"
      },
      "outputs": [
        {
          "name": "stdout",
          "output_type": "stream",
          "text": [
            "Collecting xgboost\n",
            "  Downloading xgboost-2.0.3-py3-none-manylinux2014_x86_64.whl.metadata (2.0 kB)\n",
            "Requirement already satisfied: numpy in /config/workspace/env/lib/python3.8/site-packages (from xgboost) (1.24.4)\n",
            "Requirement already satisfied: scipy in /config/workspace/env/lib/python3.8/site-packages (from xgboost) (1.10.1)\n",
            "Downloading xgboost-2.0.3-py3-none-manylinux2014_x86_64.whl (297.1 MB)\n",
            "\u001b[2K   \u001b[90m━━━━━━━━━━━━━━━━━━━━━━━━━━━━━━━━━━━━━━━━\u001b[0m \u001b[32m297.1/297.1 MB\u001b[0m \u001b[31m7.3 MB/s\u001b[0m eta \u001b[36m0:00:00\u001b[0m:00:01\u001b[0m00:01\u001b[0m\n",
            "\u001b[?25hInstalling collected packages: xgboost\n",
            "Successfully installed xgboost-2.0.3\n"
          ]
        }
      ],
      "source": [
        "!pip install xgboost"
      ]
    },
    {
      "cell_type": "code",
      "execution_count": null,
      "metadata": {
        "id": "H7mQduuCsv-n"
      },
      "outputs": [],
      "source": [
        "models={\n",
        "\n",
        "    'LinearRegression':LinearRegression(),\n",
        "    'Lasso':Lasso(),\n",
        "    'Ridge':Ridge(),\n",
        "    'Elasticnet':ElasticNet(),\n",
        "    'Randomforest':RandomForestRegressor(),\n",
        "    'xgboost':XGBRegressor()\n",
        "\n",
        "}"
      ]
    },
    {
      "cell_type": "code",
      "execution_count": null,
      "metadata": {
        "id": "GdUUnD3bsv-n"
      },
      "outputs": [],
      "source": [
        "trained_model_list=[]\n",
        "model_list=[]\n",
        "r2_list=[]"
      ]
    },
    {
      "cell_type": "code",
      "execution_count": null,
      "metadata": {
        "id": "xwJlyZeUsv-n",
        "outputId": "fbdc47d5-56ba-47d1-a22c-9714c8cb14fe"
      },
      "outputs": [
        {
          "data": {
            "text/plain": [
              "['LinearRegression', 'Lasso', 'Ridge', 'Elasticnet', 'Randomforest', 'xgboost']"
            ]
          },
          "execution_count": 40,
          "metadata": {},
          "output_type": "execute_result"
        }
      ],
      "source": [
        "list(models)"
      ]
    },
    {
      "cell_type": "code",
      "execution_count": null,
      "metadata": {
        "id": "jCIbQcmKsv-n",
        "outputId": "1e6aeba9-798e-4437-ead9-7f4e4956edf6"
      },
      "outputs": [
        {
          "name": "stdout",
          "output_type": "stream",
          "text": [
            "LinearRegression()\n",
            "Lasso()\n",
            "Ridge()\n",
            "ElasticNet()\n",
            "RandomForestRegressor()\n",
            "XGBRegressor(base_score=None, booster=None, callbacks=None,\n",
            "             colsample_bylevel=None, colsample_bynode=None,\n",
            "             colsample_bytree=None, device=None, early_stopping_rounds=None,\n",
            "             enable_categorical=False, eval_metric=None, feature_types=None,\n",
            "             gamma=None, grow_policy=None, importance_type=None,\n",
            "             interaction_constraints=None, learning_rate=None, max_bin=None,\n",
            "             max_cat_threshold=None, max_cat_to_onehot=None,\n",
            "             max_delta_step=None, max_depth=None, max_leaves=None,\n",
            "             min_child_weight=None, missing=nan, monotone_constraints=None,\n",
            "             multi_strategy=None, n_estimators=None, n_jobs=None,\n",
            "             num_parallel_tree=None, random_state=None, ...)\n"
          ]
        }
      ],
      "source": [
        "for i in range(len(list(models))):\n",
        "    model=list(models.values())[i]\n",
        "    print(model)\n",
        ""
      ]
    },
    {
      "cell_type": "code",
      "execution_count": null,
      "metadata": {
        "id": "iXkrCOuCsv-o",
        "outputId": "6464f459-9e9f-4d63-f05e-63e9bab7ac65"
      },
      "outputs": [
        {
          "data": {
            "text/plain": [
              "dict_keys(['LinearRegression', 'Lasso', 'Ridge', 'Elasticnet', 'Randomforest', 'xgboost'])"
            ]
          },
          "execution_count": 46,
          "metadata": {},
          "output_type": "execute_result"
        }
      ],
      "source": [
        "models.keys()"
      ]
    },
    {
      "cell_type": "code",
      "execution_count": null,
      "metadata": {
        "id": "fjWrTAJ0sv-o",
        "outputId": "68c9b8a6-5d43-49b0-e3e4-3c02b8ec1e34"
      },
      "outputs": [
        {
          "data": {
            "text/html": [
              "<style>#sk-container-id-1 {color: black;}#sk-container-id-1 pre{padding: 0;}#sk-container-id-1 div.sk-toggleable {background-color: white;}#sk-container-id-1 label.sk-toggleable__label {cursor: pointer;display: block;width: 100%;margin-bottom: 0;padding: 0.3em;box-sizing: border-box;text-align: center;}#sk-container-id-1 label.sk-toggleable__label-arrow:before {content: \"▸\";float: left;margin-right: 0.25em;color: #696969;}#sk-container-id-1 label.sk-toggleable__label-arrow:hover:before {color: black;}#sk-container-id-1 div.sk-estimator:hover label.sk-toggleable__label-arrow:before {color: black;}#sk-container-id-1 div.sk-toggleable__content {max-height: 0;max-width: 0;overflow: hidden;text-align: left;background-color: #f0f8ff;}#sk-container-id-1 div.sk-toggleable__content pre {margin: 0.2em;color: black;border-radius: 0.25em;background-color: #f0f8ff;}#sk-container-id-1 input.sk-toggleable__control:checked~div.sk-toggleable__content {max-height: 200px;max-width: 100%;overflow: auto;}#sk-container-id-1 input.sk-toggleable__control:checked~label.sk-toggleable__label-arrow:before {content: \"▾\";}#sk-container-id-1 div.sk-estimator input.sk-toggleable__control:checked~label.sk-toggleable__label {background-color: #d4ebff;}#sk-container-id-1 div.sk-label input.sk-toggleable__control:checked~label.sk-toggleable__label {background-color: #d4ebff;}#sk-container-id-1 input.sk-hidden--visually {border: 0;clip: rect(1px 1px 1px 1px);clip: rect(1px, 1px, 1px, 1px);height: 1px;margin: -1px;overflow: hidden;padding: 0;position: absolute;width: 1px;}#sk-container-id-1 div.sk-estimator {font-family: monospace;background-color: #f0f8ff;border: 1px dotted black;border-radius: 0.25em;box-sizing: border-box;margin-bottom: 0.5em;}#sk-container-id-1 div.sk-estimator:hover {background-color: #d4ebff;}#sk-container-id-1 div.sk-parallel-item::after {content: \"\";width: 100%;border-bottom: 1px solid gray;flex-grow: 1;}#sk-container-id-1 div.sk-label:hover label.sk-toggleable__label {background-color: #d4ebff;}#sk-container-id-1 div.sk-serial::before {content: \"\";position: absolute;border-left: 1px solid gray;box-sizing: border-box;top: 0;bottom: 0;left: 50%;z-index: 0;}#sk-container-id-1 div.sk-serial {display: flex;flex-direction: column;align-items: center;background-color: white;padding-right: 0.2em;padding-left: 0.2em;position: relative;}#sk-container-id-1 div.sk-item {position: relative;z-index: 1;}#sk-container-id-1 div.sk-parallel {display: flex;align-items: stretch;justify-content: center;background-color: white;position: relative;}#sk-container-id-1 div.sk-item::before, #sk-container-id-1 div.sk-parallel-item::before {content: \"\";position: absolute;border-left: 1px solid gray;box-sizing: border-box;top: 0;bottom: 0;left: 50%;z-index: -1;}#sk-container-id-1 div.sk-parallel-item {display: flex;flex-direction: column;z-index: 1;position: relative;background-color: white;}#sk-container-id-1 div.sk-parallel-item:first-child::after {align-self: flex-end;width: 50%;}#sk-container-id-1 div.sk-parallel-item:last-child::after {align-self: flex-start;width: 50%;}#sk-container-id-1 div.sk-parallel-item:only-child::after {width: 0;}#sk-container-id-1 div.sk-dashed-wrapped {border: 1px dashed gray;margin: 0 0.4em 0.5em 0.4em;box-sizing: border-box;padding-bottom: 0.4em;background-color: white;}#sk-container-id-1 div.sk-label label {font-family: monospace;font-weight: bold;display: inline-block;line-height: 1.2em;}#sk-container-id-1 div.sk-label-container {text-align: center;}#sk-container-id-1 div.sk-container {/* jupyter's `normalize.less` sets `[hidden] { display: none; }` but bootstrap.min.css set `[hidden] { display: none !important; }` so we also need the `!important` here to be able to override the default hidden behavior on the sphinx rendered scikit-learn.org. See: https://github.com/scikit-learn/scikit-learn/issues/21755 */display: inline-block !important;position: relative;}#sk-container-id-1 div.sk-text-repr-fallback {display: none;}</style><div id=\"sk-container-id-1\" class=\"sk-top-container\"><div class=\"sk-text-repr-fallback\"><pre>Lasso()</pre><b>In a Jupyter environment, please rerun this cell to show the HTML representation or trust the notebook. <br />On GitHub, the HTML representation is unable to render, please try loading this page with nbviewer.org.</b></div><div class=\"sk-container\" hidden><div class=\"sk-item\"><div class=\"sk-estimator sk-toggleable\"><input class=\"sk-toggleable__control sk-hidden--visually\" id=\"sk-estimator-id-1\" type=\"checkbox\" checked><label for=\"sk-estimator-id-1\" class=\"sk-toggleable__label sk-toggleable__label-arrow\">Lasso</label><div class=\"sk-toggleable__content\"><pre>Lasso()</pre></div></div></div></div></div>"
            ],
            "text/plain": [
              "Lasso()"
            ]
          },
          "execution_count": 49,
          "metadata": {},
          "output_type": "execute_result"
        }
      ],
      "source": [
        "list(models.values())[1]"
      ]
    },
    {
      "cell_type": "code",
      "execution_count": null,
      "metadata": {
        "id": "-0-O0BsAsv-o"
      },
      "outputs": [],
      "source": [
        "def evaluate_model(true,pred):\n",
        "    r2=r2_score(true,pred)\n",
        "    mae=mean_absolute_error(true,pred)\n",
        "    mse=mean_squared_error(true,pred)\n",
        "\n",
        "    return mae, mse,r2"
      ]
    },
    {
      "cell_type": "code",
      "execution_count": null,
      "metadata": {
        "id": "F7OCP0EGsv-o",
        "outputId": "a1729b4b-2084-4ef4-d1b4-0d099f345e71"
      },
      "outputs": [
        {
          "name": "stdout",
          "output_type": "stream",
          "text": [
            "model training performance\n",
            "MSE: 1029473.3531156892\n",
            "MAE: 675.075827006745\n",
            "R2 SCORE: 0.9362906819996045\n",
            "========================================\n",
            "\n",
            "\n",
            "model training performance\n",
            "MSE: 1029534.1175907081\n",
            "MAE: 676.3788803086727\n",
            "R2 SCORE: 0.9362869215688461\n",
            "========================================\n",
            "\n",
            "\n",
            "model training performance\n",
            "MSE: 1029482.8329815734\n",
            "MAE: 675.1087261318775\n",
            "R2 SCORE: 0.9362900953347935\n",
            "========================================\n",
            "\n",
            "\n",
            "model training performance\n",
            "MSE: 2291130.057094769\n",
            "MAE: 1051.172228186302\n",
            "R2 SCORE: 0.8582126162411592\n",
            "========================================\n",
            "\n",
            "\n",
            "model training performance\n",
            "MSE: 374295.40284731047\n",
            "MAE: 310.0230027616238\n",
            "R2 SCORE: 0.9768365982723929\n",
            "========================================\n",
            "\n",
            "\n",
            "model training performance\n",
            "MSE: 345616.14680618217\n",
            "MAE: 297.25052956080435\n",
            "R2 SCORE: 0.9786114240487077\n",
            "========================================\n",
            "\n",
            "\n"
          ]
        }
      ],
      "source": [
        "for i in range(len(list(models))):\n",
        "    model=list(models.values())[i]\n",
        "\n",
        "    model.fit(X_train,y_train)\n",
        "\n",
        "    #make_prediction\n",
        "    y_pred=model.predict(X_test)\n",
        "\n",
        "    #this is for the validaiton\n",
        "    MAE,MSE,R2=evaluate_model(y_test,y_pred)\n",
        "\n",
        "\n",
        "    print(\"model training performance\",model)\n",
        "    print(\"MSE:\", MSE)\n",
        "    print(\"MAE:\",MAE)\n",
        "    print(\"R2 SCORE:\",R2)\n",
        "\n",
        "    r2_list.append(R2)\n",
        "\n",
        "    print(\"=\"*40)\n",
        "    print(\"\\n\")\n",
        "\n",
        "\n",
        "\n",
        ""
      ]
    },
    {
      "cell_type": "code",
      "execution_count": null,
      "metadata": {
        "id": "X-R18mV5sv-p",
        "outputId": "36877f54-2eb5-4728-d9c3-556fe11638b5"
      },
      "outputs": [
        {
          "data": {
            "text/plain": [
              "[0.9362906819996045,\n",
              " 0.9362869215688461,\n",
              " 0.9362900953347935,\n",
              " 0.8582126162411592,\n",
              " 0.9768365982723929,\n",
              " 0.9786114240487077]"
            ]
          },
          "execution_count": 54,
          "metadata": {},
          "output_type": "execute_result"
        }
      ],
      "source": [
        "r2_list"
      ]
    },
    {
      "cell_type": "code",
      "execution_count": null,
      "metadata": {
        "id": "zst7TCx5sv-p",
        "outputId": "fcd4f079-c689-460b-a5fc-8a13c4e005b3"
      },
      "outputs": [
        {
          "data": {
            "text/plain": [
              "0.9786114240487077"
            ]
          },
          "execution_count": 53,
          "metadata": {},
          "output_type": "execute_result"
        }
      ],
      "source": [
        "max(r2_list)"
      ]
    },
    {
      "cell_type": "code",
      "execution_count": null,
      "metadata": {
        "id": "i4t64SDMsv-p"
      },
      "outputs": [],
      "source": [
        "import logging\n",
        "import os\n",
        "from datetime import datetime"
      ]
    },
    {
      "cell_type": "code",
      "execution_count": null,
      "metadata": {
        "id": "6OYWmKVjsv-q"
      },
      "outputs": [],
      "source": [
        "LOG_FILE=f\"{datetime.now().strftime('%m_%d_%Y_%H_%M_%S')}.log\"\n",
        "\n",
        "log_path=os.path.join(os.getcwd(),\"logs\")\n",
        "\n",
        "os.makedirs(log_path,exist_ok=True)\n",
        "\n",
        "LOG_FILEPATH=os.path.join(log_path,LOG_FILE)\n"
      ]
    },
    {
      "cell_type": "code",
      "execution_count": null,
      "metadata": {
        "id": "QAnwgMTwsv-q",
        "outputId": "75dd4254-7f17-41e6-c918-6d99d5e4f3bf"
      },
      "outputs": [
        {
          "data": {
            "text/plain": [
              "'/config/workspace/experiment/logs/01_10_2024_15_49_44.log'"
            ]
          },
          "execution_count": 6,
          "metadata": {},
          "output_type": "execute_result"
        }
      ],
      "source": [
        "LOG_FILEPATH"
      ]
    },
    {
      "cell_type": "code",
      "execution_count": null,
      "metadata": {
        "id": "vqvuCMdtsv-q"
      },
      "outputs": [],
      "source": [
        "logging.basicConfig(level=logging.INFO,\n",
        "                    filename=LOG_FILEPATH,\n",
        "                    format=\"[%(asctime)s] %(lineno)d %(name)s - %(levelname)s - %(message)s\"\n",
        "\n",
        ")\n"
      ]
    },
    {
      "cell_type": "code",
      "execution_count": null,
      "metadata": {
        "id": "35R2cqAesv-q"
      },
      "outputs": [],
      "source": [
        "logging.info(\"this is my test log\")"
      ]
    },
    {
      "cell_type": "code",
      "execution_count": null,
      "metadata": {
        "id": "490x81RLsv-r"
      },
      "outputs": [],
      "source": []
    }
  ],
  "metadata": {
    "kernelspec": {
      "display_name": "Python 3.8.18 64-bit ('env')",
      "language": "python",
      "name": "python3"
    },
    "language_info": {
      "codemirror_mode": {
        "name": "ipython",
        "version": 3
      },
      "file_extension": ".py",
      "mimetype": "text/x-python",
      "name": "python",
      "nbconvert_exporter": "python",
      "pygments_lexer": "ipython3",
      "version": "3.8.18"
    },
    "orig_nbformat": 4,
    "vscode": {
      "interpreter": {
        "hash": "6ee389b6fd5680d01c44917c1212b4c09ead7d0a63469ff6d06dd80212d603e1"
      }
    },
    "colab": {
      "provenance": []
    }
  },
  "nbformat": 4,
  "nbformat_minor": 0
}